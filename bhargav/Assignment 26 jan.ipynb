{
 "cells": [
  {
   "cell_type": "code",
   "execution_count": null,
   "metadata": {},
   "outputs": [],
   "source": [
    "a=int(input(\"please enter the number of people to travel\"))\n",
    "b=int(input(\"please enter the number of seats available in bus\"))\n",
    "t=a%b\n",
    "print(\"To trvel\",a+\"people we need\"t\" buses)"
   ]
  },
  {
   "cell_type": "code",
   "execution_count": null,
   "metadata": {},
   "outputs": [],
   "source": [
    "a=int(input(\"please enter the number of people to travel\"))\n",
    "b=int(input(\"please enter the number of seats available in bus\"))\n",
    "t=a%b\n",
    "print(\" We need \",t)"
   ]
  },
  {
   "cell_type": "code",
   "execution_count": null,
   "metadata": {},
   "outputs": [],
   "source": [
    "a=int(input(\"please enter the number of people to travel\"))\n",
    "b=int(input(\"please enter the number of seats available in bus\"))\n",
    "t=a%b\n",
    "print(t)"
   ]
  },
  {
   "cell_type": "code",
   "execution_count": 3,
   "metadata": {},
   "outputs": [
    {
     "name": "stdout",
     "output_type": "stream",
     "text": [
      "Please Enter the temperature in foreignheat98\n",
      "98.0 in celcious 36.67\n"
     ]
    }
   ],
   "source": [
    "t=float(input(\"Please Enter the temperature in foreignheat\"))\n",
    "c = (t - 32) * 5/9\n",
    "print(t,\"in celcious\",round(c,2))\n"
   ]
  },
  {
   "cell_type": "code",
   "execution_count": null,
   "metadata": {},
   "outputs": [],
   "source": [
    "t=float(input(\"Please Enter the temperature in foreignheat\"))\n",
    "c = (t - 32) * 5/9\n",
    "print(t,\"in celcious\",round(c,2))\n"
   ]
  },
  {
   "cell_type": "code",
   "execution_count": 5,
   "metadata": {},
   "outputs": [
    {
     "name": "stdout",
     "output_type": "stream",
     "text": [
      "Enter Celcius: 36.67\n",
      "Fahrenheit  98.006\n"
     ]
    }
   ],
   "source": [
    "t = float(input(\"Enter Celcius: \"))\n",
    "f = (9/5)*t + 32\n",
    "print(\"Fahrenheit \",f)"
   ]
  },
  {
   "cell_type": "code",
   "execution_count": 3,
   "metadata": {},
   "outputs": [
    {
     "name": "stdout",
     "output_type": "stream",
     "text": [
      "Please Enter the Kilometers = 5\n",
      "5 kilometers =  5000.0 meters \t 500000.0  centimeters \t 5000000.0 millimeters\t 5468.0664916885 yards 123508.0 cents\n",
      " 16404.0 feets\n",
      "\n"
     ]
    }
   ],
   "source": [
    "k = float(input(\"Please Enter the Kilometers = \"))\n",
    "\n",
    "meter = k * 1000\n",
    "\n",
    "centimeter = k * 100000\n",
    "\n",
    "millimeter = k * 1000000\n",
    "\n",
    "yard = k* 1093.6132983377\n",
    "\n",
    "cents = k * 24701.6\n",
    "\n",
    "feet = k * 3280.8\n",
    "\n",
    "print(int(k),\"kilometers = \",meter,\"meters \\t\",centimeter,\" centimeters \\t\",millimeter,\"millimeters\\t\",yard,\"yards\",cents,\"cents\\n\",feet,\"feets\\n\")"
   ]
  },
  {
   "cell_type": "code",
   "execution_count": 5,
   "metadata": {},
   "outputs": [
    {
     "name": "stdout",
     "output_type": "stream",
     "text": [
      "Enter the size of hard disc in GB2048\n",
      "2048 gb= 2097152 mb 2147483648 kb 2.0 tb 0.001953125 pb\n"
     ]
    }
   ],
   "source": [
    "gb = int(input(\"Enter the size of hard disc in GB\"))\n",
    "mb = gb * 1024\n",
    "kb = mb * 1024\n",
    "tb = gb / 1024\n",
    "pb = tb / 1024\n",
    "print(gb,\"gb=\",mb,\"mb\",kb,\"kb\",tb,\"tb\",pb,\"pb\")"
   ]
  },
  {
   "cell_type": "code",
   "execution_count": null,
   "metadata": {},
   "outputs": [],
   "source": [
    "name= input(\"Enter the name \")\n",
    "age= int(input(\"Enter the age\"))\n",
    "height = float(input(\"Enter height \"))\n",
    "print(\"name:\"+name,\"age:\"+str(age),\"height:\"+str(height))\n"
   ]
  },
  {
   "cell_type": "code",
   "execution_count": null,
   "metadata": {},
   "outputs": [],
   "source": [
    "height = float(input(\"Enter your height in cm: \"))\n",
    "weight = float(input(\"Enter your weight in kg: \"))\n",
    "BMI = weight / (height/100)**2\n",
    "print(\"BMI\",BMI)"
   ]
  },
  {
   "cell_type": "code",
   "execution_count": 2,
   "metadata": {},
   "outputs": [
    {
     "name": "stdout",
     "output_type": "stream",
     "text": [
      "Jayaram: age :1.6 height :3.54 weight :10.344\n"
     ]
    }
   ],
   "source": [
    "name=\"Jayaram\"\n",
    "age=1.6\n",
    "height=3.5356234\n",
    "weight=10.343856783\n",
    "\n",
    "print(\"%s:\"%name,\"age :%.1f\"%age,\"height :%.2f\"%height,\"weight :%.3f\"%weight)\n"
   ]
  },
  {
   "cell_type": "code",
   "execution_count": 7,
   "metadata": {},
   "outputs": [
    {
     "name": "stdout",
     "output_type": "stream",
     "text": [
      "Jayaram: age :1.6 height :3.54 weight :10.344\n",
      "Jayaram is 1.6 old he is of height 3.54 and weight 10.344kg\n"
     ]
    }
   ],
   "source": [
    "name=\"Jayaram\"\n",
    "age=1.6\n",
    "height=3.5356234\n",
    "weight=10.343856783\n",
    "\n",
    "print(\"%s:\"%name,\"age :%.1f\"%age,\"height :%.2f\"%height,\"weight :%.3f\"%weight)\n",
    "print(f\"{name} is {age} old he is of height {round(height,2)} and weight {round(weight,3)}kg\")"
   ]
  },
  {
   "cell_type": "code",
   "execution_count": 11,
   "metadata": {},
   "outputs": [
    {
     "name": "stdout",
     "output_type": "stream",
     "text": [
      "name is Jayaram height is3.54\n"
     ]
    }
   ],
   "source": [
    "name=\"Jayaram\"\n",
    "age=1.6\n",
    "height=3.5356234\n",
    "weight=10.343856783\n",
    "print(\"name is %s height is %.2f\"%(name,height))"
   ]
  },
  {
   "cell_type": "code",
   "execution_count": null,
   "metadata": {},
   "outputs": [],
   "source": [
    "import math\n",
    "\n",
    "x1=int(input(\"Enter x1 value\")\n",
    "x2=int(input(\"Enter x2 value\")\n",
    "x3=int(input(\"Enter x3 value\")\n",
    "x4=int(input(\"Enter x4 value\")\n",
    "\n",
    "y=(x1+x2)**2\n",
    "z=(x3+x4)**3\n",
    "print(\"(x1+x2)**2\",y)\n",
    "print(\"(x3+x4)**3\",z)"
   ]
  },
  {
   "cell_type": "code",
   "execution_count": null,
   "metadata": {},
   "outputs": [],
   "source": []
  }
 ],
 "metadata": {
  "kernelspec": {
   "display_name": "Python 3",
   "language": "python",
   "name": "python3"
  },
  "language_info": {
   "codemirror_mode": {
    "name": "ipython",
    "version": 3
   },
   "file_extension": ".py",
   "mimetype": "text/x-python",
   "name": "python",
   "nbconvert_exporter": "python",
   "pygments_lexer": "ipython3",
   "version": "3.7.4"
  }
 },
 "nbformat": 4,
 "nbformat_minor": 2
}
