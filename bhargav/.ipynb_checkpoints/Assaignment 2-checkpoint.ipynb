{
 "cells": [
  {
   "cell_type": "code",
   "execution_count": null,
   "metadata": {},
   "outputs": [],
   "source": [
    "a=input(\"enter a value:\")\n",
    "print(a, type(a))"
   ]
  },
  {
   "cell_type": "code",
   "execution_count": null,
   "metadata": {},
   "outputs": [],
   "source": [
    "print(\"It's very cool in my \\\"Village\\\" today.\")"
   ]
  },
  {
   "cell_type": "code",
   "execution_count": null,
   "metadata": {},
   "outputs": [],
   "source": [
    "print('It\\'s very cool in my \"Village\" today.')\n"
   ]
  },
  {
   "cell_type": "code",
   "execution_count": null,
   "metadata": {},
   "outputs": [],
   "source": [
    "print(\"Hyderabad is a capital of \\\"telangana\\\"which is of india\")"
   ]
  },
  {
   "cell_type": "code",
   "execution_count": null,
   "metadata": {},
   "outputs": [],
   "source": [
    "print(\"It's is a capital of \\\"telangana\\\"which is of india\")"
   ]
  },
  {
   "cell_type": "code",
   "execution_count": null,
   "metadata": {},
   "outputs": [],
   "source": [
    "print(\"It\\'s is a capital of \\\"telangana\\\"which is of india\")"
   ]
  },
  {
   "cell_type": "code",
   "execution_count": null,
   "metadata": {},
   "outputs": [],
   "source": [
    "a=23\n",
    "b=float(a)\n",
    "c=str(a)\n",
    "print(a, type(a))\n",
    "print(b,type(b))\n",
    "print(c, type(c))"
   ]
  },
  {
   "cell_type": "code",
   "execution_count": null,
   "metadata": {},
   "outputs": [],
   "source": [
    "a=\"1234\"\n",
    "b=int(a)\n",
    "print(a, type(a))\n",
    "print(b, type(b))\n"
   ]
  },
  {
   "cell_type": "code",
   "execution_count": null,
   "metadata": {},
   "outputs": [],
   "source": [
    "a=\"10.34\"\n",
    "b=float(a)\n",
    "c=int(b)\n",
    "print(a, type(a))\n",
    "print(b, type(b))\n",
    "print(c, type(c))"
   ]
  },
  {
   "cell_type": "code",
   "execution_count": null,
   "metadata": {},
   "outputs": [],
   "source": [
    "a=1\n",
    "print(bool(a))"
   ]
  },
  {
   "cell_type": "code",
   "execution_count": null,
   "metadata": {},
   "outputs": [],
   "source": [
    "b=0\n",
    "print(bool(b))"
   ]
  },
  {
   "cell_type": "code",
   "execution_count": null,
   "metadata": {},
   "outputs": [],
   "source": [
    "a=-10\n",
    "print(bool(a))\n"
   ]
  },
  {
   "cell_type": "code",
   "execution_count": null,
   "metadata": {},
   "outputs": [],
   "source": [
    "a=\"python\"\n",
    "print(bool(a))"
   ]
  },
  {
   "cell_type": "code",
   "execution_count": null,
   "metadata": {},
   "outputs": [],
   "source": [
    "a=\"\"\n",
    "print(bool(a))"
   ]
  },
  {
   "cell_type": "code",
   "execution_count": null,
   "metadata": {},
   "outputs": [],
   "source": [
    "a=[1,2,3,4,]\n",
    "print(bool(a))"
   ]
  },
  {
   "cell_type": "code",
   "execution_count": null,
   "metadata": {},
   "outputs": [],
   "source": [
    "a=[0]\n",
    "print(bool(a))"
   ]
  },
  {
   "cell_type": "code",
   "execution_count": null,
   "metadata": {},
   "outputs": [],
   "source": [
    "a=[]\n",
    "print(bool(a))"
   ]
  },
  {
   "cell_type": "code",
   "execution_count": null,
   "metadata": {},
   "outputs": [],
   "source": [
    "a=\"0\"\n",
    "print(bool(a))"
   ]
  },
  {
   "cell_type": "code",
   "execution_count": null,
   "metadata": {},
   "outputs": [],
   "source": [
    "a=\"\"\n",
    "print(bool(a))"
   ]
  },
  {
   "cell_type": "code",
   "execution_count": null,
   "metadata": {},
   "outputs": [],
   "source": [
    "a=0.0000\n",
    "print(bool(a))"
   ]
  },
  {
   "cell_type": "code",
   "execution_count": null,
   "metadata": {},
   "outputs": [],
   "source": [
    "a=(0,1)\n",
    "print(a, type(a))"
   ]
  },
  {
   "cell_type": "code",
   "execution_count": null,
   "metadata": {},
   "outputs": [],
   "source": [
    "print(\"program started\")\n",
    "a=10\n",
    "b=20\n",
    "print(\"a is big\")\n",
    "print(\"b is big\")\n",
    "print(\"program ended\")"
   ]
  },
  {
   "cell_type": "code",
   "execution_count": null,
   "metadata": {},
   "outputs": [],
   "source": [
    "print(\"program started\")\n",
    "a=100\n",
    "b=20\n",
    "if False:\n",
    "    print(\"a is big\")\n",
    "print(\"b is big\")\n",
    "print(\"program ended\")"
   ]
  },
  {
   "cell_type": "code",
   "execution_count": null,
   "metadata": {},
   "outputs": [],
   "source": [
    "print(\"program started\")\n",
    "a=100\n",
    "b=20\n",
    "if True:\n",
    "    print(\"a is big\")\n",
    "print(\"b is big\")\n",
    "print(\"program ended\")"
   ]
  },
  {
   "cell_type": "code",
   "execution_count": null,
   "metadata": {},
   "outputs": [],
   "source": [
    "print(\"program started\")\n",
    "a=100\n",
    "b=20\n",
    "if True:\n",
    "    print(\"a is big\")\n",
    "else:\n",
    "    print(\"b is big\")\n",
    "print(\"program ended\")\n"
   ]
  },
  {
   "cell_type": "code",
   "execution_count": null,
   "metadata": {},
   "outputs": [],
   "source": [
    "print(\"program started\")\n",
    "a=100\n",
    "b=20\n",
    "print(a>b)\n",
    "if a>b:\n",
    "    print(\"b is big\")\n",
    "else:\n",
    "    print(\"a is big\")\n",
    "print(\"program ended\")"
   ]
  },
  {
   "cell_type": "code",
   "execution_count": null,
   "metadata": {},
   "outputs": [],
   "source": [
    "print(\"program started\")\n",
    "a=100\n",
    "b=200\n",
    "print(a>b)\n",
    "if a>b:\n",
    "    print(\"b is big\")\n",
    "else:\n",
    "    print(\"a is big\")\n",
    "print(\"program ended\")"
   ]
  },
  {
   "cell_type": "code",
   "execution_count": null,
   "metadata": {},
   "outputs": [],
   "source": [
    "print(\"program started\")\n",
    "a=input(\"enter a value:\")\n",
    "b=input(\"enter b value:\")\n",
    "if a>b:\n",
    "    print(\"a is big\")\n",
    "else:\n",
    "    print(\"b is big\")\n",
    "print(\"program ended\")"
   ]
  },
  {
   "cell_type": "code",
   "execution_count": null,
   "metadata": {},
   "outputs": [],
   "source": [
    "print(\"program started\")\n",
    "a=int(input(\"enter a value:\"))\n",
    "b=int(input(\"enter b value:\"))\n",
    "if a>b:\n",
    "    print(\"a is big\")\n",
    "else:\n",
    "    print(\"b is big\")\n",
    "print(\"program ended\")"
   ]
  },
  {
   "cell_type": "code",
   "execution_count": null,
   "metadata": {},
   "outputs": [],
   "source": [
    "print(\"program started\")\n",
    "a=float(input(\"enter a value\"))\n",
    "b=float(input(\"enter b value\"))\n",
    "\n",
    "\n",
    "if a>b:\n",
    "    print(\"if block started\")\n",
    "    print(\"a is big\")\n",
    "    print(\"if block ended\")\n",
    "else:\n",
    "    print(\"else block started\")\n",
    "    print(\"b is big\")\n",
    "    print(\"else block ended\")\n",
    "print(\"program ended\")"
   ]
  },
  {
   "cell_type": "code",
   "execution_count": null,
   "metadata": {},
   "outputs": [],
   "source": [
    "#. Take some groceries cost prices and print total cost and average cost, what is the max cost, what is the minimum cost.\n",
    "\n",
    "print(\"***********More groceries stores*************\")\n",
    "a=float(input(\"1.Toor dal $\"))\n",
    "b=float(input(\"2.oil $\"))\n",
    "c=float(input(\"3.buiscut $\"))\n",
    "\n",
    "\n",
    "total=a+b+c\n",
    "avg=(total)/3\n",
    "maxx= max(a,b,c)\n",
    "minn= min(a,b,c)\n",
    "print(\"Total cost of groceries\",total )\n",
    "print(\"Avg cost of groceries\",avg )\n",
    "print(\"max cost\",maxx)\n",
    "print(\"min cost\",minn)\n",
    "\n",
    "\n"
   ]
  },
  {
   "cell_type": "code",
   "execution_count": null,
   "metadata": {},
   "outputs": [],
   "source": [
    "#Take the input from the user for(Total number of people, total number of buses, Number of seats for bus, adjust factor). Based on four inputs\n",
    "#Decide whether there is sufficient buses or not and give solution for how many extra buses required.\n",
    "a=int(input(\"Enter total no of people \"))\n",
    "b=int(input(\"Enter total no of buses \"))\n",
    "c=int(input(\"Enter total no of seats \"))\n",
    "d=int(input(\"adjust fact \"))\n",
    "\n",
    "buses = (a/c)*b\n",
    "\n",
    "af=c/2\n",
    "j=buses%2\n",
    "        \n",
    "if buses%2==0:\n",
    "    print(\"sufficient\")\n",
    "else:\n",
    "    print(\"need more buses\",j)\n",
    "\n"
   ]
  },
  {
   "cell_type": "code",
   "execution_count": null,
   "metadata": {},
   "outputs": [],
   "source": [
    "#Take number from the user decide whether it is even or odd.\n",
    "num = int(input(\"Enter a number: \"))\n",
    "if (num % 2) == 0:\n",
    "   print(num,\" is Even\")\n",
    "else:\n",
    "   print(num,\" is Odd\")\n"
   ]
  },
  {
   "cell_type": "code",
   "execution_count": null,
   "metadata": {},
   "outputs": [],
   "source": [
    "#take number from the user decide whether it is positive number or negative number\n",
    "num = float(input(\"Enter a number: \"))\n",
    "if num > 0:\n",
    "   print(\"Positive number\")\n",
    "else:\n",
    "   print(\"Negative number\")"
   ]
  },
  {
   "cell_type": "code",
   "execution_count": null,
   "metadata": {},
   "outputs": [],
   "source": [
    "#16.take a string from the user print the length. if the user not given anything then show an error message\n",
    "s=input(\"Enter the string  \")\n",
    "if s==\"\":\n",
    "    print(\"please enter the any string\")\n",
    "else:\n",
    "    l=len(s)\n",
    "print(\"length of the string is\",l)\n",
    "    \n",
    "\n",
    "\n",
    "\n"
   ]
  },
  {
   "cell_type": "code",
   "execution_count": null,
   "metadata": {},
   "outputs": [],
   "source": [
    "a=float(input(\"Enter a value\"))\n",
    "b=float(input(\"Enter b value\"))\n",
    "op=int(input(\"Please select any one option \\n 1.Add \\n 2.Sub \\n 3.Mul \\n 4.Div \\n  \"))\n",
    "       \n",
    "if op==1:\n",
    "       c=a+b\n",
    "       print(c)\n",
    "if op==2:\n",
    "       c=a-b\n",
    "       print(c)\n",
    "if op==3:\n",
    "       c=a*b\n",
    "       print(c)\n",
    "if op==4:\n",
    "       c=a/b\n",
    "       print(c)\n",
    "\n",
    "\n"
   ]
  },
  {
   "cell_type": "code",
   "execution_count": 2,
   "metadata": {},
   "outputs": [
    {
     "name": "stdout",
     "output_type": "stream",
     "text": [
      "Enter the string  bj\n",
      "length of the string is 2\n"
     ]
    }
   ],
   "source": [
    "s=input(\"Enter the string  \")\n",
    "if s==\"\":\n",
    "    print(\"please enter the any string\")\n",
    "else:\n",
    "    l=len(s)\n",
    "    print(\"length of the string is\",l)\n",
    "    \n",
    "\n"
   ]
  },
  {
   "cell_type": "code",
   "execution_count": 3,
   "metadata": {},
   "outputs": [
    {
     "name": "stdout",
     "output_type": "stream",
     "text": [
      "\n",
      " 1.Kids\n",
      " 2.mens \n",
      " 3.women\n",
      "3\n",
      "you are a good wonmen\n"
     ]
    }
   ],
   "source": [
    "op=int(input(\"\\n 1.Kids\\n 2.mens \\n 3.women\\n\"))\n",
    "\n",
    "if op==1:\n",
    "       print(\"You are kid\")\n",
    "elif op==2:\n",
    "       print(\"you are gentelman\")\n",
    "elif op==3:\n",
    "       print(\"you are a good wonmen\")\n",
    "else:\n",
    "       print(\"sorry choose a valid option\")\n"
   ]
  },
  {
   "cell_type": "code",
   "execution_count": 4,
   "metadata": {},
   "outputs": [
    {
     "data": {
      "text/plain": [
       "True"
      ]
     },
     "execution_count": 4,
     "metadata": {},
     "output_type": "execute_result"
    }
   ],
   "source": [
    "act=\"python is a pure object oriented programing language\"\n",
    "str1=\"pure\"\n",
    "str1 in act\n"
   ]
  },
  {
   "cell_type": "code",
   "execution_count": 6,
   "metadata": {},
   "outputs": [
    {
     "name": "stdout",
     "output_type": "stream",
     "text": [
      "Enter A: 5\n",
      "Enter B: 3\n",
      "Enter C: 9\n",
      "Greatest  =  9\n"
     ]
    }
   ],
   "source": [
    "a=int(input(\"Enter A: \"))\n",
    "b=int(input(\"Enter B: \"))\n",
    "c=int(input(\"Enter C: \"))\n",
    "\n",
    "if a>b:\n",
    "    if a>c:\n",
    "        g=a\n",
    "    else:\n",
    "        g=c\n",
    "else:\n",
    "    if b>c:\n",
    "        g=b\n",
    "    else:\n",
    "        g=c\n",
    "\n",
    "print(\"Greatest  = \",g)"
   ]
  },
  {
   "cell_type": "code",
   "execution_count": 7,
   "metadata": {},
   "outputs": [
    {
     "name": "stdout",
     "output_type": "stream",
     "text": [
      "Please Enter the age of the person45\n",
      "1.Male \n",
      " 2.Female1\n",
      "You are eligible for marriage\n"
     ]
    }
   ],
   "source": [
    "age=int(input(\"Please Enter the age of the person\"))\n",
    "\n",
    "gender=int(input(\"1.Male \\n 2.Female\"))\n",
    "\n",
    "if gender==1:\n",
    "        if age >22:\n",
    "            print(\"You are eligible for marriage\")\n",
    "        else:\n",
    "            print(\"You are not eligible for marriage\")\n",
    "\n",
    "if gender==2:\n",
    "           if age>18:\n",
    "            print(\"You are eligible for marriage\")\n",
    "           else:\n",
    "                print(\"You are not eligible for marriage\")\n",
    "           \n",
    "       \n",
    "       \n"
   ]
  },
  {
   "cell_type": "code",
   "execution_count": 8,
   "metadata": {},
   "outputs": [
    {
     "name": "stdout",
     "output_type": "stream",
     "text": [
      "Enter the number whose divisibility needs to be checked:23\n",
      "Enter the number with which divisibility needs to be checked:3\n",
      "The number is not divisible.\n"
     ]
    }
   ],
   "source": [
    "num = int (input(\"Enter the number whose divisibility needs to be checked:\"))\n",
    "\n",
    "div = int (input (\"Enter the number with which divisibility needs to be checked:\"))\n",
    "\n",
    "if num%div == 0:\n",
    "\n",
    "              print (\"The number is divisible.\")\n",
    "\n",
    "else:\n",
    "\n",
    "              print (\"The number is not divisible.\")\n"
   ]
  },
  {
   "cell_type": "code",
   "execution_count": 10,
   "metadata": {},
   "outputs": [
    {
     "name": "stdout",
     "output_type": "stream",
     "text": [
      "Please Enter Your Own Character : BHARGAV\n",
      "The Given Character  BHARGAV is an upper case Alphabet\n"
     ]
    }
   ],
   "source": [
    "ch = input(\"Please Enter Your Own Character : \")\n",
    "\n",
    "if(ch >= 'a' and ch <= 'z'):\n",
    "    print(\"The Given Character \", ch, \"is an lower case Alphabet\")\n",
    "elif(ch >= 'A' and ch <= 'Z'):\n",
    "    print(\"The Given Character \", ch, \"is an upper case Alphabet\") \n",
    "elif(ch >= '0' and ch <= '9'):\n",
    "    print(\"The Given Character \", ch, \"is a Digit\")\n",
    "else:\n",
    "    print(\"The Given Character \", ch, \"is a Special Character\")"
   ]
  },
  {
   "cell_type": "code",
   "execution_count": 19,
   "metadata": {},
   "outputs": [
    {
     "name": "stdout",
     "output_type": "stream",
     "text": [
      "Enter any number8\n",
      "8 is a prime number\n"
     ]
    }
   ],
   "source": []
  },
  {
   "cell_type": "code",
   "execution_count": 1,
   "metadata": {},
   "outputs": [
    {
     "name": "stdout",
     "output_type": "stream",
     "text": [
      "1.theatre \n",
      "2.Voting system\n",
      "3.Marriage in india \n",
      "4.For govt jobs \n",
      "5.For driving licence \n",
      "2\n",
      " Enter Age54\n",
      "1.Male \n",
      "2.Female\n",
      " Enter gender1\n",
      "Eligible for voting\n"
     ]
    }
   ],
   "source": [
    "op =int(input(\"1.theatre \\n2.Voting system\\n3.Marriage in india \\n4.For govt jobs \\n5.For driving licence \\n\"))\n",
    "age=int(input(\" Enter Age\"))\n",
    "gender=int(input(\"1.Male \\n2.Female\\n Enter gender\"))\n",
    "if op==1:\n",
    "    if gender==1:\n",
    "        if age>=5:\n",
    "            print(\"Eligible for Theater\")\n",
    "        else:\n",
    "            print(\"You are not eligible for Theater\")\n",
    "    if gender==2:\n",
    "        if age>=7:\n",
    "            print(\"Eligible for Theater\")\n",
    "        else:\n",
    "            print(\"You are not eligible for Theater\")\n",
    "elif  op==2:\n",
    "    if gender==1 or gender==2:\n",
    "        if age>=18:\n",
    "            print(\"Eligible for voting\")\n",
    "        else:\n",
    "            print(\"You are not eligible voting\")\n",
    "                \n",
    "elif op==3:\n",
    "    if gender==1:\n",
    "        if age>=23:\n",
    "            print(\"Eligible for marriage\")\n",
    "        else:\n",
    "            print(\"You are not eligible for marriage\")\n",
    "    if gender==2:\n",
    "        if age>21:\n",
    "            print(\"Eligible for marriage\")\n",
    "        else:\n",
    "            print(\"You are not eligible for marriage\")\n",
    "elif op==4:\n",
    "    if gender==1:\n",
    "        if age>=18 and age<=32:\n",
    "            print(\"Eligible for govt jobs\")\n",
    "        else:\n",
    "            print(\"You are not eligible for govt jobs\")\n",
    "    if gender==2:\n",
    "        if age>=18 and age<=34:\n",
    "            print(\"Eligible for govt jobs:\")\n",
    "        else:\n",
    "            print(\"You are not eligible for govt jobs\")\n",
    "\n",
    "elif  op==5:\n",
    "    if gender==1 or gender==2:\n",
    "        if age>=18 and age<=60:\n",
    "            print(\"Eligible for driving licence\")\n",
    "        else:\n",
    "            print(\"You are not eligible for Driving licence\")\n",
    "\n",
    "                \n",
    "\n"
   ]
  },
  {
   "cell_type": "code",
   "execution_count": 21,
   "metadata": {},
   "outputs": [
    {
     "name": "stdout",
     "output_type": "stream",
     "text": [
      "1.windows\n",
      "2.android\n",
      "3.mac\n",
      " Enter any option1\n",
      "Goto first floor and buy windows laptop or mobile\n"
     ]
    }
   ],
   "source": [
    "op=int(input(\"1.windows\\n2.android\\n3.mac\\n Enter any option\"))\n",
    "if op==1:\n",
    "       print(\"Goto first floor and buy windows laptop or mobile\")\n",
    "elif op==2:\n",
    "       print(\"Goto second floor and buy adroid mobiles\")\n",
    "elif op==3:\n",
    "       print(\"Goto third floor and buy mac laptop or iphones\")\n",
    "else:\n",
    "       print(\"There is only three floors, please select 1 or 2 or 3\")\n",
    "       "
   ]
  },
  {
   "cell_type": "code",
   "execution_count": 22,
   "metadata": {},
   "outputs": [
    {
     "name": "stdout",
     "output_type": "stream",
     "text": [
      " Enter the age85\n",
      "Old codger\n"
     ]
    }
   ],
   "source": [
    "age=int(input(\" Enter the age\"))\n",
    "if age<=1:\n",
    "    print(\"Baby\")\n",
    "elif age>=2 and age<=3:\n",
    "    print(\"Toddler\")\n",
    "elif age>=3 and age<=12:\n",
    "    print(\"child\")\n",
    "elif age>=13 and age<=19:\n",
    "    print(\"Teenager\")\n",
    "elif age>19 and age<50:\n",
    "    print(\"Adult\")\n",
    "elif age>50:\n",
    "    print(\"Old codger\")\n",
    "    \n",
    "\n"
   ]
  },
  {
   "cell_type": "code",
   "execution_count": 23,
   "metadata": {},
   "outputs": [
    {
     "name": "stdout",
     "output_type": "stream",
     "text": [
      "Enter a Number (Numerator): 77\n",
      "Enter a Number (denominator): 8\n",
      "\n",
      "77 is not divisible by 8\n"
     ]
    }
   ],
   "source": [
    "numn = int(input(\"Enter a Number (Numerator): \"))\n",
    "numd = int(input(\"Enter a Number (denominator): \"))\n",
    "\n",
    "if numn%numd==0:\n",
    "  print(\"\\n\"+str(numn)+\"is divisible by \" +str(numd))\n",
    "else:\n",
    "  print(\"\\n\" +str(numn)+ \" is not divisible by \" +str(numd))"
   ]
  },
  {
   "cell_type": "code",
   "execution_count": 24,
   "metadata": {},
   "outputs": [
    {
     "name": "stdout",
     "output_type": "stream",
     "text": [
      "Please Enter Any Character : bhgvvgh\n",
      "bhgvvgh  Belongs to lowercase alphabet\n"
     ]
    }
   ],
   "source": [
    "ch = input(\"Please Enter Any Character : \")\n",
    " \n",
    "if(ch >= 'a' and ch <= 'z'):\n",
    "   print(ch,\" Belongs to lowercase alphabet\")\n",
    "elif(ch >= 'A' and ch <= 'Z'): \n",
    "    print(ch,\"belongs to uppercase Alphabet\") "
   ]
  },
  {
   "cell_type": "code",
   "execution_count": null,
   "metadata": {},
   "outputs": [],
   "source": [
    "ch = input(\"Please Enter Any number : \")\n",
    "ch.isdigit()\n"
   ]
  },
  {
   "cell_type": "code",
   "execution_count": null,
   "metadata": {},
   "outputs": [],
   "source": [
    "ch = input(\"Please Enter Any string : \")\n",
    "\n",
    "ch.isupper()"
   ]
  },
  {
   "cell_type": "code",
   "execution_count": 1,
   "metadata": {},
   "outputs": [
    {
     "name": "stdout",
     "output_type": "stream",
     "text": [
      "hello\n"
     ]
    }
   ],
   "source": [
    "print(\"hello\")"
   ]
  },
  {
   "cell_type": "code",
   "execution_count": null,
   "metadata": {},
   "outputs": [],
   "source": []
  }
 ],
 "metadata": {
  "kernelspec": {
   "display_name": "Python 3",
   "language": "python",
   "name": "python3"
  },
  "language_info": {
   "codemirror_mode": {
    "name": "ipython",
    "version": 3
   },
   "file_extension": ".py",
   "mimetype": "text/x-python",
   "name": "python",
   "nbconvert_exporter": "python",
   "pygments_lexer": "ipython3",
   "version": "3.7.4"
  }
 },
 "nbformat": 4,
 "nbformat_minor": 2
}
