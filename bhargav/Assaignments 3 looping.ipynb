{
 "cells": [
  {
   "cell_type": "code",
   "execution_count": 13,
   "metadata": {},
   "outputs": [
    {
     "name": "stdout",
     "output_type": "stream",
     "text": [
      "enter any string   Bhargav3\n",
      "There is digits\n",
      "end\n"
     ]
    }
   ],
   "source": [
    "s = input(\"enter any string   \")\n",
    "if ((s >= 'a') and ( s <= 'z')):\n",
    "    print(\"There  is no digits is present in this string\")\n",
    "else:\n",
    "    print(\"There is digits\")\n",
    "print(\"end\")\n",
    "\n",
    "\n"
   ]
  },
  {
   "cell_type": "code",
   "execution_count": 21,
   "metadata": {},
   "outputs": [
    {
     "name": "stdout",
     "output_type": "stream",
     "text": [
      "enter any string   BBNWDNWDWDWD\n",
      "There is capital letters\n",
      "end\n"
     ]
    }
   ],
   "source": [
    "s = input(\"enter any string   \")\n",
    "if ((s >= 'A') and ( s <= 'Z')):\n",
    "    print(\"There is capital letters\")\n",
    "else:\n",
    "    print(\"There is no capital letters\")\n",
    "print(\"end\")\n",
    "\n"
   ]
  },
  {
   "cell_type": "code",
   "execution_count": null,
   "metadata": {},
   "outputs": [],
   "source": [
    "s=input(\"enter a letter:\")\n",
    "for i in s:\n",
    "    ord_i = ord(i)\n",
    "    if ord_i in range(ord(\"A\"),ord(\"Z\")+1)   or ord_i in range(ord(\"a\"),ord(\"z\")+1):\n",
    "        print(\"it contains only letters also..\")\n",
    "        break\n",
    "else:\n",
    "    print(\"it contains other letters/ spcial sysmbols\")\n",
    "        "
   ]
  },
  {
   "cell_type": "code",
   "execution_count": 40,
   "metadata": {},
   "outputs": [
    {
     "name": "stdout",
     "output_type": "stream",
     "text": [
      "enter a letter:wf2\n",
      "it contains other letters also..\n"
     ]
    }
   ],
   "source": [
    "s=input(\"enter a letter:\")\n",
    "for i in s:\n",
    "    ord_i = ord(i)\n",
    "    if ord_i in range(ord(\"A\"),ord(\"Z\")+1)   or ord_i in range(ord(\"a\"), ord(\"z\")+1) or ord_i in range(ord(\"0\"),ord(\"9\")):\n",
    "        print(\"it contains other letters also..\")\n",
    "        break\n",
    "else:\n",
    "    print(\"it contains only spcial sysmbols\")\n",
    "        "
   ]
  },
  {
   "cell_type": "code",
   "execution_count": 2,
   "metadata": {},
   "outputs": [
    {
     "name": "stdout",
     "output_type": "stream",
     "text": [
      "enter any string   nsncsc5\n",
      "There  is no digits is present in this string\n",
      "end\n"
     ]
    }
   ],
   "source": [
    "s = input(\"enter any string   \")\n",
    "if ((s >= 'a') and ( s <= 'z')):\n",
    "    print(\"There  is no digits is present in this string\")\n",
    "else:\n",
    "    print(\"There is digits\")\n",
    "print(\"end\")\n",
    "\n",
    "\n"
   ]
  },
  {
   "cell_type": "code",
   "execution_count": 4,
   "metadata": {},
   "outputs": [
    {
     "ename": "TypeError",
     "evalue": "object of type 'int' has no len()",
     "output_type": "error",
     "traceback": [
      "\u001b[1;31m---------------------------------------------------------------------------\u001b[0m",
      "\u001b[1;31mTypeError\u001b[0m                                 Traceback (most recent call last)",
      "\u001b[1;32m<ipython-input-4-00d8f2eba757>\u001b[0m in \u001b[0;36m<module>\u001b[1;34m\u001b[0m\n\u001b[0;32m      1\u001b[0m \u001b[0ms\u001b[0m\u001b[1;33m=\u001b[0m\u001b[1;36m101519186510\u001b[0m\u001b[1;33m\u001b[0m\u001b[1;33m\u001b[0m\u001b[0m\n\u001b[1;32m----> 2\u001b[1;33m \u001b[0mlen\u001b[0m\u001b[1;33m(\u001b[0m\u001b[0ms\u001b[0m\u001b[1;33m)\u001b[0m\u001b[1;33m\u001b[0m\u001b[1;33m\u001b[0m\u001b[0m\n\u001b[0m\u001b[0;32m      3\u001b[0m \u001b[0mprint\u001b[0m\u001b[1;33m(\u001b[0m\u001b[0mlen\u001b[0m\u001b[1;33m(\u001b[0m\u001b[0ms\u001b[0m\u001b[1;33m)\u001b[0m\u001b[1;33m)\u001b[0m\u001b[1;33m\u001b[0m\u001b[1;33m\u001b[0m\u001b[0m\n",
      "\u001b[1;31mTypeError\u001b[0m: object of type 'int' has no len()"
     ]
    }
   ],
   "source": []
  },
  {
   "cell_type": "code",
   "execution_count": null,
   "metadata": {},
   "outputs": [],
   "source": []
  }
 ],
 "metadata": {
  "kernelspec": {
   "display_name": "Python 3",
   "language": "python",
   "name": "python3"
  },
  "language_info": {
   "codemirror_mode": {
    "name": "ipython",
    "version": 3
   },
   "file_extension": ".py",
   "mimetype": "text/x-python",
   "name": "python",
   "nbconvert_exporter": "python",
   "pygments_lexer": "ipython3",
   "version": "3.7.4"
  }
 },
 "nbformat": 4,
 "nbformat_minor": 2
}
