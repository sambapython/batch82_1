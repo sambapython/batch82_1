{
 "cells": [
  {
   "cell_type": "code",
   "execution_count": 1,
   "id": "be3c4de1",
   "metadata": {},
   "outputs": [
    {
     "name": "stdout",
     "output_type": "stream",
     "text": [
      "Enter total number of peaple:245\n",
      "Enter number of seats for bus:50\n",
      "Number of Buses required: 5\n"
     ]
    }
   ],
   "source": [
    "##1.1.\tTake the input from the user for(Total number of people,Number of seats for bus. \n",
    "## Based on two inputs Decide how many number of buses required\n",
    "import math\n",
    "x=int(input(\"Enter total number of peaple:\"))\n",
    "y=int(input(\"Enter number of seats for bus:\"))\n",
    "z=(x)/(y)\n",
    "print (\"Number of Buses required:\",math.ceil(z))\n"
   ]
  },
  {
   "cell_type": "code",
   "execution_count": 7,
   "id": "2cfd78e6",
   "metadata": {},
   "outputs": [
    {
     "name": "stdout",
     "output_type": "stream",
     "text": [
      "Enter user Temperature:98\n",
      "User temperature: 36.67 F\n"
     ]
    }
   ],
   "source": [
    "##2.take temperature from the user and convert foreign heat -> Celsius[formula=(f-32)*5/9]\n",
    "temp=float(input(\"Enter user Temperature:\"))\n",
    "x=(temp-32)*5/9\n",
    "print(\"User temperature:\",round(x,2),\"F\")\n"
   ]
  },
  {
   "cell_type": "code",
   "execution_count": 28,
   "id": "c559e521",
   "metadata": {},
   "outputs": [
    {
     "name": "stdout",
     "output_type": "stream",
     "text": [
      "Enter user temperature:15\n",
      "User temperature: 59.0 C\n"
     ]
    }
   ],
   "source": [
    "##3.take temperature from the user and convert Celsius → foreign heat.(x=celsius*1.8+32)\n",
    "cel=float(input(\"Enter user temperature:\"))\n",
    "x=cel*1.8+32\n",
    "print(\"User temperature:\",x,\"C\")"
   ]
  },
  {
   "cell_type": "code",
   "execution_count": 2,
   "id": "af2f082a",
   "metadata": {},
   "outputs": [
    {
     "name": "stdout",
     "output_type": "stream",
     "text": [
      "Enter x1 value:10\n",
      "Enter x2 value:12\n",
      "Enter x3 value:10\n",
      "Enter x4 value:13\n",
      "484.0\n",
      "12167.0\n",
      "1.299038105676658\n"
     ]
    }
   ],
   "source": [
    "#4\n",
    "import math\n",
    "a=float(input(\"Enter x1 value:\"))\n",
    "b=float(input(\"Enter x2 value:\"))\n",
    "c=float(input(\"Enter x3 value:\"))\n",
    "d=float(input(\"Enter x4 value:\"))\n",
    "N=[a,b,c,d]\n",
    "print((a+b)**2)\n",
    "print((c+d)**3)\n",
    "#1.varience\n",
    "M=sum(N)/len(N)\n",
    "##print(M)\n",
    "Y=((a-M)**2+(b-M)**2+(c-M)**2+(d-M)**2)\n",
    "V=(Y/4)\n",
    "#print(V)\n",
    "type(V)\n",
    "##2.standard deviation\n",
    "##type(t)\n",
    "\n",
    "x=math.sqrt(V)\n",
    "print(x)\n",
    "\n"
   ]
  },
  {
   "cell_type": "code",
   "execution_count": 3,
   "id": "55987e97",
   "metadata": {},
   "outputs": [
    {
     "name": "stdout",
     "output_type": "stream",
     "text": [
      "Enter x1 value:10\n",
      "Enter x2 value:12\n",
      "Enter x3 value:10\n",
      "Enter x4 value:13\n",
      "55.395\n"
     ]
    }
   ],
   "source": [
    "#Regression y=mx+b\n",
    "m=1.23 \n",
    "b=0.045\n",
    "x1=float(input(\"Enter x1 value:\"))\n",
    "x2=float(input(\"Enter x2 value:\"))\n",
    "x3=float(input(\"Enter x3 value:\"))\n",
    "x4=float(input(\"Enter x4 value:\"))\n",
    "N=[x1,x2,x3,x4]\n",
    "Y=m*(sum(N))+b\n",
    "print(Y)\n",
    "\n"
   ]
  },
  {
   "cell_type": "code",
   "execution_count": 4,
   "id": "43998834",
   "metadata": {},
   "outputs": [
    {
     "name": "stdout",
     "output_type": "stream",
     "text": [
      "Enter a value:10\n",
      "Enter b value:12\n",
      "Enter c value:13\n",
      "Enter d value:10\n",
      "sum of four numbers:45.0\n",
      "Avg of four numbers:11.25\n"
     ]
    }
   ],
   "source": [
    "##average of four numbers\n",
    "a=float(input(\"Enter a value:\"))\n",
    "b=float(input(\"Enter b value:\"))\n",
    "c=float(input(\"Enter c value:\"))\n",
    "d=float(input(\"Enter d value:\"))\n",
    "x=[a,b,c,d]\n",
    "print(\"sum of four numbers:\"+str(sum(x)))\n",
    "y=sum(x)/4\n",
    "print(\"Avg of four numbers:\"+str(y))"
   ]
  },
  {
   "cell_type": "code",
   "execution_count": 16,
   "id": "1d6f231b",
   "metadata": {},
   "outputs": [
    {
     "name": "stdout",
     "output_type": "stream",
     "text": [
      "Enter distance in KM:1\n",
      "Given distance KM to Meters: 1000.0 m\n",
      "Given distance KM to Centimeters: 100000.0 cm\n",
      "Given distance KM to Millimeters: 1000000.0 mm\n",
      "Given length KM to cents: 24710.52 cents\n",
      "Given length KM to yards: 57885875.73 yd\n",
      "Given length KM to feets: 173657627.19 ft\n"
     ]
    }
   ],
   "source": [
    "#5\n",
    "X=float(input(\"Enter distance in KM:\"))\n",
    "a=1000*X\n",
    "b=100*a\n",
    "c=10*b\n",
    "print(\"Given distance KM to Meters:\",a,\"m\")\n",
    "print(\"Given distance KM to Centimeters:\",b,\"cm\")\n",
    "print(\"Given distance KM to Millimeters:\",c,\"mm\")\n",
    "x1=24710.52*(X**2)\n",
    "x2=2342.56*x1\n",
    "x3=3*x2\n",
    "print(\"Given length KM to cents:\",x1,\"cents\")\n",
    "print(\"Given length KM to yards:\",round(x2,2),\"yd\")\n",
    "print(\"Given length KM to feets:\",round(x3,2),\"ft\")"
   ]
  },
  {
   "cell_type": "code",
   "execution_count": 9,
   "id": "e889db36",
   "metadata": {},
   "outputs": [
    {
     "name": "stdout",
     "output_type": "stream",
     "text": [
      "Enter size of hard disk in GB:2\n",
      "The size of hard disk GB into KB: 2048.0KB\n",
      "The size of hard disk GB into MB: 2097152.0MB\n",
      "The size of hard disk GB into TB: 0.001953125TB\n",
      "The size of hard disk GB into PB: 1.9073486328125e-06PB\n"
     ]
    }
   ],
   "source": [
    "#6.converting GB in KB,MB,TB,PB by taking user input\n",
    "X=float(input(\"Enter size of hard disk in GB:\"))\n",
    "p=1024*X\n",
    "a=1024*p\n",
    "l=(1/1024)\n",
    "v=l*X\n",
    "n=(l**2)*X\n",
    "print(\"The size of hard disk GB into KB:\",str(p)+\"KB\")\n",
    "print(\"The size of hard disk GB into MB:\",str(a)+\"MB\")\n",
    "print(\"The size of hard disk GB into TB:\",str(v)+\"TB\")\n",
    "print(\"The size of hard disk GB into PB:\",str(n)+\"PB\")"
   ]
  },
  {
   "cell_type": "code",
   "execution_count": 19,
   "id": "e94941c4",
   "metadata": {},
   "outputs": [
    {
     "name": "stdout",
     "output_type": "stream",
     "text": [
      "Enter name of the person:Ravi\n",
      "Enter age of the person:18\n",
      "Enter height of the person:6\n",
      "The details of the person:\n",
      "\t\t\tName:Ravi, Age:18years, Height:6Feet\n"
     ]
    }
   ],
   "source": [
    "x=input(\"Enter name of the person:\")\n",
    "y=input(\"Enter age of the person:\")\n",
    "z=input(\"Enter height of the person:\")\n",
    "print(\"The details of the person:\\n\\t\\t\\tName:\"+x+\",\",\"Age:\"+y+\"years,\",\"Height:\"+z+\"Feet\")\n"
   ]
  },
  {
   "cell_type": "code",
   "execution_count": 22,
   "id": "5ea4a9e5",
   "metadata": {},
   "outputs": [
    {
     "name": "stdout",
     "output_type": "stream",
     "text": [
      "Enter weight of a person in KG:84\n",
      "Enter height of a person in Cm:170\n",
      "BMI output of a person: 29.065743944636683\n"
     ]
    }
   ],
   "source": [
    "#8.BMI calculation =weight(kg)/(height(m))**2\n",
    "Weight=float(input(\"Enter weight of a person in KG:\"))\n",
    "Height=float(input(\"Enter height of a person in Cm:\"))\n",
    "BMI=Weight/((Height/100)**2)\n",
    "print(\"BMI output of a person:\",BMI)"
   ]
  },
  {
   "cell_type": "code",
   "execution_count": 23,
   "id": "6672ee8b",
   "metadata": {},
   "outputs": [
    {
     "name": "stdout",
     "output_type": "stream",
     "text": [
      "Name:Jayaram, Age:1.600000, Height:3.54, Weight:10.344\n"
     ]
    }
   ],
   "source": [
    "#9.format specifiers\n",
    "name=\"Jayaram\"\n",
    "age=1.6\n",
    "height=3.5356234\n",
    "weight=10.343856783\n",
    "#Name:Jayaram, Age:1.6, Height:3.54, Weight:10.344\n",
    "print(\"Name:%s, Age:%f, Height:%.2f, Weight:%.3f\"%(name,age,height,weight))\n"
   ]
  },
  {
   "cell_type": "code",
   "execution_count": 27,
   "id": "04283d5c",
   "metadata": {},
   "outputs": [
    {
     "name": "stdout",
     "output_type": "stream",
     "text": [
      "Enter any 3 uppercase letter:A B C\n",
      "a b c\n"
     ]
    }
   ],
   "source": [
    "#10. Take three upper case letters from the user convert in to small case\n",
    "#x=input(\"Enter a string:\")\n",
    "y=input(\"Enter any 3 uppercase letter:\")\n",
    "print(y.lower())\n"
   ]
  },
  {
   "cell_type": "code",
   "execution_count": 38,
   "id": "4972cef2",
   "metadata": {},
   "outputs": [
    {
     "name": "stdout",
     "output_type": "stream",
     "text": [
      "Enter a base value:3\n",
      "Enter a exponent value:2\n",
      "Exponentional of the user input: 9\n"
     ]
    }
   ],
   "source": [
    "#11.take base and exponent value from the user and print like in mathematics:\n",
    "x=int(input(\"Enter a base value:\"))\n",
    "y=int(input(\"Enter a exponent value:\"))\n",
    "#z=pow(x,y)\n",
    "print(\"Exponentional of the user input:\",x**y)\n",
    "    "
   ]
  },
  {
   "cell_type": "code",
   "execution_count": 7,
   "id": "db63d8f2",
   "metadata": {},
   "outputs": [
    {
     "name": "stdout",
     "output_type": "stream",
     "text": [
      "Total cost of Groceries: 512\n",
      "Avg cost of Groceries: 34\n",
      "Maximum cost of Groceries: 96\n",
      "Minimum cost of Groceries: 10\n"
     ]
    }
   ],
   "source": [
    "#12. Take some groceries cost prices and print total cost and average cost, what is the max cost, what is the minimum cost.\n",
    "x=[10,12,11,14,14,17,19,82,28,65,32,28,32,52,96]\n",
    "print(\"Total cost of Groceries:\",sum(x))\n",
    "print(\"Avg cost of Groceries:\",round(sum(x)/len(x)))\n",
    "print(\"Maximum cost of Groceries:\",max(x))\n",
    "print(\"Minimum cost of Groceries:\",min(x))"
   ]
  },
  {
   "cell_type": "code",
   "execution_count": 10,
   "id": "3809db8e",
   "metadata": {},
   "outputs": [
    {
     "name": "stdout",
     "output_type": "stream",
     "text": [
      "0\n",
      "-0.9090909090909091\n"
     ]
    }
   ],
   "source": [
    "#13.\n",
    "X=10\n",
    "y=(~X)\n",
    "print(X & y)\n",
    "print(X / y)\n"
   ]
  },
  {
   "cell_type": "code",
   "execution_count": 17,
   "id": "b8bbdeb0",
   "metadata": {},
   "outputs": [
    {
     "name": "stdout",
     "output_type": "stream",
     "text": [
      "Enter a number:1\n",
      "odd\n"
     ]
    }
   ],
   "source": [
    "#14.Take number from the user decide whether it is even or odd.\n",
    "x=float(input(\"Enter a number:\"))\n",
    "if x/2==0:\n",
    "    print(\"Even\")\n",
    "else:\n",
    "    print(\"odd\")"
   ]
  },
  {
   "cell_type": "code",
   "execution_count": 18,
   "id": "33bcc592",
   "metadata": {},
   "outputs": [
    {
     "name": "stdout",
     "output_type": "stream",
     "text": [
      "Enter a value:2\n",
      "Positive\n"
     ]
    }
   ],
   "source": [
    "#15.take number from the user decide whether it is positive number or negative number\n",
    "x=float(input(\"Enter a value:\"))\n",
    "if x>=0:\n",
    "    print(\"Positive\")\n",
    "else:\n",
    "    print(\"negative\")\n",
    "    "
   ]
  },
  {
   "cell_type": "code",
   "execution_count": 20,
   "id": "1c79dfc0",
   "metadata": {},
   "outputs": [
    {
     "name": "stdout",
     "output_type": "stream",
     "text": [
      "Enter a string:\n",
      "Error message\n"
     ]
    }
   ],
   "source": [
    "#16.take a string from the user print the length. if the user not given anything then show an error message\n",
    "x=input(\"Enter a string:\")\n",
    "if len(x)!=0:\n",
    "    print(\"length of string\",len(x))\n",
    "else:\n",
    "    print(\"Error message\")"
   ]
  },
  {
   "cell_type": "code",
   "execution_count": 25,
   "id": "c43b21d0",
   "metadata": {},
   "outputs": [
    {
     "name": "stdout",
     "output_type": "stream",
     "text": [
      "Enter a value:5\n",
      "Enter a value:3\n",
      "Menu:\n",
      "\t 1.Addition\n",
      "\t 2.Subtraction\n",
      "\t 3.Multiplication\n",
      "\t 4.Division\n",
      "Enter any option in Menu:5\n",
      "Quit\n"
     ]
    }
   ],
   "source": [
    "#17.add,2.sub,3. mul,4.div, 5.quit\n",
    "x=float(input(\"Enter a value:\"))\n",
    "y=float(input(\"Enter a value:\"))\n",
    "print(\"Menu:\\n\\t 1.Addition\\n\\t 2.Subtraction\\n\\t 3.Multiplication\\n\\t 4.Division\")\n",
    "z=int(input(\"Enter any option in Menu:\"))\n",
    "\n",
    "if z==1:\n",
    "    print(\"Addition of two numbers:\",(x+y))\n",
    "elif z==2:\n",
    "    print(\"Subtraction of two numbers:\",(x-y))\n",
    "elif z==3:\n",
    "    print(\"Multiplication of two numbers:\",(x*y))\n",
    "elif z==4:\n",
    "    print(\"Division of two numbers:\",(x/y))\n",
    "else:\n",
    "    print(\"Quit\")\n",
    "    "
   ]
  },
  {
   "cell_type": "code",
   "execution_count": 28,
   "id": "3707608d",
   "metadata": {},
   "outputs": [
    {
     "name": "stdout",
     "output_type": "stream",
     "text": [
      "Menu:\n",
      "\t 1. Kids\n",
      "\t 2. Men's\n",
      "\t 3.Women's\n",
      "Enter any option in Menu:2\n",
      "2: you are a gentlemen\n"
     ]
    }
   ],
   "source": [
    "#.18 show the menu:1. kids 2. Men's 3. Women's\n",
    "print(\"Menu:\\n\\t 1. Kids\\n\\t 2. Men's\\n\\t 3.Women's\")\n",
    "z=int(input(\"Enter any option in Menu:\"))\n",
    "\n",
    "if z==1:\n",
    "    print(\"1: you are a kid\")\n",
    "elif z==2:\n",
    "    print(\"2: you are a gentlemen\")\n",
    "elif z==3:\n",
    "    print(\"3: you are a good women\")\n",
    "else:\n",
    "    print(\"Error message\")"
   ]
  },
  {
   "cell_type": "code",
   "execution_count": 36,
   "id": "f5c90c8b",
   "metadata": {},
   "outputs": [
    {
     "name": "stdout",
     "output_type": "stream",
     "text": [
      "Enter a string:not\n",
      "string not present\n"
     ]
    }
   ],
   "source": [
    "#19.use IN operator\n",
    "act=\"python is a pure object oriented programing language\"\n",
    "x=input(\"Enter a string:\")\n",
    "#for i in act:\n",
    "if x in act:\n",
    "    print(\"substring is present\")\n",
    "else:\n",
    "    print(\"string not present\")"
   ]
  },
  {
   "cell_type": "code",
   "execution_count": 37,
   "id": "da986244",
   "metadata": {},
   "outputs": [
    {
     "name": "stdout",
     "output_type": "stream",
     "text": [
      "Enter a number:12\n",
      "Enter a number:14\n",
      "Enter a number:15\n",
      "The Biggest number is: 15.0\n"
     ]
    }
   ],
   "source": [
    "#20. Take three numbers from the user and decide which is big\n",
    "x=float(input(\"Enter a number:\"))\n",
    "y=float(input(\"Enter a number:\"))\n",
    "z=float(input(\"Enter a number:\"))\n",
    "a=[x,y,z]\n",
    "print(\"The Biggest number is:\",max(a))"
   ]
  },
  {
   "cell_type": "code",
   "execution_count": 8,
   "id": "165b5773",
   "metadata": {},
   "outputs": [
    {
     "name": "stdout",
     "output_type": "stream",
     "text": [
      "Enter age of a person:18\n",
      "Enter gender of a person:\n",
      "Exit\n"
     ]
    }
   ],
   "source": [
    "#21.Take age and gender from the user and decide whether he is eligible for marriage in India or not.\n",
    "#Age criteria: men age>22, women>18\n",
    "x=input(\"Enter age of a person:\")\n",
    "y=input(\"Enter gender of a person:\")\n",
    "if y==\"M\":\n",
    "    if x>='25':\n",
    "        print(\"Men is eligible for marriage\")\n",
    "    else:\n",
    "        print(\"Men is not eligible for marriage\")\n",
    "elif y==\"F\":\n",
    "    if x>='21':\n",
    "        print(\"Women is eligible for marriage\")\n",
    "    else:\n",
    "        print(\"women is not eligible for marriage\")\n",
    "else:\n",
    "    print(\"Exit\")\n",
    "    \n",
    "\n"
   ]
  },
  {
   "cell_type": "code",
   "execution_count": 20,
   "id": "f41811f6",
   "metadata": {},
   "outputs": [
    {
     "name": "stdout",
     "output_type": "stream",
     "text": [
      "Enter an option:\n",
      "\t\t Gender:\n",
      "\t\t\t1. Men\n",
      "\t\t\t2. Women\n",
      "1\n",
      "Enter an age of person: 18\n",
      "Option for Eligibility:\n",
      "\t\t1. Theatre\n",
      "\t\t2. Voting system\n",
      "\t\t3.  Marriage in india\n",
      "\t\t4. For govt jobs\n",
      "\t\t5. For driving licence 4\n",
      "Men is Eligibile\n",
      "exit\n"
     ]
    }
   ],
   "source": [
    "#22. Take an age  and gender from the user: and mention that what he/she can \tdo in india.\n",
    "\"\"\"\n",
    "  conditions\n",
    "1. Theatre: 5 for men 7 for women\n",
    "2. Voting system: 18 for men and women\n",
    "3. Marriage in india: 23 for men and for women >21\n",
    "4. For govt jobs: (min:18, max:32)  for men and (min:18, max:34) for \twomen\n",
    "5. For driving licence: (min:18, max:60) for men and women\n",
    "Eligibility:\n",
    "                1. theatre\n",
    "                    2.  Voting system\n",
    "                    3.  Marriage in india\n",
    "                    4.  For govt obs\n",
    "                    5. For driving licence:\n",
    "\tEnter an option:\n",
    "\t\tGender:\n",
    "\t\t\t1. men\n",
    "\t\t\t2. women\n",
    "\tEnter an option:\n",
    "\t\tEnter an age of person: \"\"\"\n",
    "    \n",
    "x=input(\"Enter an option:\\n\\t\\t Gender:\\n\\t\\t\\t1. Men\\n\\t\\t\\t2. Women\\n\")\n",
    "y=input(\"Enter an age of person: \")\n",
    "opt=input(\"Option for Eligibility:\\n\\t\\t1. Theatre\\n\\t\\t2. Voting system\\n\\t\\t3.  Marriage in india\\n\\t\\t4. For govt jobs\\n\\t\\t5. For driving licence \")\n",
    "\n",
    "if opt=='1':\n",
    "    if y>='5':\n",
    "        print(\"Men is Eligibile to Theatre\")\n",
    "    elif y>='7':\n",
    "        print(\"Women is Eligible to Theatre\")\n",
    "if opt=='2':\n",
    "    if y>='18':\n",
    "        print(\"Men and Women are Eligibile for Voting\")\n",
    "    \n",
    "if opt=='3':\n",
    "    if y>='23':\n",
    "        print(\"Men is Eligibile for Marriage\")\n",
    "    elif y>='21':\n",
    "        print(\"Women is Eligible for marriage\")\n",
    "if opt=='4':\n",
    "    if y>='18' and y<='32':\n",
    "        print(\"Men is Eligibile for Govt job\")\n",
    "    elif y>='18' and y<='34':\n",
    "        print(\"Women is Eligible for Govt job\")\n",
    "if opt=='5':\n",
    "    if y>='18' and y<='60':\n",
    "        print(\"Men and Women are eligibile for driving licence\")\n",
    "    \n",
    "else:\n",
    "    print(\"exit\")"
   ]
  },
  {
   "cell_type": "code",
   "execution_count": 23,
   "id": "704fc75a",
   "metadata": {},
   "outputs": [
    {
     "name": "stdout",
     "output_type": "stream",
     "text": [
      "Operating System:\n",
      "\t1.Windows\n",
      "\t2.Android\n",
      "\t3.Mac\n",
      "Enter an option:4\n",
      "There is only three floors, please select 1 to 3\n"
     ]
    }
   ],
   "source": [
    "\"\"\"Operating System\n",
    "1.windows\n",
    "\t2.android\n",
    "\t3.mac\n",
    "Enter an option:\n",
    "\n",
    "If the user enters 1 then show \"Goto first floor and buy windows laptop or mobile\"\n",
    "If the user enters 2 then show \"Goto second floor and buy adroid mobiles\"\n",
    "If the user enters 3 then show \"Goto third floor and buy mac laptop or iphones\"\n",
    "If the user enters other than 1 or 2 or 3 then show \"There is only three floors, please select 1 or 2 or 3\"\n",
    "\"\"\"\n",
    "print(\"Operating System:\\n\\t1.Windows\\n\\t2.Android\\n\\t3.Mac\")\n",
    "x=input(\"Enter an option:\")\n",
    "if x=='1':\n",
    "    print(\"Goto first floor and buy windows laptop or mobile\")\n",
    "elif x=='2':\n",
    "    print(\"Goto second floor and buy adroid mobiles\")\n",
    "elif x=='3':\n",
    "    print(\"Goto third floor and buy mac laptop or iphones\")\n",
    "else:\n",
    "    print(\"There is only three floors, please select 1 to 3\")\n",
    "\n"
   ]
  },
  {
   "cell_type": "code",
   "execution_count": 26,
   "id": "833856cc",
   "metadata": {},
   "outputs": [
    {
     "name": "stdout",
     "output_type": "stream",
     "text": [
      "Enter a persons age:15\n",
      "Person is a Teenager\n"
     ]
    }
   ],
   "source": [
    "#24.Given an age, figure out whether someone's a baby, toddler, child, teenager, adult or old codger.\n",
    "x=int(input(\"Enter a persons age:\"))\n",
    "if x<=1:\n",
    "    print(\"person is a Baby\")\n",
    "elif x>=1 and x<=3:\n",
    "    print(\"Person is a Taddler\")\n",
    "elif x>=1 and x<=12:\n",
    "    print(\"Person is a Child\")\n",
    "elif x>=13 and x<=20:\n",
    "    print(\"Person is a Teenager\")\n",
    "elif x>20:\n",
    "    print(\"Person is a Adult\")\n"
   ]
  },
  {
   "cell_type": "code",
   "execution_count": 32,
   "id": "99d07c79",
   "metadata": {},
   "outputs": [
    {
     "name": "stdout",
     "output_type": "stream",
     "text": [
      "Enter user input a:12\n",
      "Enter user input b:16\n",
      "a divisible by b\n"
     ]
    }
   ],
   "source": [
    "#25.Take two number a,b from the user and check whether a is divisible by b or not\n",
    "a=float(input(\"Enter user input a:\"))\n",
    "b=float(input(\"Enter user input b:\"))\n",
    "if a/b>=0:\n",
    "    print(\"a divisible by b\")\n",
    "else:\n",
    "    print(\"a is not divisible by b\")\n",
    "    "
   ]
  },
  {
   "cell_type": "code",
   "execution_count": 16,
   "id": "2cf8c271",
   "metadata": {},
   "outputs": [
    {
     "name": "stdout",
     "output_type": "stream",
     "text": [
      "Enter a letter from the user:@\n",
      "It is a Special Symbol\n"
     ]
    }
   ],
   "source": [
    "#26. Take a letter from the user and print that letter belongs to which category I.e is it a small letter or capital letter or number or special symb\n",
    "\n",
    "x=input(\"Enter a letter from the user:\")\n",
    "z=ord(x)\n",
    "if z>=ord('A') and z<=ord('Z')+1:\n",
    "    print(\"It is a capital letter\")\n",
    "elif z>=ord('a') and z<=ord('z')+1:\n",
    "    print(\"It is a small letter\")\n",
    "elif x>='0' and x<='9':\n",
    "    print(\"It is a number\")\n",
    "else:\n",
    "    print(\"It is a Special Symbol\")\n"
   ]
  },
  {
   "cell_type": "code",
   "execution_count": 9,
   "id": "858e30c1",
   "metadata": {},
   "outputs": [
    {
     "name": "stdout",
     "output_type": "stream",
     "text": [
      "Enter any number:241\n",
      "241 -Number is a prime number\n"
     ]
    }
   ],
   "source": [
    "#25. take a number from the user and check whether it is prime?\n",
    "\n",
    "x=int(input(\"Enter any number:\"))\n",
    "\n",
    "if x>=1:#11-true\n",
    "    for i in range(2,int(x/2)+1):#(2,6)\n",
    "        if (x%i)==0:#6\n",
    "            print(x,\"-Number is a not Prime number\")\n",
    "            break\n",
    "    else:\n",
    "        print(x,\"-Number is a prime number\")\n",
    "else:\n",
    "    print(x,\"is not a prime number\")"
   ]
  },
  {
   "cell_type": "code",
   "execution_count": 38,
   "id": "1705f41f",
   "metadata": {},
   "outputs": [
    {
     "name": "stdout",
     "output_type": "stream",
     "text": [
      "Enter a string:sccvbhjab12365\n",
      "String doesn't contains only Digit\n"
     ]
    }
   ],
   "source": [
    "#26. take a string from the user and check contains only digits or not?\n",
    "\n",
    "x=input(\"Enter a string:\")\n",
    "\n",
    "if x.isdigit():\n",
    "    #ord(x)>=ord('0') and ord(x)<=ord('9'):\n",
    "    print(\"String contains only digit:\")\n",
    "else:\n",
    "    print(\"String doesn't contains only Digit\")"
   ]
  },
  {
   "cell_type": "code",
   "execution_count": 45,
   "id": "1a266d4d",
   "metadata": {},
   "outputs": [
    {
     "name": "stdout",
     "output_type": "stream",
     "text": [
      "Enter a string:csbjhb46876532\n",
      "String doesn't contains only letters\n"
     ]
    }
   ],
   "source": [
    "#27. take a string from the user and check contains only  alphabets or not?\n",
    "\n",
    "x=input(\"Enter a string:\")\n",
    "\n",
    "if x.isalpha():\n",
    "    print(\"String contains only letters\")\n",
    "else:\n",
    "    print(\"String doesn't contains only letters\")"
   ]
  },
  {
   "cell_type": "code",
   "execution_count": 50,
   "id": "7b307327",
   "metadata": {},
   "outputs": [
    {
     "name": "stdout",
     "output_type": "stream",
     "text": [
      "enter a letter:!@#$4#42\n",
      "it contains other letters also..\n"
     ]
    }
   ],
   "source": [
    "#28. take a string from the user and check contains only  special chars or not?\n",
    "\n",
    "x=input(\"Enter a letter:\")\n",
    "for i in x:\n",
    "    z = ord(i)\n",
    "    if z in range(ord(\"A\"),ord(\"Z\")+1)   or z in range(ord(\"a\"), ord(\"z\")+1) or z in range(ord(\"0\"),ord(\"9\")):\n",
    "        print(\"it contains other letters also..\")\n",
    "        break\n",
    "else:\n",
    "    print(\"it contains only spcial sysmbols\")\n",
    "    \n"
   ]
  },
  {
   "cell_type": "code",
   "execution_count": 52,
   "id": "940a8381",
   "metadata": {},
   "outputs": [
    {
     "name": "stdout",
     "output_type": "stream",
     "text": [
      "Enter a stringkmkmmk;\n",
      "string contains other letters\n"
     ]
    }
   ],
   "source": [
    "#29.take a string from the user and check contains only  capital letters or not?\n",
    "\n",
    "x=input(\"Enter a string:\")\n",
    "for i in x:\n",
    "    z= ord(i)\n",
    "    if z in range(ord(\"A\"),ord(\"Z\")+1):\n",
    "        print(\"String contains only Capital letters\")\n",
    "        break\n",
    "else:\n",
    "    print(\"string contains other letters\")"
   ]
  },
  {
   "cell_type": "code",
   "execution_count": 53,
   "id": "031f892c",
   "metadata": {},
   "outputs": [
    {
     "name": "stdout",
     "output_type": "stream",
     "text": [
      "Enter a stringcjmvnjnv\n",
      "String contains only Small letters\n"
     ]
    }
   ],
   "source": [
    "#30.take a string from the user and check contains only  small letters or not?\n",
    "\n",
    "x=input(\"Enter a string:\")\n",
    "for i in x:\n",
    "    z= ord(i)\n",
    "    if z in range(ord(\"a\"),ord(\"z\")+1):\n",
    "        print(\"String contains only Small letters\")\n",
    "        break\n",
    "else:\n",
    "    print(\"string contains other letters\")"
   ]
  },
  {
   "cell_type": "code",
   "execution_count": 11,
   "id": "eacf342f",
   "metadata": {},
   "outputs": [
    {
     "name": "stdout",
     "output_type": "stream",
     "text": [
      "apple,orange,apple,grape,orange,APPLE,APPLE,orange\n"
     ]
    }
   ],
   "source": [
    "\"\"\" 31. WAP to replace last n occurrence of give string.\n",
    "For example:”apple,orange,apple,grape,orange,apple,apple,orange”\n",
    "source: “apple”\n",
    "last occurrences: 2\n",
    "replace with: APPLE\n",
    "output:”apple,orange,apple,grape,orange,APPLE,APPLE,orange”\n",
    "\"\"\"\n",
    "\n",
    "\n",
    "s=\"apple,orange,apple,grape,orange,apple,apple,orange\"\n",
    "res_lst=[]\n",
    "sub_string=\"\"\n",
    "\n",
    "for i in s:\n",
    "    if i==\",\":#false,true,false\n",
    "        res_lst=res_lst+[sub_string]\n",
    "        sub_string=\"\"\n",
    "    else:\n",
    "        sub_string=sub_string+i #a,ap,app,appl,apple\n",
    "res_lst=res_lst+[sub_string]\n",
    "replace_count=0\n",
    "\n",
    "reversed_replaces_list=[]\n",
    "for i in res_lst[::-1]:#orange,apple,apple,\n",
    "    if i==\"apple\" and replace_count<2:#false,true,true\n",
    "        reversed_replaces_list=reversed_replaces_list+[\"APPLE\"] #orangeAppleAPPLE\n",
    "        replace_count=replace_count+1 #1,2\n",
    "    else:\n",
    "        reversed_replaces_list=reversed_replaces_list+[i] #orange\n",
    "res_lst = \"\"\n",
    "for i in reversed_replaces_list[::-1]:\n",
    "    res_lst=res_lst+\",\"+i\n",
    "print(res_lst[1:])\n",
    "    "
   ]
  },
  {
   "cell_type": "code",
   "execution_count": 1,
   "id": "591e3d64",
   "metadata": {},
   "outputs": [
    {
     "name": "stdout",
     "output_type": "stream",
     "text": [
      "enter a letter:bghjg545v'@ejik\n",
      "it contains other letters also..\n"
     ]
    }
   ],
   "source": [
    "#32. WAP to check given string contains numbers or not. it should consider float numbers also.\n",
    "#Special Characters (32–47 / 58–64 / 91–96 / 123–126):\n",
    "\n",
    "s=input(\"enter a letter:\")\n",
    "for i in s:\n",
    "    ord_i = ord(i)\n",
    "    if ord_i in range(ord(\"0\"),ord(\"9\")):\n",
    "        print(\"it contains only letters\")\n",
    "else:\n",
    "\n",
    "    \n",
    "    print(\"it contains other letters and symbols also..\")"
   ]
  },
  {
   "cell_type": "code",
   "execution_count": 4,
   "id": "1eed594b",
   "metadata": {},
   "outputs": [
    {
     "ename": "TypeError",
     "evalue": "ord() expected a character, but string of length 2 found",
     "output_type": "error",
     "traceback": [
      "\u001b[1;31m---------------------------------------------------------------------------\u001b[0m",
      "\u001b[1;31mTypeError\u001b[0m                                 Traceback (most recent call last)",
      "\u001b[1;32m~\\AppData\\Local\\Temp/ipykernel_8004/3307491038.py\u001b[0m in \u001b[0;36m<module>\u001b[1;34m\u001b[0m\n\u001b[1;32m----> 1\u001b[1;33m \u001b[0mprint\u001b[0m\u001b[1;33m(\u001b[0m\u001b[0mord\u001b[0m\u001b[1;33m(\u001b[0m\u001b[1;34m\"32\"\u001b[0m\u001b[1;33m)\u001b[0m\u001b[1;33m)\u001b[0m\u001b[1;33m\u001b[0m\u001b[1;33m\u001b[0m\u001b[0m\n\u001b[0m",
      "\u001b[1;31mTypeError\u001b[0m: ord() expected a character, but string of length 2 found"
     ]
    }
   ],
   "source": [
    "print(ord(\"32\"))"
   ]
  },
  {
   "cell_type": "code",
   "execution_count": null,
   "id": "9f650d52",
   "metadata": {},
   "outputs": [],
   "source": []
  }
 ],
 "metadata": {
  "kernelspec": {
   "display_name": "Python 3 (ipykernel)",
   "language": "python",
   "name": "python3"
  },
  "language_info": {
   "codemirror_mode": {
    "name": "ipython",
    "version": 3
   },
   "file_extension": ".py",
   "mimetype": "text/x-python",
   "name": "python",
   "nbconvert_exporter": "python",
   "pygments_lexer": "ipython3",
   "version": "3.9.7"
  }
 },
 "nbformat": 4,
 "nbformat_minor": 5
}
