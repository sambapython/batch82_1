{
 "cells": [
  {
   "cell_type": "code",
   "execution_count": 6,
   "id": "5e1ab75c",
   "metadata": {},
   "outputs": [
    {
     "name": "stdout",
     "output_type": "stream",
     "text": [
      "Total cost is 70.000000, average cost is 17.50, maximum cost is 25.000000, minimum cost is 10.000000\n"
     ]
    }
   ],
   "source": [
    "#Take some groceries cost prices and print total cost and average cost, what is the max cost, what is the minimum cost.\n",
    "\n",
    "\n",
    "a=10\n",
    "b=15\n",
    "c=20\n",
    "d=25\n",
    "Total_cost=sum([a,b,c,d])\n",
    "costs=[a,b,c,d]\n",
    "n=len(costs)\n",
    "avg_cost=Total_cost/n\n",
    "max_cost=max(a,b,c,d)\n",
    "min_cost=min(a,b,c,d)\n",
    "print(\"Total cost is %f, average cost is %.2f, maximum cost is %f, minimum cost is %f\"%(Total_cost, avg_cost, max_cost, min_cost))"
   ]
  },
  {
   "cell_type": "code",
   "execution_count": 10,
   "id": "02e16241",
   "metadata": {},
   "outputs": [
    {
     "name": "stdout",
     "output_type": "stream",
     "text": [
      "Enter the variable value:10\n",
      "ten\n"
     ]
    }
   ],
   "source": [
    "#Assign “ten” value to variable it is 10 otherwise assign “Not ten”\n",
    "\n",
    "a=float(input(\"Enter the variable value:\"))\n",
    "if a==10:\n",
    "    print(\"ten\")\n",
    "else:\n",
    "    print(\"Not ten\")"
   ]
  },
  {
   "cell_type": "code",
   "execution_count": 15,
   "id": "81211290",
   "metadata": {},
   "outputs": [
    {
     "name": "stdout",
     "output_type": "stream",
     "text": [
      "Enter the number:11\n",
      "number is odd number\n"
     ]
    }
   ],
   "source": [
    "#Take number from the user decide whether it is even or odd.\n",
    "\n",
    "\n",
    "number=int(input(\"Enter the number:\"))\n",
    "if number%2==0:\n",
    "    print(\"number is even number\")\n",
    "else:\n",
    "    print(\"number is odd number\")"
   ]
  },
  {
   "cell_type": "code",
   "execution_count": 21,
   "id": "c4813f5d",
   "metadata": {},
   "outputs": [
    {
     "name": "stdout",
     "output_type": "stream",
     "text": [
      "Enter the number:-12\n",
      "number is negative number\n"
     ]
    }
   ],
   "source": [
    "#Take number from the user decide whether it is even or odd.\n",
    "\n",
    "number=int(input(\"Enter the number:\"))\n",
    "if number>=0:\n",
    "    print(\"number is positive number\")\n",
    "else:\n",
    "    print(\"number is negative number\")"
   ]
  },
  {
   "cell_type": "code",
   "execution_count": 41,
   "id": "9637f144",
   "metadata": {},
   "outputs": [
    {
     "name": "stdout",
     "output_type": "stream",
     "text": [
      "Enter the number1:12\n",
      "Enter the number2:2\n",
      "Menu:\n",
      "\t1. Addition:\n",
      "\t2.  Substraction\n",
      "\t3.  Multiplication\n",
      "\t4.  Division\n",
      "Enter the option:4\n",
      "6.0\n"
     ]
    }
   ],
   "source": [
    "number1=float(input(\"Enter the number1:\"))\n",
    "number2=float(input(\"Enter the number2:\"))\n",
    "print(\"Menu:\\n\\t1. Addition:\\n\\t2.  Substraction\\n\\t3.  Multiplication\\n\\t4.  Division\")\n",
    "opt=float(input(\"Enter the option:\"))\n",
    "if opt==1:\n",
    "    print(\"Addition: \",number1+number2)\n",
    "elif opt==2:\n",
    "    print(\"Substraction: \",number1-number2)\n",
    "elif opt==3:\n",
    "    print(number1*number2)\n",
    "elif opt==4:\n",
    "    print(number1/number2)\n",
    "else:\n",
    "    print(\"no number available\")"
   ]
  },
  {
   "cell_type": "code",
   "execution_count": 32,
   "id": "528986e2",
   "metadata": {},
   "outputs": [
    {
     "name": "stdout",
     "output_type": "stream",
     "text": [
      "Enter the string:\n",
      "length of the string\n"
     ]
    }
   ],
   "source": [
    "s=input(\"Enter the string:\")\n",
    "l=len(s)\n",
    "if l>0:\n",
    "    print(l)\n",
    "else:\n",
    "    print(\"no length for the string\")\n",
    "    "
   ]
  },
  {
   "cell_type": "code",
   "execution_count": 33,
   "id": "0ff5f7ca",
   "metadata": {},
   "outputs": [
    {
     "name": "stdout",
     "output_type": "stream",
     "text": [
      "Enter the string:afadsa\n",
      "6\n"
     ]
    }
   ],
   "source": [
    "s=input(\"Enter the string:\")\n",
    "if bool(s)>0:\n",
    "    print(len(s))\n",
    "else:\n",
    "    print(\"no length for the string\")"
   ]
  },
  {
   "cell_type": "code",
   "execution_count": 34,
   "id": "7b2c6945",
   "metadata": {},
   "outputs": [
    {
     "name": "stdout",
     "output_type": "stream",
     "text": [
      "Enter the string:fafwa\n",
      "5\n"
     ]
    }
   ],
   "source": [
    "s=input(\"Enter the string:\")\n",
    "if s: #bool(s)\n",
    "    print(len(s))\n",
    "else:\n",
    "    print(\"error message\")"
   ]
  },
  {
   "cell_type": "code",
   "execution_count": 40,
   "id": "3da84244",
   "metadata": {},
   "outputs": [
    {
     "name": "stdout",
     "output_type": "stream",
     "text": [
      "[1, 2, 3, 4, 34, 34, 123]\n"
     ]
    }
   ],
   "source": [
    "a=[1,34,2,34,3,123,4]\n",
    "a.sort()\n",
    "print(a)"
   ]
  },
  {
   "cell_type": "code",
   "execution_count": 6,
   "id": "634ab799",
   "metadata": {},
   "outputs": [
    {
     "name": "stdout",
     "output_type": "stream",
     "text": [
      "Menu:\n",
      "\t1. kids\n",
      "\t2. Men's\n",
      "\t3. Women's\n",
      "\t4.  Division\n",
      "Enter the option:2\n",
      "you are a gentlemen\n"
     ]
    }
   ],
   "source": [
    "print(\"Menu:\\n\\t1. kids\\n\\t2. Men\\'s\\n\\t3. Women\\'s\\n\\t4.  Division\")\n",
    "opt=float(input(\"Enter the option:\"))\n",
    "if opt==1:\n",
    "    print(\"you are a kid\")\n",
    "elif opt==2:\n",
    "    print(\"you are a gentlemen\")\n",
    "elif opt==3:\n",
    "    print(\"you are a good women \")\n",
    "else:\n",
    "    print(\"error message\")"
   ]
  },
  {
   "cell_type": "code",
   "execution_count": 2,
   "id": "468813c4",
   "metadata": {},
   "outputs": [
    {
     "name": "stdout",
     "output_type": "stream",
     "text": [
      "Odd\n"
     ]
    }
   ],
   "source": [
    "#shortcut for if else/ even or odd\n",
    "\n",
    "number=25\n",
    "res=\"Even\" if number%2==0 else \"Odd\"\n",
    "print(res)"
   ]
  },
  {
   "cell_type": "code",
   "execution_count": 4,
   "id": "509c1898",
   "metadata": {},
   "outputs": [
    {
     "name": "stdout",
     "output_type": "stream",
     "text": [
      "Positive\n"
     ]
    }
   ],
   "source": [
    "#positive or negative\n",
    "\n",
    "number=25\n",
    "res=\"Positive\" if number>=0 else \"Negative\"\n",
    "print(res)"
   ]
  },
  {
   "cell_type": "code",
   "execution_count": 7,
   "id": "22d66a12",
   "metadata": {},
   "outputs": [
    {
     "name": "stdout",
     "output_type": "stream",
     "text": [
      "pytho\n"
     ]
    }
   ],
   "source": [
    "#slicing \n",
    "s=\"python program\"\n",
    "print(s[0:5])"
   ]
  },
  {
   "cell_type": "code",
   "execution_count": 8,
   "id": "35a81517",
   "metadata": {},
   "outputs": [
    {
     "name": "stdout",
     "output_type": "stream",
     "text": [
      "hon pr\n"
     ]
    }
   ],
   "source": [
    "s=\"python program\"\n",
    "print(s[3:9])"
   ]
  },
  {
   "cell_type": "code",
   "execution_count": 13,
   "id": "167f2d36",
   "metadata": {},
   "outputs": [
    {
     "name": "stdout",
     "output_type": "stream",
     "text": [
      "on progr\n"
     ]
    }
   ],
   "source": [
    "s=\"python program\"\n",
    "print(s[-10:-2])"
   ]
  },
  {
   "cell_type": "code",
   "execution_count": 14,
   "id": "b9a9d8f3",
   "metadata": {},
   "outputs": [
    {
     "name": "stdout",
     "output_type": "stream",
     "text": [
      "python program\n"
     ]
    }
   ],
   "source": [
    "s=\"python program\"\n",
    "print(s[0:14])"
   ]
  },
  {
   "cell_type": "code",
   "execution_count": 27,
   "id": "19b47d63",
   "metadata": {},
   "outputs": [
    {
     "name": "stdout",
     "output_type": "stream",
     "text": [
      "abaredyh\n"
     ]
    }
   ],
   "source": [
    "s=\"hyderabad\"\n",
    "print(s[7::-1])"
   ]
  },
  {
   "cell_type": "code",
   "execution_count": 19,
   "id": "75fb06f2",
   "metadata": {},
   "outputs": [
    {
     "name": "stdout",
     "output_type": "stream",
     "text": [
      "drb\n"
     ]
    }
   ],
   "source": [
    "s=\"hyderabad\"\n",
    "print(s[2:7:2])"
   ]
  },
  {
   "cell_type": "code",
   "execution_count": 20,
   "id": "1bee7d2c",
   "metadata": {},
   "outputs": [
    {
     "name": "stdout",
     "output_type": "stream",
     "text": [
      "derab\n"
     ]
    }
   ],
   "source": [
    "s=\"hyderabad\"\n",
    "print(s[-7:-2])"
   ]
  },
  {
   "cell_type": "code",
   "execution_count": 23,
   "id": "2878b33a",
   "metadata": {},
   "outputs": [
    {
     "name": "stdout",
     "output_type": "stream",
     "text": [
      "aae\n"
     ]
    }
   ],
   "source": [
    "s=\"hyderabad\"\n",
    "print(s[-2:-7:-2])"
   ]
  },
  {
   "cell_type": "code",
   "execution_count": 29,
   "id": "298b6c98",
   "metadata": {},
   "outputs": [
    {
     "name": "stdout",
     "output_type": "stream",
     "text": [
      "hyderabad\n"
     ]
    }
   ],
   "source": [
    "s=\"hyderabad\"\n",
    "print(s[:])"
   ]
  },
  {
   "cell_type": "code",
   "execution_count": 30,
   "id": "eaae9de4",
   "metadata": {},
   "outputs": [
    {
     "name": "stdout",
     "output_type": "stream",
     "text": [
      "dabaredyh\n"
     ]
    }
   ],
   "source": [
    "s=\"hyderabad\"\n",
    "print(s[::-1])"
   ]
  },
  {
   "cell_type": "code",
   "execution_count": 31,
   "id": "a11f1b70",
   "metadata": {},
   "outputs": [
    {
     "name": "stdout",
     "output_type": "stream",
     "text": [
      "hyder\n"
     ]
    }
   ],
   "source": [
    "s=\"hyderabad\"\n",
    "print(s[:5:1])"
   ]
  },
  {
   "cell_type": "code",
   "execution_count": 32,
   "id": "3852bce1",
   "metadata": {},
   "outputs": [
    {
     "name": "stdout",
     "output_type": "stream",
     "text": [
      "abad\n"
     ]
    }
   ],
   "source": [
    "s=\"hyderabad\"\n",
    "print(s[5::1])"
   ]
  },
  {
   "cell_type": "code",
   "execution_count": 33,
   "id": "70dee98d",
   "metadata": {},
   "outputs": [
    {
     "name": "stdout",
     "output_type": "stream",
     "text": [
      "dab\n"
     ]
    }
   ],
   "source": [
    "s=\"hyderabad\"\n",
    "print(s[:5:-1])"
   ]
  },
  {
   "cell_type": "code",
   "execution_count": 35,
   "id": "b6920475",
   "metadata": {},
   "outputs": [
    {
     "name": "stdout",
     "output_type": "stream",
     "text": [
      "aredyh\n"
     ]
    }
   ],
   "source": [
    "s=\"hyderabad\"\n",
    "print(s[5::-1])"
   ]
  },
  {
   "cell_type": "code",
   "execution_count": 39,
   "id": "3729dabf",
   "metadata": {},
   "outputs": [
    {
     "name": "stdout",
     "output_type": "stream",
     "text": [
      "positive\n",
      "positive\n",
      "negative\n",
      "positive\n"
     ]
    }
   ],
   "source": [
    "l=[10,20,-30,40]\n",
    "n=l[0]\n",
    "if n>=0:\n",
    "    print(\"positive\")\n",
    "else:\n",
    "    print(\"negative\")\n",
    "n=l[1]\n",
    "if n>=0:\n",
    "    print(\"positive\")\n",
    "else:\n",
    "    print(\"negative\")\n",
    "n=l[2]\n",
    "if n>=0:\n",
    "    print(\"positive\")\n",
    "else:\n",
    "    print(\"negative\")\n",
    "n=l[3]\n",
    "if n>=0:\n",
    "    print(\"positive\")\n",
    "else:\n",
    "    print(\"negative\")"
   ]
  },
  {
   "cell_type": "code",
   "execution_count": 37,
   "id": "c0e852d6",
   "metadata": {},
   "outputs": [
    {
     "name": "stdout",
     "output_type": "stream",
     "text": [
      "10\n",
      "20\n",
      "-30\n",
      "40\n"
     ]
    }
   ],
   "source": [
    "l=[10,20,-30,40]\n",
    "for n in l:\n",
    "    print(n)"
   ]
  },
  {
   "cell_type": "code",
   "execution_count": 40,
   "id": "92d958af",
   "metadata": {},
   "outputs": [
    {
     "name": "stdout",
     "output_type": "stream",
     "text": [
      "1\n",
      "2\n",
      "3\n",
      "4\n",
      "5\n",
      "6\n",
      "7\n",
      "8\n",
      "89\n"
     ]
    }
   ],
   "source": [
    "l=[1,2,3,4,5,6,7,8,89]\n",
    "for n in l:\n",
    "    print(n)"
   ]
  },
  {
   "cell_type": "code",
   "execution_count": 41,
   "id": "67aa9252",
   "metadata": {},
   "outputs": [
    {
     "name": "stdout",
     "output_type": "stream",
     "text": [
      "1\n",
      "2\n",
      "3\n",
      "4\n",
      "5\n",
      "6\n",
      "7\n",
      "8\n",
      "89\n"
     ]
    }
   ],
   "source": [
    "l=(1,2,3,4,5,6,7,8,89)\n",
    "for n in l:\n",
    "    print(n)"
   ]
  },
  {
   "cell_type": "code",
   "execution_count": 5,
   "id": "52c4d333",
   "metadata": {},
   "outputs": [
    {
     "name": "stdout",
     "output_type": "stream",
     "text": [
      "Started\n",
      "d\n",
      "ended\n"
     ]
    }
   ],
   "source": [
    "print(\"Started\")\n",
    "if False:\n",
    "    print(\"A\")\n",
    "else:\n",
    "    pass #it will pass the statement if there is an empty block \n",
    "    print(\"d\")\n",
    "print(\"ended\")"
   ]
  },
  {
   "cell_type": "code",
   "execution_count": null,
   "id": "5e0b8270",
   "metadata": {},
   "outputs": [],
   "source": []
  }
 ],
 "metadata": {
  "kernelspec": {
   "display_name": "Python 3 (ipykernel)",
   "language": "python",
   "name": "python3"
  },
  "language_info": {
   "codemirror_mode": {
    "name": "ipython",
    "version": 3
   },
   "file_extension": ".py",
   "mimetype": "text/x-python",
   "name": "python",
   "nbconvert_exporter": "python",
   "pygments_lexer": "ipython3",
   "version": "3.9.7"
  }
 },
 "nbformat": 4,
 "nbformat_minor": 5
}
