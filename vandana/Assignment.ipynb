{
 "cells": [
  {
   "cell_type": "code",
   "execution_count": 37,
   "id": "c33d426f",
   "metadata": {},
   "outputs": [
    {
     "name": "stdout",
     "output_type": "stream",
     "text": [
      "Enter temperature in fahrenheit: 99\n",
      "celsius is:37.22222222222222\n",
      "fahrenheit is: 99.0\n"
     ]
    }
   ],
   "source": [
    "#ASS-2\n",
    "#take temperature from the user and convert foreign heat -> Celsius.\n",
    "fahrenheit = float(input(\"Enter temperature in fahrenheit: \"))\n",
    "celsius = (fahrenheit - 32) * 5/9\n",
    "print(\"celsius is:\"+str(celsius))\n",
    "print(\"fahrenheit is:\",fahrenheit)\n"
   ]
  },
  {
   "cell_type": "code",
   "execution_count": 34,
   "id": "925564ff",
   "metadata": {},
   "outputs": [
    {
     "name": "stdout",
     "output_type": "stream",
     "text": [
      "Enter temperature in fahrenheit: 99\n",
      "celsius is :99\n",
      "Fahrenheit is : 210.2\n"
     ]
    }
   ],
   "source": [
    "#ASS-3\n",
    "#take temperature from the user and convert Celsius → foreign heat.\n",
    "celsius= input(\"Enter temperature in fahrenheit: \")\n",
    "C=float(celsius)\n",
    "fahrenheit  = (C* 9/5)+32\n",
    "print(\"celsius is :\"+str(celsius))\n",
    "print(\"Fahrenheit is :\",fahrenheit)"
   ]
  },
  {
   "cell_type": "code",
   "execution_count": 40,
   "id": "bbe8eb03",
   "metadata": {},
   "outputs": [
    {
     "name": "stdout",
     "output_type": "stream",
     "text": [
      "enter number of people in a bus100\n",
      "enter number of seats per bus25\n",
      "number of buses required are: 4.0\n"
     ]
    }
   ],
   "source": [
    "#Ass1\n",
    "\n",
    "Total=float(input(\"enter number of people in a bus\"))\n",
    "N=float(input(\"enter number of seats per bus\"))\n",
    "BR=float(Total/N)\n",
    "print(\"number of buses required are:\",BR)"
   ]
  },
  {
   "cell_type": "code",
   "execution_count": 45,
   "id": "6f321496",
   "metadata": {},
   "outputs": [
    {
     "name": "stdout",
     "output_type": "stream",
     "text": [
      "enter a Value of X110\n",
      "enter a Value of X220\n",
      "enter a Value of X330\n",
      "enter a Value of X440\n",
      "900.0\n",
      "343000.0\n"
     ]
    }
   ],
   "source": [
    "#ASS-4\n",
    "#Calculating Sauares and Cubes\n",
    "\n",
    "x1=float(input(\"enter a Value of X1\"))\n",
    "x2=float(input(\"enter a Value of X2\"))\n",
    "x3=float(input(\"enter a Value of X3\"))\n",
    "x4=float(input(\"enter a Value of X4\"))\n",
    "print((x1+x2)**2)\n",
    "print((x3+x4)**3)"
   ]
  },
  {
   "cell_type": "code",
   "execution_count": 70,
   "id": "a7ed9233",
   "metadata": {},
   "outputs": [
    {
     "name": "stdout",
     "output_type": "stream",
     "text": [
      "Total Mean is 200\n",
      "Mean is: 50.0\n",
      "1400.0\n",
      "Variance is: 466.6666666666667\n",
      "standard Deviation is: 21.602468994692867\n"
     ]
    }
   ],
   "source": [
    "#ASS-4\n",
    "#Calculate Mean, Variance, Standard\n",
    "\n",
    "X1=30\n",
    "X2=50\n",
    "X3=80\n",
    "X4=40\n",
    "Mean=(X1+X2+X3+X4)\n",
    "M=Mean/4\n",
    "S=(((X1-M)**2)+((X2-M)**2)+((X3-M)**2)+((X4-M)**2))\n",
    "var=S/3\n",
    "SD=(S1**0.5)\n",
    "print(\"Total Mean is\",Mean)\n",
    "print(\"Mean is:\",M)\n",
    "print(S)\n",
    "print(\"Variance is:\",var)\n",
    "print(\"standard Deviation is:\",SD)"
   ]
  },
  {
   "cell_type": "code",
   "execution_count": 83,
   "id": "338e5bb0",
   "metadata": {},
   "outputs": [
    {
     "name": "stdout",
     "output_type": "stream",
     "text": [
      "Sum of numbers is: 200\n",
      "Average is: 50.0\n",
      "the Value of y is: 246.045\n"
     ]
    }
   ],
   "source": [
    "#ASS-4\n",
    "#Regression\n",
    "#y=mx+b\n",
    "#Find the average of four numbers\n",
    "#Find the sum of four numbers\n",
    "\n",
    "m=1.23\n",
    "b=0.045\n",
    "X1=30\n",
    "X2=50\n",
    "X3=80\n",
    "X4=40\n",
    "X=X1+X2+X3+X4\n",
    "print(\"Sum of numbers is:\",X)\n",
    "Avg=X/4\n",
    "print(\"Average is:\",Avg)\n",
    "y=m*(X1+X2+X3+X4)+b\n",
    "print(\"the Value of y is:\",y)"
   ]
  },
  {
   "cell_type": "code",
   "execution_count": 94,
   "id": "1cc03895",
   "metadata": {},
   "outputs": [
    {
     "name": "stdout",
     "output_type": "stream",
     "text": [
      "enter a kilometers6\n",
      "The number of Kilometers = 6.0 km\n",
      "The length of Centimeters = 600000.0 cm\n",
      "The length in Meters 6000.0 m\n",
      "The length in Millimeters= 60000.0 mm\n"
     ]
    }
   ],
   "source": [
    "#ASS-5\n",
    "#Take the distance in km\n",
    "#Show that in cm, meters, in milli meters, cents, feets, yards\n",
    "\n",
    "KM=float(input(\"enter a kilometers\"))\n",
    "print(\"The number of Kilometers =\",KM,\"km\")\n",
    "#convert Kilometer to cm.\n",
    "CM = 100000 * KM\n",
    "print(\"The length of Centimeters =\",CM,\"cm\")\n",
    "#convert cm to meter.\n",
    "M = (CM/100);\n",
    "print(\"The length in Meters\",M,\"m\")\n",
    "MM=CM/10\n",
    "print(\"The length in Millimeters=\",MM,\"mm\")"
   ]
  },
  {
   "cell_type": "code",
   "execution_count": 107,
   "id": "6af018e7",
   "metadata": {},
   "outputs": [
    {
     "name": "stdout",
     "output_type": "stream",
     "text": [
      "Enter the size of Harddisk:1\n",
      "The size of Harddisk is 1.0 GB\n",
      "The size GB to MB is 1024.0 MB\n",
      "The size MB to KB is 1048576.0 KB\n",
      "The size GB to TB is 1024.0 TB\n",
      "The size TB to PB is 1048576.0 PB\n"
     ]
    }
   ],
   "source": [
    "#ASS-6\n",
    "#Take the size of your hard disk in GB\n",
    "#Show that in MB, KB, TB, PB\n",
    "\n",
    "GB=float(input(\"Enter the size of Harddisk:\"))\n",
    "print(\"The size of Harddisk is\",size,\"GB\")\n",
    "MB=GB*1024\n",
    "print(\"The size GB to MB is\",MB,\"MB\")\n",
    "KB=MB*1024\n",
    "print(\"The size MB to KB is\",KB,\"KB\")\n",
    "TB=1024*GB\n",
    "print(\"The size GB to TB is\",TB,\"TB\")\n",
    "PB=1024*TB\n",
    "print(\"The size TB to PB is\",PB,\"PB\")"
   ]
  },
  {
   "cell_type": "code",
   "execution_count": 9,
   "id": "7128e0b0",
   "metadata": {},
   "outputs": [
    {
     "name": "stdout",
     "output_type": "stream",
     "text": [
      "Name:Rithvika Age: 5 year Height2.47Weight:19.25KGS\n"
     ]
    }
   ],
   "source": [
    "#ASS-7\n",
    "#Take name, age, height from the user and print like below\n",
    "#The details of the person: Name:name of the person, Age:age of the person, Height:height of the person\n",
    "\n",
    "name=\"Rithvika\"\n",
    "age=5\n",
    "height=2.465684\n",
    "weight=19.254785\n",
    "#jayaram is \"5 year old, his height:2.46FEET weight:19.23KGS\n",
    "print(\"Name:\"+str(name),\"Age:\",age,\"year\",\"Height\"+str(round(height,2))+\"Weight:\"+str(round(weight,2))+\"KGS\")"
   ]
  },
  {
   "cell_type": "code",
   "execution_count": 116,
   "id": "7d8a2136",
   "metadata": {},
   "outputs": [
    {
     "name": "stdout",
     "output_type": "stream",
     "text": [
      "The BMI of a Person is: 5.57\n"
     ]
    }
   ],
   "source": [
    "#ASS-8\n",
    "#BMI calculation: take required parameters for BMI calculation from the user and calculate BMI of the person.\n",
    "\n",
    "Name=\"Rithivika\"\n",
    "Height=3.5\n",
    "Weight=19.5\n",
    "BMI=(Weight/Height)\n",
    "print(\"The BMI of a Person is:\",round(BMI,2))"
   ]
  },
  {
   "cell_type": "code",
   "execution_count": 10,
   "id": "550e48dd",
   "metadata": {},
   "outputs": [
    {
     "name": "stdout",
     "output_type": "stream",
     "text": [
      " Name: Rithvika Age: 1.6 Height: 3.54 Weight: 10.344\n"
     ]
    }
   ],
   "source": [
    "#ASS-9\n",
    "#By using above inputs print the output\n",
    "#Name:Jayaram, Age:1.6, Height:3.54, Weight:10.344\n",
    "#Note: Use format specifiers(%s, %d, %f)\n",
    "\n",
    "name=\"Rithvika\"\n",
    "age=1.6\n",
    "height=3.54\n",
    "weight=10.344\n",
    "print(\" Name: %s Age: %s Height: %s Weight: %s\"%(name,age,height,weight))\n"
   ]
  },
  {
   "cell_type": "code",
   "execution_count": 12,
   "id": "5eb63f0e",
   "metadata": {},
   "outputs": [
    {
     "name": "stdout",
     "output_type": "stream",
     "text": [
      "enter a stirng APPLE\n",
      "Enter second string rose\n",
      "False\n",
      "apple\n",
      "False\n",
      "ROSE\n"
     ]
    }
   ],
   "source": [
    "#ASS=10\n",
    "#Take three upper case letters from the user convert in to small case.\n",
    "\n",
    "S1=input(\"enter a stirng \")\n",
    "s2=input(\"Enter second string \")\n",
    "print(S1.islower())\n",
    "print(S1.lower())\n",
    "print(s2.isupper())\n",
    "print(s2.upper())"
   ]
  },
  {
   "cell_type": "code",
   "execution_count": 152,
   "id": "0656b466",
   "metadata": {},
   "outputs": [
    {
     "name": "stdout",
     "output_type": "stream",
     "text": [
      "125\n",
      "125\n"
     ]
    }
   ],
   "source": [
    "#ASS-11\n",
    "#take base and exponent value from the user and print like in mathematics:\n",
    "\n",
    "base=5\n",
    "exp=3\n",
    "res=pow(base,exp)\n",
    "print(res)\n",
    "print((base)**(exp))"
   ]
  },
  {
   "cell_type": "code",
   "execution_count": 18,
   "id": "fac8b16f",
   "metadata": {},
   "outputs": [
    {
     "name": "stdout",
     "output_type": "stream",
     "text": [
      "Enter the cost 10\n",
      "Enter the cost 40\n",
      "Enter the cost 80\n",
      "Enter the cost 50\n",
      "Enter the cost 5\n",
      "The total cost= 185.0\n",
      "The avg cost= 37.0\n",
      "80.0\n",
      "5.0\n"
     ]
    }
   ],
   "source": [
    "#ASS-12\n",
    "#Take some groceries cost prices and print total cost and average cost, what is the max cost, what is the minimum cost.\n",
    "\n",
    "g1=float(input(\"Enter the cost \"))\n",
    "g2=float(input(\"Enter the cost \"))\n",
    "g3=float(input(\"Enter the cost \"))\n",
    "g4=float(input(\"Enter the cost \"))\n",
    "g5=float(input(\"Enter the cost \"))\n",
    "tot=(g1+g2+g3+g4+g5)\n",
    "avg=(tot/5)\n",
    "print(\"The total cost=\",tot)\n",
    "print(\"The avg cost=\",avg)\n",
    "print(max(g1,g2,g3,g4,g5))\n",
    "print(min(g1,g2,g3,g4,g5))"
   ]
  },
  {
   "cell_type": "code",
   "execution_count": 86,
   "id": "a8658481",
   "metadata": {},
   "outputs": [
    {
     "name": "stdout",
     "output_type": "stream",
     "text": [
      "Enter x1:15\n",
      "Enter x2:23\n",
      "Enter x3:23\n",
      "Enter x4:85\n",
      "Enter x5:96\n",
      "1\n",
      "242.0\n",
      "414.8493702538308\n"
     ]
    }
   ],
   "source": [
    "#ASS-4\n",
    "#Calculate Mean, Variance, Standard\n",
    "x1=float(input(\"Enter x1:\"))\n",
    "x2=float(input(\"Enter x2:\"))\n",
    "x3=float(input(\"Enter x3:\"))\n",
    "x4=float(input(\"Enter x4:\"))\n",
    "x5=float(input(\"Enter x5:\"))\n",
    "numbers=[x1+x2+x3+x4+x5]\n",
    "n=len(numbers)\n",
    "sum_values=sum(numbers)\n",
    "print(n)\n",
    "print(sum_values)\n",
    "mean = sum_values/n\n",
    "SD = (x1-mean)**2+(x2-mean)**2+(x3-mean)**2+(x4-mean)**2\n",
    "res1 = (SD/n)**0.5\n",
    "print(res1)\n"
   ]
  },
  {
   "cell_type": "code",
   "execution_count": 93,
   "id": "f506efc6",
   "metadata": {},
   "outputs": [
    {
     "name": "stdout",
     "output_type": "stream",
     "text": [
      "enter a Value10\n",
      "enter b Value5\n",
      "It is not ten\n",
      "It is Ten\n"
     ]
    }
   ],
   "source": [
    "#ASS-13\n",
    "#Assign “ten” value to variable it is 10 otherwise assign “Not ten”\\n\",\n",
    "    #Note: write two versions of program\n",
    "    #Version1: use and operator\\n\"\n",
    "    #Version2: use or operator \\n\"\n",
    "a=int(input(\"enter a Value\"))\n",
    "b=int(input(\"enter b Value\"))\n",
    "#And\n",
    "if a==10 and b==10:\n",
    "    print(\"It is Ten\")\n",
    "else:\n",
    "    print(\"It is not ten\")\n",
    "#Or\n",
    "if a==10 or b==10:\n",
    "    print(\"It is Ten\")\n",
    "else:\n",
    "    print(\"It is not ten\")"
   ]
  },
  {
   "cell_type": "code",
   "execution_count": 19,
   "id": "e857d382",
   "metadata": {},
   "outputs": [
    {
     "name": "stdout",
     "output_type": "stream",
     "text": [
      "Enter a value6\n",
      "6 <class 'int'>\n",
      "6 is even\n"
     ]
    }
   ],
   "source": [
    "#ASS -14\n",
    "'''Take number from the user decide whether it is even or odd.'''\n",
    "a=int(input(\"Enter a value\"))\n",
    "print(a,type(a))\n",
    "if (a % 2)== 0:\n",
    "    print(\"%d is even\"%(a))\n",
    "else:\n",
    "    print(\"%d is odd\"%(a))\n",
    "    "
   ]
  },
  {
   "cell_type": "code",
   "execution_count": 22,
   "id": "af57444a",
   "metadata": {},
   "outputs": [
    {
     "name": "stdout",
     "output_type": "stream",
     "text": [
      "Enter a value-10\n",
      "-10 <class 'int'>\n",
      "-10 is negative number\n"
     ]
    }
   ],
   "source": [
    "#ASS-15\n",
    "#take number from the user decide whether it is positive number or negative number\n",
    "a=int(input(\"Enter a value\"))\n",
    "print(a,type(a))\n",
    "if (a > 0):\n",
    "    print(\"%d is positive number\"%(a))\n",
    "else:\n",
    "    print(\"%d is negative number\"%(a))"
   ]
  },
  {
   "cell_type": "code",
   "execution_count": 30,
   "id": "b3388cf7",
   "metadata": {},
   "outputs": [
    {
     "name": "stdout",
     "output_type": "stream",
     "text": [
      " <class 'str'>\n",
      "0\n",
      "HYDERABAD <class 'str'>\n",
      "9\n"
     ]
    }
   ],
   "source": [
    "#ASS-16\n",
    "#take a string from the user print the length. if the user not given anything then show an error message\n",
    "a=\"\"\n",
    "b=\"HYDERABAD\"\n",
    "print(a,type(a))\n",
    "print(len(a))\n",
    "if len(a)>len(b):\n",
    "    print(\"error message\")\n",
    "print(b,type(b))\n",
    "print(len(b))"
   ]
  },
  {
   "cell_type": "code",
   "execution_count": 14,
   "id": "89271fca",
   "metadata": {},
   "outputs": [
    {
     "name": "stdout",
     "output_type": "stream",
     "text": [
      "enter a string hyderabad\n",
      "length of the string: 9\n"
     ]
    }
   ],
   "source": [
    "#ASS-16\n",
    "#take a string from the user print the length. if the user not given anything then show an error message\n",
    "s=input(\"enter a string \")\n",
    "if s==\"\":\n",
    "    print(\"error message\")\n",
    "else:\n",
    "    l=len(s)\n",
    "    print(\"length of the string:\",l)\n"
   ]
  },
  {
   "cell_type": "code",
   "execution_count": 17,
   "id": "ffe94b3f",
   "metadata": {},
   "outputs": [
    {
     "name": "stdout",
     "output_type": "stream",
     "text": [
      "enter num110\n",
      "enter num250\n",
      "enter option to perform\n",
      "Enter any of operation \n",
      "1.Addition\n",
      "2.Subtraction\n",
      "3.Multiply\n",
      "4.Division\n",
      "1\n",
      "60.0\n",
      "Num1= 10.0 ch= 1 Num2= 50.0\n"
     ]
    }
   ],
   "source": [
    "#ASS-17\n",
    "#code to perform mathematical operations. take two numbers from the user and show the below menu\n",
    "num1=float(input(\"enter num1\"))\n",
    "num2=float(input(\"enter num2\"))\n",
    "print(\"enter option to perform\")\n",
    "ch = input(\"Enter any of operation \\n1.Addition\\n2.Subtraction\\n3.Multiply\\n4.Division\\n\")\n",
    "if ch == \"1\":\n",
    "    print(num1 + num2)\n",
    "elif ch == \"2\":\n",
    "    print(num1 - num2)\n",
    "elif ch == \"3\":\n",
    "    print(num1 * num2)\n",
    "elif ch == \"4\":\n",
    "    print(num1 / num2)\n",
    "else:\n",
    "    print(\"Input character is not recognized!\")\n",
    "print(\"Num1=\",num1,\"ch=\",ch,\"Num2=\",num2)"
   ]
  },
  {
   "cell_type": "code",
   "execution_count": 5,
   "id": "c9aa4763",
   "metadata": {},
   "outputs": [
    {
     "name": "stdout",
     "output_type": "stream",
     "text": [
      "Enter number of people 100\n",
      "Enter number of buses available 6\n",
      "Enter number of seats available per each bus 12\n",
      "buses available is: 8.333333333333334\n",
      "buses required\n"
     ]
    }
   ],
   "source": [
    "\"\"\"\n",
    "ASS-13(A)\n",
    "Take the input from the user for(Total number of people, total number of buses, Number of seats for bus, adjust factor). \n",
    "Based on four inputs\n",
    "BR=float(Total/N)\n",
    "whether there is sufficient buses or not and give solution for how many extra buses required.\n",
    "\"\"\"\n",
    "people=float(input(\"Enter number of people \"))\n",
    "buses=float(input(\"Enter number of buses available \"))\n",
    "seats=float(input(\"Enter number of seats available per each bus \"))\n",
    "busesreq=float(people/seats)\n",
    "print(\"buses available is:\",busesreq)\n",
    "if busesreq==0 :\n",
    "    print(\"no buses are required\")\n",
    "else:\n",
    "    print(\"buses required\")\n",
    "          "
   ]
  },
  {
   "cell_type": "code",
   "execution_count": 94,
   "id": "2fc42c8a",
   "metadata": {},
   "outputs": [
    {
     "name": "stdout",
     "output_type": "stream",
     "text": [
      "enter num110\n",
      "enter num220\n",
      "enter option to perform\n",
      "Enter any of operation \n",
      "1.Addition\n",
      "2.Subtraction\n",
      "3.Multiply\n",
      "4.Division\n",
      "2\n",
      "-10.0\n",
      "Done\n"
     ]
    }
   ],
   "source": [
    "#ASS-17\n",
    "#code to perform mathematical operations. take two numbers from the user and show the below menu\n",
    "num1=float(input(\"enter num1\"))\n",
    "num2=float(input(\"enter num2\"))\n",
    "print(\"enter option to perform\")\n",
    "ch = input(\"Enter any of operation \\n1.Addition\\n2.Subtraction\\n3.Multiply\\n4.Division\\n\")\n",
    "if ch == \"1\":\n",
    "    print(num1 + num2)\n",
    "elif ch == \"2\":\n",
    "    print(num1 - num2)\n",
    "elif ch == \"3\":\n",
    "    print(num1 * num2)\n",
    "elif ch == \"4\":\n",
    "    print(num1 / num2)\n",
    "else:\n",
    "    print(\"Option is not recognized!\")\n",
    "print(\"Done\")"
   ]
  },
  {
   "cell_type": "code",
   "execution_count": 7,
   "id": "a5b22fff",
   "metadata": {},
   "outputs": [
    {
     "name": "stdout",
     "output_type": "stream",
     "text": [
      "enter option to perform\n",
      "Enter any of operation \n",
      "1. Kids \n",
      " 2. Men's \n",
      " 3.Women's\n",
      "1\n",
      "You are a Kid\n",
      "Ended\n"
     ]
    }
   ],
   "source": [
    "\"\"\"18. show the menu:\n",
    "   \t\t 1. kids\n",
    "    \t\t2. Men's\n",
    "   \t\t 3. Women's\n",
    "    \t\tShow the corresponding message based on the selection.\n",
    "\t\tOption:1: you are a kid\n",
    "                                           2: you are a gentlemen\n",
    "                                            3: you are a good women\n",
    "\n",
    " Mention error message if the option value >3.\n",
    "\"\"\"\n",
    "print(\"enter option to perform\")\n",
    "ch = input(\"Enter any of operation \\n1. Kids \\n 2. Men's \\n 3.Women's\\n\")\n",
    "if ch==\"1\":\n",
    "    print(\"You are a Kid\")\n",
    "elif ch==\"2\":\n",
    "    print(\"You are a GentleMen\")\n",
    "elif ch==\"3\":\n",
    "    print(\"You are a good women \")\n",
    "else:\n",
    "    print(\"There is an Error in your option\")\n",
    "print(\"Ended\")\n"
   ]
  },
  {
   "cell_type": "code",
   "execution_count": 27,
   "id": "83b4eac3",
   "metadata": {},
   "outputs": [
    {
     "name": "stdout",
     "output_type": "stream",
     "text": [
      "Enter a StringWelcome to python class\n",
      "The string is : Welcome to python class\n",
      "False\n"
     ]
    }
   ],
   "source": [
    "\"\"\"\n",
    "ASS-19\n",
    "write a program to chcek given substring is there in actual string or not?\n",
    "example: act=\"python is a pure object oriented programing language\"\n",
    "check whether “pure” is there in act or not.\n",
    "Note: Use in operator\n",
    "\"\"\"\n",
    "string=input(\"Enter a String\")\n",
    "print(\"The string is :\", string)\n",
    "print(\"is\" in string)"
   ]
  },
  {
   "cell_type": "code",
   "execution_count": 26,
   "id": "90a23449",
   "metadata": {},
   "outputs": [
    {
     "name": "stdout",
     "output_type": "stream",
     "text": [
      "The string is : Welcome to Python class\n",
      "True\n"
     ]
    }
   ],
   "source": [
    "string= \"Welcome to Python class\"\n",
    "print(\"The string is :\", string)\n",
    "print(\"Welcome\" in string)"
   ]
  },
  {
   "cell_type": "code",
   "execution_count": 30,
   "id": "dc875b9f",
   "metadata": {},
   "outputs": [
    {
     "name": "stdout",
     "output_type": "stream",
     "text": [
      "Enter a value30\n",
      "Enter a value50\n",
      "Enter a value10\n",
      "b is greater\n"
     ]
    }
   ],
   "source": [
    "\"\"\"ASS-20\n",
    "Take three numbers from the user and decide which is big\"\"\"\n",
    "a=float(input(\"Enter a value\"))\n",
    "b=float(input(\"Enter a value\"))\n",
    "c=float(input(\"Enter a value\"))\n",
    "if (a>b and a>c):\n",
    "    print(\"a is greater\")\n",
    "elif (b>a and b>c):\n",
    "    print(\"b is greater\")\n",
    "else:\n",
    "    print(\"c is greater\")"
   ]
  },
  {
   "cell_type": "code",
   "execution_count": 43,
   "id": "5ca0b895",
   "metadata": {},
   "outputs": [
    {
     "name": "stdout",
     "output_type": "stream",
     "text": [
      "enter age of the user10\n",
      "Not eligible\n"
     ]
    }
   ],
   "source": [
    "\"\"\"ASS-21\n",
    "Take age and gender from the user and decide whether he is eligible for \tmarriage in India or not.\n",
    "Age criteria: men age>22, women>18\"\"\"\n",
    "gender=[\"Men\",\"women\"]\n",
    "age=float(input(\"enter age of the user\"))\n",
    "i\n",
    "if (age>22):\n",
    "    print(\"He is eligible for marriage\")\n",
    "elif(age>18):\n",
    "    print(\"Women is eligible for marriage\")\n",
    "else:\n",
    "    print(\"Not eligible\")\n"
   ]
  },
  {
   "cell_type": "code",
   "execution_count": 21,
   "id": "9c5b4ea4",
   "metadata": {},
   "outputs": [
    {
     "name": "stdout",
     "output_type": "stream",
     "text": [
      "enter a gendermen\n",
      "enter age of the user8\n",
      "Not eligible\n"
     ]
    }
   ],
   "source": [
    "gender=input(\"enter a gender\")\n",
    "age=float(input(\"enter age of the user\"))\n",
    "if (gender==\"men\" and age>22):\n",
    "    print(\"He is eligible for marriage\")\n",
    "elif(gender==\"women\" and age>18):\n",
    "    print(\"Women is eligible for marriage\")\n",
    "else:\n",
    "    print(\"Not eligible\")"
   ]
  },
  {
   "cell_type": "code",
   "execution_count": 54,
   "id": "296b461b",
   "metadata": {},
   "outputs": [
    {
     "name": "stdout",
     "output_type": "stream",
     "text": [
      "enter a sex women\n",
      "enter age of the user18\n",
      "eligible for marriage\n"
     ]
    }
   ],
   "source": [
    "gender=input(\"enter a gender \")\n",
    "age=float(input(\"enter age of the user\"))\n",
    "if (gender==\"men\" and age>=22) or (gender==\"women\" and age>=18):\n",
    "    print(\"eligible for marriage\")\n",
    "else:\n",
    "    print(\"Not eligible\")"
   ]
  },
  {
   "cell_type": "code",
   "execution_count": 51,
   "id": "517ca03b",
   "metadata": {},
   "outputs": [
    {
     "name": "stdout",
     "output_type": "stream",
     "text": [
      "enter age of the user80\n",
      "enter a gender\n",
      " 1. Men\n",
      " 2.Women \n",
      "2\n",
      "Enter any of operation\n",
      "1.Theatre \n",
      "2.Voting system \n",
      " 3.Marriage in india\n",
      " 4.For govt jobs\n",
      " 5.For driving licence\n",
      "5\n",
      "eligible for driving license\n"
     ]
    }
   ],
   "source": [
    "\"\"\"ASS-22 Theatre: 5 for men 7 for women\n",
    "Take an age  and gender from the user: and mention that what he/she can \tdo in india.\"\"\"\n",
    "age=float(input(\"enter age of the user\"))\n",
    "gen=input(\"enter a gender\\n 1. Men\\n 2.Women \\n\")\n",
    "#print(\"enter option to perform\")\n",
    "ch = input(\"Enter any of operation\\n1.Theatre \\n2.Voting system \\n 3.Marriage in india\\n 4.For govt jobs\\n 5.For driving licence\\n\")\n",
    "if ch not in [\"1\",\"2\",\"3\",\"4\",\"5\"]:\n",
    "    print(\"enter wrong option\")\n",
    "else:\n",
    "    if(ch==\"1\"and (gen==\"1\" or \"2\") and (age>=5 or age>=7)):\n",
    "        print(\"Eligible to watch a movie\")\n",
    "    elif(ch==\"2\"and (gen==\"1\" or \"2\") and (age>=18)):\n",
    "        print(\"eligible to vote\")\n",
    "    elif(ch==\"3\"and (gen==\"1\" or \"2\") and (age>23 or age>21)):\n",
    "        print(\"eligible for marriage\")\n",
    "    elif(ch==\"4\"and (gen==\"1\") and (age>=18 or age<=32)):\n",
    "        print(\"eligible to government job\")\n",
    "    elif(ch==\"4\"and (gen==\"2\") and (age>=18 or age<=34)):\n",
    "        print(\"eligible to government job\")\n",
    "    elif(ch==\"5\"and (gen==\"1\" or \"2\") and (age>=18 or age<=80)):\n",
    "        print(\"eligible for driving license\")\n",
    "    else:\n",
    "        print(\"Not Eligible\")\n",
    "    "
   ]
  },
  {
   "cell_type": "markdown",
   "id": "18dc3e11",
   "metadata": {},
   "source": []
  },
  {
   "cell_type": "code",
   "execution_count": 80,
   "id": "408fdb53",
   "metadata": {},
   "outputs": [
    {
     "name": "stdout",
     "output_type": "stream",
     "text": [
      "Enter a value12\n",
      "Enter b value5\n",
      "a is not divisible by b\n"
     ]
    }
   ],
   "source": [
    "\"\"\"ASS-25\n",
    "Take two number a,b from the user and check whether a is divisible by b or not\"\"\"\n",
    "a=float(input(\"Enter a value\"))\n",
    "b=float(input(\"Enter b value\"))\n",
    "if a%b==0 :\n",
    "    print(\"a is divisible by b\")\n",
    "else:\n",
    "    print(\"a is not divisible by b\")\n"
   ]
  },
  {
   "cell_type": "code",
   "execution_count": 22,
   "id": "d8c502c7",
   "metadata": {},
   "outputs": [
    {
     "name": "stdout",
     "output_type": "stream",
     "text": [
      "Enter any of the option\n",
      "1.windows \n",
      "2.android \n",
      " 3.mac\n",
      "1\n",
      "Goto first floor and buy windows laptop or mobile\n"
     ]
    }
   ],
   "source": [
    "\"\"\"ASS-23 operating systems:\n",
    "\t1.windows\n",
    "\t2.android\n",
    "\t3.mac\"\"\"\n",
    "ch = input(\"Enter any of the option\\n1.windows \\n2.android \\n 3.mac\\n\")\n",
    "if ch==\"1\":\n",
    "    print(\"Goto first floor and buy windows laptop or mobile\")\n",
    "elif ch==\"2\":\n",
    "    print(\"Goto second floor and buy adroid mobiles\")\n",
    "elif ch==\"3\":\n",
    "    print(\"Goto third floor and buy mac laptop or iphones\")\n",
    "else:\n",
    "    print(\"There is only three floors, please select 1 or 2 or 3\")\n"
   ]
  },
  {
   "cell_type": "code",
   "execution_count": 73,
   "id": "ef3b0d1f",
   "metadata": {},
   "outputs": [
    {
     "name": "stdout",
     "output_type": "stream",
     "text": [
      "enter a value: 1\n",
      "Baby\n"
     ]
    }
   ],
   "source": [
    "\"\"\"24.Given an age, figure out whether someone's a baby, toddler, child, teenager, adult or old codger.\"\"\"\n",
    "a=float(input(\"enter a value: \"))\n",
    "#n=float(input(\"enter a value: \"))\n",
    "if a==0 or a==1:\n",
    "    print(\"Baby\")\n",
    "elif a>1 and a<=4:\n",
    "    print(\"Toodler\")\n",
    "elif a>4 and a<=12:\n",
    "    print(\"Child\")\n",
    "elif a>12 and a<=19:\n",
    "    print(\"Teenager\")\n",
    "elif a>19 and a<=39:\n",
    "    print(\"Adult\")\n",
    "elif a>39 and a<=100:\n",
    "    print(\"Older\")\n",
    "else:\n",
    "    print(\"Error\")"
   ]
  },
  {
   "cell_type": "code",
   "execution_count": 84,
   "id": "5f4b5c95",
   "metadata": {},
   "outputs": [
    {
     "name": "stdout",
     "output_type": "stream",
     "text": [
      "enter a valueg\n",
      "Enter Value is Small: g\n"
     ]
    }
   ],
   "source": [
    "\"\"\"\n",
    "26. Take a letter from the user and print that letter belongs to which category \n",
    "I.e is it a small letter or\n",
    "capital letter or \n",
    "number or \n",
    "special symbol\n",
    "\"\"\"\n",
    "n=input(\"enter a value\")\n",
    "if (n>='a' and n<='z') :\n",
    "    print(\"Enter Value is Small:\",n)\n",
    "elif (n>='A' and n<='Z'):\n",
    "    print(\"Enter value is Capital:\",n)\n",
    "elif(n>='0' and n<='9'):\n",
    "    print(\"Number:\",n)\n",
    "else:\n",
    "    print(\"Enter value is\",n,\"special character\")"
   ]
  },
  {
   "cell_type": "code",
   "execution_count": 85,
   "id": "800ef3dd",
   "metadata": {},
   "outputs": [
    {
     "name": "stdout",
     "output_type": "stream",
     "text": [
      "enter a valueT\n",
      "Alphabet: T\n"
     ]
    }
   ],
   "source": [
    "\"\"\"\n",
    "26. Take a letter from the user and print that letter belongs to which category \n",
    "I.e is it a small letter or\n",
    "capital letter or \n",
    "number or \n",
    "special symbol\n",
    "\"\"\"\n",
    "n=input(\"enter a value\")\n",
    "if (n>='a' and n<='z') or(n>='A' and n<='Z'):\n",
    "    print(\"Alphabet:\",n)\n",
    "elif(n>='0' and n<='9'):\n",
    "    print(\"Number:\",n)\n",
    "else:\n",
    "    print(\"Enter value is\",n,\"special character\")"
   ]
  },
  {
   "cell_type": "code",
   "execution_count": null,
   "id": "612d981f",
   "metadata": {},
   "outputs": [],
   "source": [
    "#28. take a string from the user and check contains only  special chars or not?\n"
   ]
  }
 ],
 "metadata": {
  "kernelspec": {
   "display_name": "Python 3 (ipykernel)",
   "language": "python",
   "name": "python3"
  },
  "language_info": {
   "codemirror_mode": {
    "name": "ipython",
    "version": 3
   },
   "file_extension": ".py",
   "mimetype": "text/x-python",
   "name": "python",
   "nbconvert_exporter": "python",
   "pygments_lexer": "ipython3",
   "version": "3.9.7"
  }
 },
 "nbformat": 4,
 "nbformat_minor": 5
}
