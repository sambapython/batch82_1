{
 "cells": [
  {
   "cell_type": "code",
   "execution_count": 3,
   "id": "38dfb863",
   "metadata": {},
   "outputs": [
    {
     "name": "stdout",
     "output_type": "stream",
     "text": [
      "enter number9\n",
      "It is a Prime Number\n"
     ]
    }
   ],
   "source": [
    "\"\"\"\n",
    "25. take a number from the user and check whether it is prime?\n",
    "\"\"\"\n",
    "num=int(input(\"enter number\"))\n",
    "if num%2==0:\n",
    "    print(\"It is not a Prime Number\")\n",
    "else:\n",
    "    print(\"It is a Prime Number\")"
   ]
  },
  {
   "cell_type": "code",
   "execution_count": 31,
   "id": "9801c037",
   "metadata": {},
   "outputs": [
    {
     "name": "stdout",
     "output_type": "stream",
     "text": [
      "enter a value125\n",
      "it contains only digits\n"
     ]
    }
   ],
   "source": [
    "\"\"\"\n",
    "26. take a string from the user and check contains only digits or not?\n",
    "\"\"\"\n",
    "#l=[\"python\",12,12.43,\"welcome\"]\n",
    "l=input(\"enter a value\")\n",
    "if(l.isdecimal()):\n",
    "    print(\"it contains only digits\")\n",
    "else:\n",
    "    print(\"It contains both\")\n",
    "\n",
    "    "
   ]
  },
  {
   "cell_type": "code",
   "execution_count": 32,
   "id": "02bdbcca",
   "metadata": {},
   "outputs": [
    {
     "name": "stdout",
     "output_type": "stream",
     "text": [
      "enter a valuepython\n",
      "it contains string\n"
     ]
    }
   ],
   "source": [
    "\"\"\"\n",
    "27. take a string from the user and check contains only  alphabets or not?\n",
    "\"\"\"\n",
    "l=input(\"enter a value\")\n",
    "if(l.isalpha()):\n",
    "    print(\"it contains string\")\n",
    "else:\n",
    "     print(\"It contains both\")\n",
    "\n"
   ]
  },
  {
   "cell_type": "code",
   "execution_count": 35,
   "id": "43d4ebbb",
   "metadata": {},
   "outputs": [
    {
     "name": "stdout",
     "output_type": "stream",
     "text": [
      "enter a value#$%\n",
      "It special character\n"
     ]
    }
   ],
   "source": [
    "\"\"\"\n",
    "28. take a string from the user and check contains only  special chars or not?\n",
    "\"\"\"\n",
    "l=input(\"enter a value\")\n",
    "if(l.isalnum()):\n",
    "    print(\"it contains both\")\n",
    "else:\n",
    "    print(\"It special character\")"
   ]
  },
  {
   "cell_type": "code",
   "execution_count": 40,
   "id": "44b87a0c",
   "metadata": {},
   "outputs": [
    {
     "name": "stdout",
     "output_type": "stream",
     "text": [
      "enter a valuea\n",
      "It is not a capital letter\n"
     ]
    }
   ],
   "source": [
    "\"\"\"\n",
    "29.take a string from the user and check contains only  capital letters or not?\n",
    "\"\"\"\n",
    "n=input(\"enter a value\")\n",
    "if (n>='A' and n<='Z'):\n",
    "    print(\"Alphabet is a Capital Letter:\",n)\n",
    "else:\n",
    "    print(\"It is not a capital letter\")"
   ]
  },
  {
   "cell_type": "code",
   "execution_count": 42,
   "id": "68782314",
   "metadata": {},
   "outputs": [
    {
     "name": "stdout",
     "output_type": "stream",
     "text": [
      "enter a value A\n",
      "It is not a small letter\n"
     ]
    }
   ],
   "source": [
    "\"\"\"\n",
    "30.take a string from the user and check contains only  small letters or not?\n",
    "\"\"\"\n",
    "n=input(\"enter a value \")\n",
    "if (n>='a' and n<='z'):\n",
    "    print(\"Alphabet is a Small Letter:\",n)\n",
    "else:\n",
    "    print(\"It is not a small letter\")"
   ]
  },
  {
   "cell_type": "code",
   "execution_count": 50,
   "id": "41077176",
   "metadata": {},
   "outputs": [
    {
     "name": "stdout",
     "output_type": "stream",
     "text": [
      "['apple', 'orange', 'apple', 'grape', 'orange']\n"
     ]
    },
    {
     "ename": "AttributeError",
     "evalue": "'list' object has no attribute 'replace'",
     "output_type": "error",
     "traceback": [
      "\u001b[1;31m---------------------------------------------------------------------------\u001b[0m",
      "\u001b[1;31mAttributeError\u001b[0m                            Traceback (most recent call last)",
      "\u001b[1;32m~\\AppData\\Local\\Temp/ipykernel_15572/3453535470.py\u001b[0m in \u001b[0;36m<module>\u001b[1;34m\u001b[0m\n\u001b[0;32m      8\u001b[0m \u001b[0mstr\u001b[0m\u001b[1;33m=\u001b[0m\u001b[1;33m[\u001b[0m\u001b[1;34m\"apple\"\u001b[0m\u001b[1;33m,\u001b[0m\u001b[1;34m\"orange\"\u001b[0m\u001b[1;33m,\u001b[0m\u001b[1;34m\"apple\"\u001b[0m\u001b[1;33m,\u001b[0m\u001b[1;34m\"grape\"\u001b[0m\u001b[1;33m,\u001b[0m\u001b[1;34m\"orange\"\u001b[0m\u001b[1;33m]\u001b[0m\u001b[1;33m\u001b[0m\u001b[1;33m\u001b[0m\u001b[0m\n\u001b[0;32m      9\u001b[0m \u001b[0mprint\u001b[0m\u001b[1;33m(\u001b[0m\u001b[0mstr\u001b[0m\u001b[1;33m)\u001b[0m\u001b[1;33m\u001b[0m\u001b[1;33m\u001b[0m\u001b[0m\n\u001b[1;32m---> 10\u001b[1;33m \u001b[0mprint\u001b[0m\u001b[1;33m(\u001b[0m\u001b[0mstr\u001b[0m\u001b[1;33m.\u001b[0m\u001b[0mreplace\u001b[0m\u001b[1;33m(\u001b[0m\u001b[1;34m'APPLE'\u001b[0m\u001b[1;33m,\u001b[0m\u001b[1;36m2\u001b[0m\u001b[1;33m)\u001b[0m\u001b[1;33m)\u001b[0m\u001b[1;33m\u001b[0m\u001b[1;33m\u001b[0m\u001b[0m\n\u001b[0m",
      "\u001b[1;31mAttributeError\u001b[0m: 'list' object has no attribute 'replace'"
     ]
    }
   ],
   "source": [
    "\"\"\"31. WAP to replace last n occurrence of give string.\n",
    "For example:”apple,orange,apple,grape,orange,apple,apple,orange”\n",
    "source: “apple”\n",
    "last occurrences: 2\n",
    "replace with: APPLE\n",
    "output:”apple,orange,apple,grape,orange,APPLE,APPLE,orange”\n",
    "\"\"\"\n",
    "str=[\"apple\",\"orange\",\"apple\",\"grape\",\"orange\"]\n",
    "print(str)\n",
    "print(str.replace('APPLE',2))"
   ]
  },
  {
   "cell_type": "code",
   "execution_count": 1,
   "id": "f2e2c2f5",
   "metadata": {},
   "outputs": [
    {
     "name": "stdout",
     "output_type": "stream",
     "text": [
      "enter a letterA\n",
      "it is a capital letter\n"
     ]
    }
   ],
   "source": [
    "\"\"\"\n",
    "30.take a string from the user and check contains only  small letters or not?\n",
    "29.take a string from the user and check contains only  capital letters or not?\n",
    "\"\"\"\n",
    "s=input(\"enter a letter\")\n",
    "ord_s=ord(s)\n",
    "if ord_s>=ord(\"A\") and ord_s<=ord(\"Z\") :\n",
    "    print(\"it is a capital letter\")\n",
    "elif ord_s>=ord(\"a\") and ord_s<=ord(\"z\") :\n",
    "    print(\"it is a small capital letter\")\n",
    "elif (ord_s>=ord(\"0\") and ord_s<=ord(\"9\")+1) :\n",
    "    print(\"it is a number\")\n",
    "else:\n",
    "    print(\"it is a symbol\")"
   ]
  },
  {
   "cell_type": "code",
   "execution_count": 5,
   "id": "e06482fa",
   "metadata": {},
   "outputs": [
    {
     "name": "stdout",
     "output_type": "stream",
     "text": [
      "it is a number\n",
      "it is a string\n"
     ]
    }
   ],
   "source": [
    "\"\"\"32. WAP to check given string contains numbers or not. it should consider float numbers also.\"\"\"\n",
    "s=\"python82\"\n",
    "#print(\"the String is:\",s)\n",
    "for ch in s:#p,y,t,h,o,n,8\n",
    "    if ch==\"2\":\n",
    "        print(\"it is a number\")\n",
    "else:\n",
    "    print(\"it is a string\")\n"
   ]
  },
  {
   "cell_type": "code",
   "execution_count": 28,
   "id": "1d3af5c7",
   "metadata": {},
   "outputs": [
    {
     "name": "stdout",
     "output_type": "stream",
     "text": [
      "enter a string PYTHON\n",
      "The original String is : PYTHON\n",
      "The convert string is: python\n"
     ]
    }
   ],
   "source": [
    "\"\"\"33. Convert the total string in to lower case. Without using lower() function.\"\"\"\n",
    "s=input(\"enter a string \")\n",
    "print(\"The original String is :\",s)\n",
    "print(\"The convert string is:\",s.lower())\n"
   ]
  },
  {
   "cell_type": "code",
   "execution_count": 30,
   "id": "c064a1fb",
   "metadata": {},
   "outputs": [
    {
     "name": "stdout",
     "output_type": "stream",
     "text": [
      "enter a string python\n",
      "The original String is : python\n",
      "The convert string is: PYTHON\n"
     ]
    }
   ],
   "source": [
    "\"\"\"34. Convert the total string in to upper case. Without using upper() function.\"\"\"\n",
    "s=input(\"enter a string \")\n",
    "print(\"The original String is :\",s)\n",
    "print(\"The convert string is:\",s.upper())\n"
   ]
  },
  {
   "cell_type": "code",
   "execution_count": null,
   "id": "d041f7d9",
   "metadata": {},
   "outputs": [],
   "source": [
    "#35. Show the below menu to the user until and until user select quit and display corresponding os message\n",
    "\n",
    "'''\n",
    "Menu:\n",
    "1. windows\n",
    "2. Linux\n",
    "3. Mac\n",
    "4. quit\n",
    "'''\n",
    "choice=input(\"enter your choice\\n 1.Windows\\n 2.Linux\\n3.MAC\\n4.Quit\\n\")\n",
    "for ch in choice:\n",
    "        if ch==\"1\":\n",
    "             print(\"Selected Windows OS:\")\n",
    "        elif ch==\"2\":\n",
    "             print(\"selected Linux OS:\")\n",
    "        elif ch==\"3\":\n",
    "             print(\"selected MAC OS:\")\n",
    "        elif ch==\"4\":\n",
    "             print(\"U got QUit from selection:\")\n",
    "            break\n",
    "        else:\n",
    "            print(\"repeat ur choice\",ch)\n"
   ]
  },
  {
   "cell_type": "code",
   "execution_count": 20,
   "id": "009c86ab",
   "metadata": {},
   "outputs": [
    {
     "name": "stdout",
     "output_type": "stream",
     "text": [
      "\n",
      "MAIN MENU\n",
      "1. Windows\n",
      "2. Linux\n",
      "3. MAC\n",
      "3. Quit\n",
      "Enter the Choice:1\n",
      "Selected Windows OS:\n",
      "Enter the Choice:2\n",
      "selected Linux OS:\n",
      "Enter the Choice:3\n",
      "selected Linux OS:\n",
      "Enter the Choice:4\n",
      "U got QUit from selection:\n"
     ]
    }
   ],
   "source": [
    "while True: \n",
    "    print(\"\\nMAIN MENU\")  \n",
    "    print(\"1. Windows\")  \n",
    "    print(\"2. Linux\") \n",
    "    print(\"3. MAC\")\n",
    "    print(\"3. Quit\")  \n",
    "    choice1 = int(input(\"Enter the Choice:\")) \n",
    "    if choice1 == 1:  \n",
    "        print(\"Selected Windows OS:\")\n",
    "        choice2 = int(input(\"Enter the Choice:\"))\n",
    "    if choice2 == 2:\n",
    "        print(\"selected Linux OS:\")\n",
    "        choice3 = int(input(\"Enter the Choice:\"))\n",
    "    if choice3 == 3:\n",
    "        print(\"selected Linux OS:\")\n",
    "        choice4= int(input(\"Enter the Choice:\"))\n",
    "    if choice4 == 4:\n",
    "        print(\"U got QUit from selection:\")\n",
    "        break\n",
    "  \n",
    "        \n",
    "        "
   ]
  },
  {
   "cell_type": "code",
   "execution_count": 23,
   "id": "7844f502",
   "metadata": {},
   "outputs": [
    {
     "name": "stdout",
     "output_type": "stream",
     "text": [
      "Enter a stringpython82\n",
      "Enter a string123456789\n",
      "it contains both\n",
      "it contains only digits\n"
     ]
    }
   ],
   "source": [
    "'''\n",
    "36. take a string from the user and check contains at least one digit or not?'''\n",
    "str1=input(\"Enter a string\")\n",
    "str2=input(\"Enter a string\")\n",
    "if str1.isdigit():\n",
    "    print(\"it contains only digits\")\n",
    "else:\n",
    "    print(\"it contains both\")\n",
    "if str2.isdigit():\n",
    "    print(\"it contains only digits\")\n",
    "else:\n",
    "    print(\"it contains both\")\n"
   ]
  },
  {
   "cell_type": "code",
   "execution_count": 26,
   "id": "42848d5b",
   "metadata": {},
   "outputs": [
    {
     "name": "stdout",
     "output_type": "stream",
     "text": [
      "Enter a Stringpython82\n",
      "contains both\n"
     ]
    }
   ],
   "source": [
    "\"\"\"37. take a string from the user and check contains at least one alphabets or not?\"\"\"\n",
    "str1=input(\"Enter a String\")\n",
    "if str1.isalnum():\n",
    "    print(\"contains both\")\n",
    "else:\n",
    "    print(\"it contains only numbers\")"
   ]
  },
  {
   "cell_type": "code",
   "execution_count": 7,
   "id": "3cb46e63",
   "metadata": {},
   "outputs": [
    {
     "name": "stdout",
     "output_type": "stream",
     "text": [
      "enter string:python\n",
      "No\n"
     ]
    }
   ],
   "source": [
    "'''39. take a string from the user and check contains at least one capital letter or not?'''\n",
    "s=input(\"enter string:\")\n",
    "for letter in s:\n",
    "    if ord(letter) in range(ord(\"A\"),ord(\"Z\")+1):\n",
    "        print(\"yes\")\n",
    "        break\n",
    "else:\n",
    "    print(\"No\")"
   ]
  },
  {
   "cell_type": "code",
   "execution_count": 4,
   "id": "0c7cfc7a",
   "metadata": {},
   "outputs": [
    {
     "name": "stdout",
     "output_type": "stream",
     "text": [
      "enter string:ABCSDE\n",
      "No\n"
     ]
    }
   ],
   "source": [
    "\"\"\"40. take a string from the user and check contains at least one small letter or not?\"\"\"\n",
    "s=input(\"enter string:\")\n",
    "for letter in s:\n",
    "    if ord(letter) in range(ord(\"a\"),ord(\"z\")+1):\n",
    "        print(\"yes\")\n",
    "        break\n",
    "else:\n",
    "    print(\"No\")"
   ]
  },
  {
   "cell_type": "code",
   "execution_count": 60,
   "id": "ea2b9764",
   "metadata": {},
   "outputs": [
    {
     "name": "stdout",
     "output_type": "stream",
     "text": [
      "1 3 5 7 9 11 13 15 17 19 21 23 25 27 29 31 33 35 37 39 41 43 45 47 49 51 53 55 57 59 61 63 65 67 69 71 73 75 77 79 81 83 85 87 89 91 93 95 97 99 "
     ]
    }
   ],
   "source": [
    "\n",
    "\"\"\"41. Print the first 100 odd numbers\"\"\"\n",
    "\n",
    "for num in range(1, 100 + 1):\n",
    "          # checking condition\n",
    "    if num % 2 != 0:\n",
    "        print(num, end = \" \")"
   ]
  },
  {
   "cell_type": "code",
   "execution_count": 61,
   "id": "8a26c903",
   "metadata": {},
   "outputs": [
    {
     "name": "stdout",
     "output_type": "stream",
     "text": [
      "1\n",
      "3\n",
      "5\n",
      "7\n",
      "9\n",
      "11\n",
      "13\n",
      "15\n",
      "17\n",
      "19\n",
      "21\n",
      "23\n",
      "25\n",
      "27\n",
      "29\n",
      "31\n",
      "33\n",
      "35\n",
      "37\n",
      "39\n",
      "41\n",
      "43\n",
      "45\n",
      "47\n",
      "49\n",
      "51\n",
      "53\n",
      "55\n",
      "57\n",
      "59\n",
      "61\n",
      "63\n",
      "65\n",
      "67\n",
      "69\n",
      "71\n",
      "73\n",
      "75\n",
      "77\n",
      "79\n",
      "81\n",
      "83\n",
      "85\n",
      "87\n",
      "89\n",
      "91\n",
      "93\n",
      "95\n",
      "97\n",
      "99\n"
     ]
    }
   ],
   "source": [
    "\"\"\"41. Print the first 100 odd numbers\"\"\"\n",
    "\n",
    "for num in range(1, 100 + 1):\n",
    "      \n",
    "    # checking condition\n",
    "    if num % 2 != 0:\n",
    "        print(num)"
   ]
  },
  {
   "cell_type": "code",
   "execution_count": 65,
   "id": "c3f06761",
   "metadata": {},
   "outputs": [
    {
     "name": "stdout",
     "output_type": "stream",
     "text": [
      "Enter the Number: 6\n",
      "\n",
      "Factors of 6\n",
      "1\n",
      "2\n",
      "3\n",
      "6\n"
     ]
    }
   ],
   "source": [
    "\"\"\"42. Determine the factors of a number entered  by the user\"\"\"\n",
    "num=int(input(\"Enter the Number: \"))\n",
    "print(\"\\nFactors of\", num)\n",
    "\n",
    "i = 1\n",
    "while i<=num:\n",
    "    if num%i==0:\n",
    "        print(i)\n",
    "    i = i+1"
   ]
  },
  {
   "cell_type": "code",
   "execution_count": 44,
   "id": "a0c01a7d",
   "metadata": {},
   "outputs": [
    {
     "name": "stdout",
     "output_type": "stream",
     "text": [
      "enter a number20\n",
      "enter b number3\n",
      "a is not divisible by b\n"
     ]
    }
   ],
   "source": [
    "\"\"\"44. Take two numbers from the user a,b check whether a is divisible by b or not?\"\"\"\n",
    "a=float(input(\"enter a number\"))\n",
    "b=float(input(\"enter b number\"))\n",
    "if a%b==0:\n",
    "    print(\"a is divisible by b\")\n",
    "else:\n",
    "    print(\"a is not divisible by b\")"
   ]
  },
  {
   "cell_type": "code",
   "execution_count": 100,
   "id": "43784455",
   "metadata": {},
   "outputs": [
    {
     "name": "stdout",
     "output_type": "stream",
     "text": [
      "enter a value1000\n",
      "233168\n"
     ]
    }
   ],
   "source": [
    "\"\"\"45. Find the sum of all the multiples of 3 or 5 below 1000\"\"\"\n",
    "sum=0\n",
    "i=1\n",
    "N=int(input(\"enter a value\"))\n",
    "while i<N :\n",
    "    if i%3==0 or i%5==0 :\n",
    "        sum=sum+i\n",
    "    i=i+1\n",
    "print(sum)"
   ]
  },
  {
   "cell_type": "code",
   "execution_count": 101,
   "id": "cfd19e56",
   "metadata": {},
   "outputs": [
    {
     "name": "stdout",
     "output_type": "stream",
     "text": [
      "enter a value45\n",
      "enter b value12\n",
      "A is Big:  45.0\n"
     ]
    }
   ],
   "source": [
    "\"\"\"46. Write a program to find out big of two numbers\"\"\"\n",
    "a=float(input(\"enter a value\"))\n",
    "b=float(input(\"enter b value\"))\n",
    "if(a>b):\n",
    "    print(\"A is Big: \",a)\n",
    "else:\n",
    "    print(\"B is Big: \",b)"
   ]
  },
  {
   "cell_type": "code",
   "execution_count": 106,
   "id": "00a1cbd2",
   "metadata": {},
   "outputs": [
    {
     "name": "stdout",
     "output_type": "stream",
     "text": [
      "the sorted elements are: [3, 10, 20, 50, 80]\n",
      "The biggest number is: 80\n"
     ]
    }
   ],
   "source": [
    "\"\"\"47. Write a program to find out biggest number in the given numbers.\"\"\"\n",
    "l=[10,50,80,3,20]\n",
    "l.sort()\n",
    "print(\"the sorted elements are:\",l)\n",
    "print(\"The biggest number is:\",l[-1])"
   ]
  },
  {
   "cell_type": "code",
   "execution_count": 109,
   "id": "c9c0dcd8",
   "metadata": {},
   "outputs": [
    {
     "name": "stdout",
     "output_type": "stream",
     "text": [
      "The third occurence of given string is: h\n"
     ]
    }
   ],
   "source": [
    "\"\"\"48. find out the index of  third occurrence of given substring\"\"\"\n",
    "str1=\"python\"\n",
    "print(\"The third occurence of given string is:\",str1[3])"
   ]
  },
  {
   "cell_type": "code",
   "execution_count": 113,
   "id": "bcde205a",
   "metadata": {},
   "outputs": [
    {
     "name": "stdout",
     "output_type": "stream",
     "text": [
      "The nth occurence of given string: s\n"
     ]
    }
   ],
   "source": [
    "\"\"\"49. find out the index nth occurrence of given substring\"\"\"\n",
    "string=\"Python Class\"\n",
    "print(\"The nth occurence of given string:\",string[-1])"
   ]
  },
  {
   "cell_type": "code",
   "execution_count": 19,
   "id": "b3557f53",
   "metadata": {},
   "outputs": [
    {
     "name": "stdout",
     "output_type": "stream",
     "text": [
      "enter numbers:52147\n",
      "sum= 19.0\n",
      "average= 3.8\n",
      "Max= 7\n",
      "Min= 1\n"
     ]
    }
   ],
   "source": [
    "\"\"\"50. Take some single digit numbers from the user and findout min, maximum, sum, average\"\"\"\n",
    "s=input(\"enter numbers:\")\n",
    "sum_numbers=0\n",
    "for digit in s:\n",
    "    number = float(digit)\n",
    "    sum_numbers = sum_numbers+number\n",
    "average= sum_numbers/len(s)\n",
    "print(\"sum=\",sum_numbers)\n",
    "print(\"average=\",average)\n",
    "print(\"Max=\",max(s))\n",
    "print(\"Min=\",min(s))"
   ]
  },
  {
   "cell_type": "code",
   "execution_count": 13,
   "id": "69dab211",
   "metadata": {},
   "outputs": [
    {
     "name": "stdout",
     "output_type": "stream",
     "text": [
      "Enter a Value: 10\n",
      "Enter b Value: 5\n",
      "Enter Your Option\n",
      " 1.Addition\n",
      "2.Multiples\n",
      "3.Division\n",
      "4.SQRT\n",
      "5.Power\n",
      "6.Subtraction2\n",
      "30\n",
      "60\n",
      "90\n",
      "entered wrong option\n"
     ]
    }
   ],
   "source": [
    "\"\"\"54. Take a two numbers from the user and do below menu driven operations\n",
    "1. addition\n",
    "2. multiples\n",
    "3.division\n",
    "4.sqrt\n",
    "5. pow    a**b\n",
    "6.subtraction\n",
    "After selection do the corresponding operation.\"\"\"\n",
    "import math\n",
    "a=float(input(\"Enter a Value: \"))\n",
    "b=float(input(\"Enter b Value: \"))\n",
    "ch=input(\"Enter Your Option\\n 1.Addition\\n2.Multiples\\n3.Division\\n4.SQRT\\n5.Power\\n6.Subtraction\")\n",
    "if ch==\"1\":\n",
    "    add=a+b\n",
    "    print(\"Addition of two numbers:\",add)\n",
    "    ch2 = int(input(\"Enter the Choice:\"))\n",
    "if ch==\"2\":\n",
    "    l=[10,20,30,60,90]\n",
    "    for i in l:\n",
    "        if i%3==0:\n",
    "            print(i)\n",
    "#ch3 = int(input(\"Enter the Choice:\"))\n",
    "if ch==\"3\":      \n",
    "    div=a/b\n",
    "    print(\"Division a and b is:\",div)\n",
    "    #ch4 = int(input(\"Enter the Choice:\"))\n",
    "if ch==\"4\":\n",
    "    print(\"Square root of a is:\",math.sqrt(a))\n",
    "    #ch5 = int(input(\"Enter the Choice:\"))\n",
    "if ch==\"5\":\n",
    "    print(\"Power of a and b is:\",a**b)\n",
    "    #ch6 = int(input(\"Enter the Choice:\"))\n",
    "if ch==\"6\":\n",
    "    sub=a-b\n",
    "    print(\"Suntraction of two numbers is:\",sub)\n",
    "    #ch1 = int(input(\"Enter the Choice:\"))\n",
    "else:\n",
    "    print(\"entered wrong option\")\n",
    "    "
   ]
  },
  {
   "cell_type": "code",
   "execution_count": 1,
   "id": "e878fa8e",
   "metadata": {},
   "outputs": [
    {
     "name": "stdout",
     "output_type": "stream",
     "text": [
      "enter numbers:123456\n",
      "summation: 21.0\n",
      "max: 6.0\n",
      "min: 1.0\n"
     ]
    }
   ],
   "source": [
    "\"\"\"55. Take numbers from the user and find out min, maximum, sum, average\"\"\"\n",
    "s=input(\"enter numbers:\")\n",
    "l=[]\n",
    "for i in s:\n",
    "    number = float(i)\n",
    "    l=l+[number]\n",
    "print(\"summation:\",sum(l))\n",
    "#print(\"average:\",sum(l)/len(l))\n",
    "print(\"max:\",max(l))\n",
    "print(\"min:\",min(l))"
   ]
  },
  {
   "cell_type": "code",
   "execution_count": 37,
   "id": "eda0ab14",
   "metadata": {},
   "outputs": [
    {
     "name": "stdout",
     "output_type": "stream",
     "text": [
      "Count of Even Numbers= 11\n",
      "Count of ODD Numbers= 11\n",
      "Count of Positive Numbers= 19\n",
      "Count of Negative Numbers= 3\n"
     ]
    }
   ],
   "source": [
    "\"\"\"\n",
    "56. l=[1,2,3,5,7,8,9,10,11,12,13,20,22,23,24,25,26,27,20,21,22,4] find out how many even numbers are there and\n",
    "how many odd numbers are there and \n",
    "how many positive numbers are there and \n",
    "how many negative numbers are there and\n",
    "how many prime numbers are there and \n",
    "how many perfect numbers are there and \n",
    "how many Armstrong numbers are there and \n",
    "how many palindrome numbers are there.\n",
    "\"\"\"\n",
    "l=[1,2,3,5,7,8,9,10,-11,-12,13,20,22,-23,24,25,26,27,20,21,22,4]\n",
    "c1=0\n",
    "c2=0\n",
    "c3=0\n",
    "c4=0\n",
    "for i in l:\n",
    "    if i%2==0: #to check even \n",
    "        c1+=1 #count no. of even num\n",
    "    else:\n",
    "        c2+=1\n",
    "    if i>=0:\n",
    "        c3+=1\n",
    "    else:\n",
    "        c4+=1\n",
    "print(\"Count of Even Numbers=\",str(c1))\n",
    "print(\"Count of ODD Numbers=\",str(c2))\n",
    "print(\"Count of Positive Numbers=\",str(c3))\n",
    "print(\"Count of Negative Numbers=\",str(c4))"
   ]
  },
  {
   "cell_type": "code",
   "execution_count": 11,
   "id": "66bce471",
   "metadata": {},
   "outputs": [
    {
     "name": "stdout",
     "output_type": "stream",
     "text": [
      "enter a string 12Python\n"
     ]
    },
    {
     "ename": "TypeError",
     "evalue": "range expected at most 3 arguments, got 4",
     "output_type": "error",
     "traceback": [
      "\u001b[1;31m---------------------------------------------------------------------------\u001b[0m",
      "\u001b[1;31mTypeError\u001b[0m                                 Traceback (most recent call last)",
      "\u001b[1;32m~\\AppData\\Local\\Temp/ipykernel_14708/2244416621.py\u001b[0m in \u001b[0;36m<module>\u001b[1;34m\u001b[0m\n\u001b[0;32m     18\u001b[0m         \u001b[0mc1\u001b[0m\u001b[1;33m+=\u001b[0m\u001b[1;36m1\u001b[0m\u001b[1;33m\u001b[0m\u001b[1;33m\u001b[0m\u001b[0m\n\u001b[0;32m     19\u001b[0m         \u001b[0mprint\u001b[0m\u001b[1;33m(\u001b[0m\u001b[0mc1\u001b[0m\u001b[1;33m)\u001b[0m\u001b[1;33m\u001b[0m\u001b[1;33m\u001b[0m\u001b[0m\n\u001b[1;32m---> 20\u001b[1;33m     \u001b[1;32mif\u001b[0m \u001b[0mletter\u001b[0m \u001b[1;32min\u001b[0m \u001b[0mrange\u001b[0m\u001b[1;33m(\u001b[0m\u001b[1;36m0\u001b[0m\u001b[1;33m,\u001b[0m\u001b[1;36m1\u001b[0m\u001b[1;33m,\u001b[0m\u001b[1;36m2\u001b[0m\u001b[1;33m,\u001b[0m\u001b[1;36m3\u001b[0m\u001b[1;33m)\u001b[0m\u001b[1;33m:\u001b[0m\u001b[1;33m\u001b[0m\u001b[1;33m\u001b[0m\u001b[0m\n\u001b[0m\u001b[0;32m     21\u001b[0m         \u001b[1;31m#print(\"numbers\")\u001b[0m\u001b[1;33m\u001b[0m\u001b[1;33m\u001b[0m\u001b[0m\n\u001b[0;32m     22\u001b[0m         \u001b[0mc2\u001b[0m\u001b[1;33m+=\u001b[0m\u001b[1;36m1\u001b[0m\u001b[1;33m\u001b[0m\u001b[1;33m\u001b[0m\u001b[0m\n",
      "\u001b[1;31mTypeError\u001b[0m: range expected at most 3 arguments, got 4"
     ]
    }
   ],
   "source": [
    "\"\"\"57. Take a string from the user and find out how many digits are there, \n",
    "how many special symbols are there, \n",
    "how many small letters are there, \n",
    "how many caps are there.\"\"\"\n",
    "\n",
    "str1=input(\"enter a string \")\n",
    "c=0\n",
    "c1=0\n",
    "c2=0\n",
    "for letter in str1:\n",
    "    if ord(letter) in range(ord(\"A\"),ord(\"Z\")+1):\n",
    "        #print(\"Capital Letter\")\n",
    "        c+=1\n",
    "        print(c)\n",
    "        \n",
    "    if ord(letter) in range(ord(\"a\"),ord(\"z\")+1):\n",
    "        #print(\"Small Letter\")\n",
    "        c1+=1\n",
    "        print(c1)\n",
    "    if letter in range(0,1,2,3):\n",
    "        #print(\"numbers\")\n",
    "        c2+=1\n",
    "        print(c2)\n",
    "else:\n",
    "    print(\"END\")"
   ]
  },
  {
   "cell_type": "code",
   "execution_count": null,
   "id": "8491a687",
   "metadata": {},
   "outputs": [],
   "source": []
  }
 ],
 "metadata": {
  "kernelspec": {
   "display_name": "Python 3 (ipykernel)",
   "language": "python",
   "name": "python3"
  },
  "language_info": {
   "codemirror_mode": {
    "name": "ipython",
    "version": 3
   },
   "file_extension": ".py",
   "mimetype": "text/x-python",
   "name": "python",
   "nbconvert_exporter": "python",
   "pygments_lexer": "ipython3",
   "version": "3.9.7"
  }
 },
 "nbformat": 4,
 "nbformat_minor": 5
}
