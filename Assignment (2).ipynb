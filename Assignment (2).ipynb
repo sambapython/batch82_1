{
 "cells": [
  {
   "cell_type": "code",
   "execution_count": 5,
   "id": "91e248c8",
   "metadata": {},
   "outputs": [
    {
     "name": "stdout",
     "output_type": "stream",
     "text": [
      "Enter the number of people: 100\n",
      "Enter the number of Bus Seats: 35\n",
      "3 Buses are required\n"
     ]
    }
   ],
   "source": [
    "#1.\tTake the input from the user for(Total number of people,Number of seats for bus. Based on two inputs\n",
    "#Decide how many number of buses required\n",
    "\n",
    "S=input(\"Enter the number of people: \")\n",
    "S1=int(input(\"Enter the number of Bus Seats: \"))\n",
    "n=35\n",
    "No_of_buses=S/S1\n",
    "print(round(No_of_buses),\"Buses are required\")"
   ]
  },
  {
   "cell_type": "code",
   "execution_count": 22,
   "id": "e4836721",
   "metadata": {},
   "outputs": [
    {
     "name": "stdout",
     "output_type": "stream",
     "text": [
      "Enter the Fahrenheit: 22\n",
      "-5.555555555555555 c\n"
     ]
    }
   ],
   "source": [
    "#2.take temperature from the user and convert foreign heat -> Celsius.\n",
    "n=float(input(\"Enter the Fahrenheit: \"))\n",
    "n1=(n-32)*(5/9)\n",
    "print(n1,\"c\")"
   ]
  },
  {
   "cell_type": "code",
   "execution_count": 23,
   "id": "3f53857e",
   "metadata": {},
   "outputs": [
    {
     "name": "stdout",
     "output_type": "stream",
     "text": [
      "Enter the Celisus: 20\n",
      "68.0 F\n"
     ]
    }
   ],
   "source": [
    "#3.take temperature from the user and convert Celsius → foreign heat.\n",
    "n=float(input(\"Enter the Celisus: \"))\n",
    "n1=(n*(9/5))+32\n",
    "print(n1,\"F\")"
   ]
  },
  {
   "cell_type": "code",
   "execution_count": 82,
   "id": "3ae0e20c",
   "metadata": {},
   "outputs": [
    {
     "name": "stdout",
     "output_type": "stream",
     "text": [
      "Enter X1:1\n",
      "Enter X2:2\n",
      "Enter X3:3\n",
      "Enter X4:4\n",
      "10\n",
      "2.5\n",
      "12.345\n",
      "9 , 343\n",
      "1.25\n",
      "0.0625\n"
     ]
    }
   ],
   "source": [
    "# 4.take four number from the user (variables name it as x1,x2,x3,x4)\n",
    " #Do the below operations\n",
    " #(x1+x2)**2, (x3+x4)**3\n",
    "#variance\n",
    "#standard deviation: sqrt(variance):  User math module. Math.sqrt(variance)\n",
    "#Regression\n",
    "#y=mx+b\n",
    " #         m=1.23\n",
    "#        b=0.045\n",
    " #         find out y\n",
    "  #        y=m*(x1+x2+x3+x4)+b\n",
    " #Find the average of four numbers\n",
    "#Find the sum of four numbers \n",
    "\n",
    "X1=int(input(\"Enter X1:\"))\n",
    "X2=int(input(\"Enter X2:\"))\n",
    "X3=int(input(\"Enter X3:\"))\n",
    "X4=int(input(\"Enter X4:\"))\n",
    "N=4\n",
    "B=0.045\n",
    "m=1.23\n",
    "#Sum\n",
    "S=X1+X2+X3+X4\n",
    "print(S)\n",
    "#Mean\n",
    "M1=S/N\n",
    "print(M1)\n",
    "#y=mx+b\n",
    "y=m*S+B\n",
    "print(y)\n",
    "a=(X1+X2)**2\n",
    "b=(X3+X4)**3\n",
    "print(a,\",\",b)\n",
    "V=(((X1-M1)**2)+((X2-M1)**2)+((X3-M1)**2)+((X4-M1)**2))/N\n",
    "print(V)\n",
    "#Std\n",
    "std=V*0.05\n",
    "print(std)"
   ]
  },
  {
   "cell_type": "code",
   "execution_count": null,
   "id": "edc053e7",
   "metadata": {},
   "outputs": [],
   "source": [
    "#list is the easy way\n",
    "X1=int(input(\"Enter X1:\"))\n",
    "X2=int(input(\"Enter X2:\"))\n",
    "X3=int(input(\"Enter X3:\"))\n",
    "X4=int(input(\"Enter X4:\"))\n",
    "numbers=[X1,X2,X3,X4]\n",
    "n=len(numbers)\n"
   ]
  },
  {
   "cell_type": "code",
   "execution_count": 35,
   "id": "bd8d6c9f",
   "metadata": {},
   "outputs": [
    {
     "name": "stdout",
     "output_type": "stream",
     "text": [
      "Enter the kilometers:12\n",
      "12000.0 m, 1200000.0 cm, 12000000.0 mm, 13123.32 Yards, 3253.5334943999997 Cent, 39370.08 Feet\n"
     ]
    }
   ],
   "source": [
    "#5.Take the distance in km\n",
    "#Show that in cm, meters, in milli meters, cents, feets, yards\n",
    "\n",
    "K=float(input(\"Enter the kilometers:\"))\n",
    "m=K*1000\n",
    "c=K*100000\n",
    "mm=K*1000000\n",
    "y=K*1093.61\n",
    "Cent=K*(y*0.02066)\n",
    "f=K*3280.84\n",
    "print((m),\"m,\",(c),\"cm,\",(mm),\"mm,\",(y),\"Yards,\",(Cent),\"Cent,\",(f),\"Feet\")"
   ]
  },
  {
   "cell_type": "code",
   "execution_count": 37,
   "id": "1889ba5d",
   "metadata": {},
   "outputs": [
    {
     "name": "stdout",
     "output_type": "stream",
     "text": [
      "Enter the size of Hard Disk in GB:48\n",
      "49152 MB, 48000000 KB, 0.048 TB, 4.8e-05 PB\n"
     ]
    }
   ],
   "source": [
    "#6.Take the size of your hard disk in GB\n",
    "#Show that in MB, KB, TB, PB\n",
    "\n",
    "h=int(input(\"Enter the size of Hard Disk in GB:\"))\n",
    "mb=h*1024\n",
    "kb=h*1000000\n",
    "tb=h*0.001\n",
    "pb=h*0.000001\n",
    "print(mb,\"MB,\",kb,\"KB,\",tb,\"TB,\",pb,\"PB\")"
   ]
  },
  {
   "cell_type": "code",
   "execution_count": 77,
   "id": "068b1ad2",
   "metadata": {},
   "outputs": [
    {
     "name": "stdout",
     "output_type": "stream",
     "text": [
      "Enter your Name :a\n",
      "Enter your Age :5\n",
      "Enter your Height :4\n",
      "The details of the person:Name:a,Age:5 , Height:4\n"
     ]
    }
   ],
   "source": [
    "#7.Take name, age, height from the user and print like below\n",
    "#The details of the person: Name:name of the person, Age:age of the person, Height:height of the person\n",
    "#Note: make sure that no space between : and a value and should be space after “COMA”\n",
    "\n",
    "Name=input(\"Enter your Name :\")\n",
    "Age=input(\"Enter your Age :\")\n",
    "Height=input(\"Enter your Height :\")\n",
    "print(\"The details of the person:Name:\"+Name+\",\"+\"Age:\"+Age,\",\",\"Height:\"+Height)\n"
   ]
  },
  {
   "cell_type": "code",
   "execution_count": 75,
   "id": "44783952",
   "metadata": {},
   "outputs": [
    {
     "name": "stdout",
     "output_type": "stream",
     "text": [
      "Enter the Height in feet: 5\n",
      "Enter the Height in Inches: 7\n",
      "Enter the weight: 82\n",
      "BMI: 28.313712230008555\n"
     ]
    }
   ],
   "source": [
    "#8.BMI calculation: take required parameters for BMI calculation from the user and calculate BMI of the person.\n",
    "HF=float(input(\"Enter the Height in feet: \"))\n",
    "HI=float(input(\"Enter the Height in Inches: \"))\n",
    "Weight=float(input(\"Enter the weight: \"))\n",
    "BMI=Weight/((0.3048*HF+HI*0.0254)**2)\n",
    "print(\"BMI:\",BMI)"
   ]
  },
  {
   "cell_type": "code",
   "execution_count": 89,
   "id": "6944e24b",
   "metadata": {},
   "outputs": [
    {
     "name": "stdout",
     "output_type": "stream",
     "text": [
      "Jayaram is 1 years old and his height is 3.54 and weight us 10.344000\n"
     ]
    }
   ],
   "source": [
    "#9.. name=\"Jayaram\"\n",
    "#age=1.6\n",
    "#height=3.5356234\n",
    "#weight=10.343856783\n",
    "#By using above inputs print the output\n",
    "Name=\"Jayaram\"\n",
    "Age=1.6\n",
    "Height=3.54\n",
    "Weight=10.344\n",
    "#Note: Use format specifiers(%s, %d, %f)\n",
    "print(\"%s is %d years old and his height is %.2f and weight us %f\"%(Name,Age,Height,Weight))"
   ]
  },
  {
   "cell_type": "code",
   "execution_count": 94,
   "id": "1b85c025",
   "metadata": {},
   "outputs": [
    {
     "name": "stdout",
     "output_type": "stream",
     "text": [
      "sus\n"
     ]
    }
   ],
   "source": [
    "#10.Take three upper case letters from the user convert in to small case.\n",
    "S=\"SUS\".lower()\n",
    "print(S)\n"
   ]
  },
  {
   "cell_type": "code",
   "execution_count": 97,
   "id": "b5cc5522",
   "metadata": {},
   "outputs": [
    {
     "ename": "SyntaxError",
     "evalue": "unexpected character after line continuation character (Temp/ipykernel_20912/4085614863.py, line 3)",
     "output_type": "error",
     "traceback": [
      "\u001b[1;36m  File \u001b[1;32m\"C:\\Users\\anand\\AppData\\Local\\Temp/ipykernel_20912/4085614863.py\"\u001b[1;36m, line \u001b[1;32m3\u001b[0m\n\u001b[1;33m    S=2\\u00*b*3\u001b[0m\n\u001b[1;37m              ^\u001b[0m\n\u001b[1;31mSyntaxError\u001b[0m\u001b[1;31m:\u001b[0m unexpected character after line continuation character\n"
     ]
    }
   ],
   "source": [
    "#11.take base and exponent value from the user and print like in mathematics:\n",
    " # example: base=2, exponent=3: 23\n",
    "S=2\\u00*b*3\n",
    "print(S)"
   ]
  },
  {
   "cell_type": "code",
   "execution_count": 105,
   "id": "89468d7f",
   "metadata": {},
   "outputs": [
    {
     "name": "stdout",
     "output_type": "stream",
     "text": [
      "870\n",
      "217.5\n",
      "500\n",
      "100\n"
     ]
    }
   ],
   "source": [
    "#12. Take some groceries cost prices and print total cost and average cost, what is the max cost, what is the minimum cost.\n",
    "Rice=100\n",
    "Dal=120\n",
    "Peanuts=150\n",
    "Oil=500\n",
    "l1=[Rice,Dal,Peanuts,Oil]\n",
    "S=sum(l1)\n",
    "A=S/len(l1)\n",
    "N=max(l1)\n",
    "small=min(l1)\n",
    "print(S)\n",
    "print(A)\n",
    "print(N)\n",
    "print(small)"
   ]
  },
  {
   "cell_type": "code",
   "execution_count": 21,
   "id": "4168b4df",
   "metadata": {},
   "outputs": [
    {
     "name": "stdout",
     "output_type": "stream",
     "text": [
      "It is not ten\n",
      "It is Ten\n"
     ]
    }
   ],
   "source": [
    "#13. Assign “ten” value to variable it is 10 otherwise assign “Not ten”\n",
    "#Note: write two versions of program\n",
    "#Version1: use and operator\n",
    "#Version2: use or operator \n",
    "a=10\n",
    "b=8\n",
    "#And\n",
    "if a==10 and b==10:\n",
    "    print(\"It is Ten\")\n",
    "else:\n",
    "    print(\"It is not ten\")\n",
    "#Or\n",
    "if a==10 or b==10:\n",
    "    print(\"It is Ten\")\n",
    "else:\n",
    "    print(\"It is not ten\")\n"
   ]
  },
  {
   "cell_type": "code",
   "execution_count": 48,
   "id": "4f9d9420",
   "metadata": {},
   "outputs": [
    {
     "name": "stdout",
     "output_type": "stream",
     "text": [
      "Enter the number of people: 200\n",
      "Enter the number of Buses: 4\n",
      "Enter the number of seats for Bus: 30\n",
      "Enter the adjust factor: 5\n",
      "6\n",
      "you need another 2 buses\n"
     ]
    }
   ],
   "source": [
    "#13. Take the input from the user for(Total number of people, total number of buses, Number of seats for bus, adjust factor). Based on four inputs\n",
    "#Decide whether there is sufficient buses or not and give solution for how many extra buses required.\n",
    "S=int(input(\"Enter the number of people: \"))\n",
    "S1=int(input(\"Enter the number of Buses: \"))\n",
    "S2=int(input(\"Enter the number of seats for Bus: \"))\n",
    "S3=int(input(\"Enter the adjust factor: \"))\n",
    "a=round(S/(S2+S3))\n",
    "a1=a-S1\n",
    "print(a)\n",
    "if (a>S1):\n",
    "      print(\"you need another %s buses\"%a1)\n",
    "else:\n",
    "    print(\"S1 is big\")\n",
    "      "
   ]
  },
  {
   "cell_type": "code",
   "execution_count": 41,
   "id": "25342aa0",
   "metadata": {},
   "outputs": [
    {
     "name": "stdout",
     "output_type": "stream",
     "text": [
      "Enter the number140\n",
      "Even number\n"
     ]
    }
   ],
   "source": [
    " #14.Take number from the user decide whether it is even or odd.\n",
    "n=int(input(\"Enter the number\"))\n",
    "if(n%2==0):\n",
    "    print(\"Even number\")\n",
    "else:\n",
    "    print(\"odd number\")"
   ]
  },
  {
   "cell_type": "code",
   "execution_count": 31,
   "id": "a2b8f1bc",
   "metadata": {},
   "outputs": [
    {
     "name": "stdout",
     "output_type": "stream",
     "text": [
      "Enter a number-10\n",
      "Negative number\n"
     ]
    }
   ],
   "source": [
    "#15:\n",
    "a=float(input(\"Enter a number\"))\n",
    "if a>=0:\n",
    "    print(\"Positive number\")\n",
    "elif a<0:\n",
    "    print(\"Negative number\")\n",
    "else:\n",
    "    print(error)"
   ]
  },
  {
   "cell_type": "code",
   "execution_count": 36,
   "id": "3735c084",
   "metadata": {},
   "outputs": [
    {
     "name": "stdout",
     "output_type": "stream",
     "text": [
      "Enter the string:\n",
      "You haven't entered anything\n"
     ]
    }
   ],
   "source": [
    "#16\n",
    "a=input(\"Enter the string:\")\n",
    "if len(a)>0:\n",
    "    print(len(a))\n",
    "else:\n",
    "    print(\"You haven't entered anything\")"
   ]
  },
  {
   "cell_type": "code",
   "execution_count": 6,
   "id": "579cb3ee",
   "metadata": {},
   "outputs": [
    {
     "name": "stdout",
     "output_type": "stream",
     "text": [
      "Enter number1:10\n",
      "Enter number2:20\n",
      "Menu:\n",
      "\t1.Addition\n",
      "2.Subtraction\n",
      "3.Multiplication\n",
      "4.Divison\n",
      "\n",
      "Enter an option:2\n",
      "-10.0\n"
     ]
    }
   ],
   "source": [
    "#17.code to perform mathematical operations. take two numbers from the user and show the below menu\n",
    "#1. add,\n",
    "#2.sub,\t\n",
    "#3. mul,\n",
    "#4.div, \n",
    "#5.quit\n",
    "#Enter an option:\n",
    "#based on the option need to perform an operations\n",
    "a=float(input(\"Enter number1:\"))\n",
    "b=float(input(\"Enter number2:\"))\n",
    "print(\"Menu:\\n\\t1.Addition\\n2.Subtraction\\n3.Multiplication\\n4.Divison\\n\")\n",
    "option=input(\"Enter an option:\")\n",
    "if option==\"1\":\n",
    "    print(a+b)\n",
    "if option==\"2\":\n",
    "    print(a-b)\n",
    "if option==\"3\":\n",
    "    print(a*b)\n",
    "if option==\"4\":\n",
    "    print(a/b)"
   ]
  },
  {
   "cell_type": "code",
   "execution_count": 13,
   "id": "ffd98d46",
   "metadata": {},
   "outputs": [
    {
     "name": "stdout",
     "output_type": "stream",
     "text": [
      "Menu:\n",
      "1.Kids\n",
      "2.Men's\n",
      "3.Women's\n",
      " Enter an option\n",
      "2\n",
      "You are a gentle man\n"
     ]
    }
   ],
   "source": [
    "#18.\n",
    "a=int(input(\"Menu:\\n1.Kids\\n2.Men's\\n3.Women's\\n Enter an option\\n\"))\n",
    "if a==1:\n",
    "    print(\"You are a kid\")\n",
    "elif a==2:\n",
    "    print(\"You are a gentle man\")\n",
    "elif a==3:\n",
    "    print(\"You are a good women\")\n",
    "else:\n",
    "    print(\"Error\")"
   ]
  },
  {
   "cell_type": "code",
   "execution_count": 26,
   "id": "6aab35c0",
   "metadata": {},
   "outputs": [
    {
     "data": {
      "text/plain": [
       "True"
      ]
     },
     "execution_count": 26,
     "metadata": {},
     "output_type": "execute_result"
    }
   ],
   "source": [
    "#19.\n",
    "act=\"Python is pure object oriented programming language\"\n",
    "'pure' in act"
   ]
  },
  {
   "cell_type": "code",
   "execution_count": 29,
   "id": "82b0c072",
   "metadata": {},
   "outputs": [
    {
     "name": "stdout",
     "output_type": "stream",
     "text": [
      "Enter value 1:50\n",
      "Enter value 2:125\n",
      "Enter value 3:70\n",
      "b is big\n"
     ]
    }
   ],
   "source": [
    "#20\n",
    "a=int(input(\"Enter value 1:\"))\n",
    "b=int(input(\"Enter value 2:\"))\n",
    "c=int(input(\"Enter value 3:\"))\n",
    "if a>b:\n",
    "    print(\"a is big\")\n",
    "elif b>c:\n",
    "    print(\"b is big\")\n",
    "elif c>a:\n",
    "    print(\"c is big\")\n",
    "else:\n",
    "    print(\"error\")"
   ]
  },
  {
   "cell_type": "code",
   "execution_count": 52,
   "id": "050a05b1",
   "metadata": {},
   "outputs": [
    {
     "name": "stdout",
     "output_type": "stream",
     "text": [
      "Enter age:15\n",
      "Enter gender:Male\n",
      "Not eligible for marriage\n"
     ]
    }
   ],
   "source": [
    "#21:\n",
    "a=int(input(\"Enter age:\"))\n",
    "b=input(\"Enter gender:\")\n",
    "if b==\"Male\" and a>22:\n",
    "    print(\"He is eligible for marriage\")\n",
    "elif b==\"Female\" and a>18:\n",
    "    print(\"she is eligible for marriage\")\n",
    "else:\n",
    "    print(\"Not eligible for marriage\")"
   ]
  },
  {
   "cell_type": "code",
   "execution_count": 36,
   "id": "383a4503",
   "metadata": {},
   "outputs": [
    {
     "name": "stdout",
     "output_type": "stream",
     "text": [
      "W True\n",
      "Eligible\n",
      "Fales\n"
     ]
    }
   ],
   "source": [
    "#22\n",
    "M_T=2\n",
    "W_T=20\n",
    "M_V=25\n",
    "W_V=15\n",
    "if M_T>=5:\n",
    "    print(\"True\")\n",
    "if W_T>=7:\n",
    "    print(\"W True\")\n",
    "if M_V>=18:\n",
    "    print(\"Eligible\")\n",
    "if W_V>=18:\n",
    "    print(\"W Eligible\")\n",
    "print(\"Fales\")\n",
    "\n"
   ]
  },
  {
   "cell_type": "code",
   "execution_count": null,
   "id": "e972e92b",
   "metadata": {},
   "outputs": [],
   "source": [
    "\"\"\"ASS-22 Theatre: 5 for men 7 for women\n",
    "Take an age  and gender from the user: and mention that what he/she can \tdo in india.\"\"\"\n",
    "age=float(input(\"enter age of the user\"))\n",
    "gen=input(\"enter a gender\\n 1. Men\\n 2.Women \\n\")\n",
    "print(\"enter option to perform\")\n",
    "ch = input(\"Enter any of operation\\n1.Theatre \\n2.Voting system \\n 3.Marriage in india\\n 4.For govt jobs\\n 5.For driving licence\\n\")\n",
    "if (gen==\"1\" and age>=5) or (gen==\"2\" and age>=7):\n",
    "    print(\"Eligible to watch a movie\")\n",
    "if (gen==\"1\" and age>=18) or (gen==\"2\" and age>=18):\n",
    "    print(\"Eligible for Voting system\")\n",
    "if (gen==\"1\" and age>23) or (gen==\"2\" and age>21):\n",
    "    print(\"Eligible to marry in India\")\n",
    "if (gen==\"1\" and age>=5) or (gen==\"2\" and age>=7):\n",
    "    print(\"Eligible to watch a movie\")\n",
    "\n",
    "else:\n",
    "    print(\"Not Eligible\")"
   ]
  },
  {
   "cell_type": "code",
   "execution_count": 42,
   "id": "1ff97577",
   "metadata": {},
   "outputs": [
    {
     "name": "stdout",
     "output_type": "stream",
     "text": [
      "Enter an option:\n",
      "1.Windows\n",
      "2.Andriod\n",
      "3.Mac4\n",
      "There is only 3 floors please select 1 (or) 2 (or) 3\n"
     ]
    }
   ],
   "source": [
    "#23\n",
    "a=int(input(\"Enter an option:\\n1.Windows\\n2.Andriod\\n3.Mac\"))\n",
    "if a==1:\n",
    "    print(\"Goto first floor and buy windows laptop or mobile\")\n",
    "elif a==2:\n",
    "    print(\"Goto second floor and buy android mobile\")\n",
    "elif a==3:\n",
    "    print(\"Goto third floor and buy mac book or iphone\")\n",
    "else:\n",
    "    print(\"There is only 3 floors please select 1 (or) 2 (or) 3\")\n"
   ]
  },
  {
   "cell_type": "code",
   "execution_count": 49,
   "id": "50cfde50",
   "metadata": {},
   "outputs": [
    {
     "name": "stdout",
     "output_type": "stream",
     "text": [
      "Teenager\n"
     ]
    }
   ],
   "source": [
    "#24\n",
    "a=16\n",
    "if a==0 and a<=1:\n",
    "    print(\"Baby\")\n",
    "elif a>1 and a<=4:\n",
    "    print(\"Toodler\")\n",
    "elif a>4 and a<=12:\n",
    "    print(\"Child\")\n",
    "elif a>12 and a<=19:\n",
    "    print(\"Teenager\")\n",
    "elif a>19 and a<=39:\n",
    "    print(\"Adult\")\n",
    "elif a>39 and a<=100:\n",
    "    print(\"Older\")\n",
    "else:\n",
    "    print(\"Error\")"
   ]
  },
  {
   "cell_type": "code",
   "execution_count": 54,
   "id": "71f676a5",
   "metadata": {},
   "outputs": [
    {
     "name": "stdout",
     "output_type": "stream",
     "text": [
      "Not diisible\n"
     ]
    }
   ],
   "source": [
    "#25\n",
    "a=2\n",
    "b=3\n",
    "if(a%b==0):\n",
    "    print(\"Divisible\")\n",
    "else:\n",
    "    print(\"Not divisible\")"
   ]
  },
  {
   "cell_type": "code",
   "execution_count": 4,
   "id": "9f5461f1",
   "metadata": {},
   "outputs": [
    {
     "name": "stdout",
     "output_type": "stream",
     "text": [
      "Enter a small letter or captial letter@\n",
      "Special character\n"
     ]
    }
   ],
   "source": [
    "#26\n",
    "s=input(\"Enter a small letter or captial letter\")\n",
    "if ord(s)>=ord('A') and ord(s)<=ord('Z'):\n",
    "    print(\"Capital Letter\")\n",
    "elif ord(s)>=ord('a') and ord(s)<=ord('z'):\n",
    "    print(\"Small Letter\")\n",
    "else:\n",
    "    print(\"Special character\")"
   ]
  },
  {
   "cell_type": "code",
   "execution_count": 8,
   "id": "33d5efe4",
   "metadata": {},
   "outputs": [
    {
     "name": "stdout",
     "output_type": "stream",
     "text": [
      "Eneter a number16\n",
      "Not prime\n"
     ]
    }
   ],
   "source": [
    "#Looping statements\n",
    "s=int(input(\"Enter a number\"))\n",
    "n=2\n",
    "for i in range(n,n+1):\n",
    "    if :\n",
    "        print(\"Prime number\")\n",
    "    else:\n",
    "        print(\"Not prime\")\n",
    "    \n",
    "    "
   ]
  },
  {
   "cell_type": "code",
   "execution_count": 47,
   "id": "ff43bc10",
   "metadata": {},
   "outputs": [
    {
     "name": "stdout",
     "output_type": "stream",
     "text": [
      "APPLE,orange,grapes,APPLE,APPLE,orange\n"
     ]
    }
   ],
   "source": [
    "s=\"apple,orange,grapes,apple,apple,orange\"\n",
    "len(s)\n",
    "s=s.replace(\"apple\",\"APPLE\",len(s)-1)\n",
    "print(s)"
   ]
  },
  {
   "cell_type": "code",
   "execution_count": 49,
   "id": "3d630933",
   "metadata": {},
   "outputs": [
    {
     "data": {
      "text/plain": [
       "(97, 122)"
      ]
     },
     "execution_count": 49,
     "metadata": {},
     "output_type": "execute_result"
    }
   ],
   "source": [
    "ord('a'),ord('z')"
   ]
  },
  {
   "cell_type": "code",
   "execution_count": 59,
   "id": "34b1e233",
   "metadata": {},
   "outputs": [
    {
     "name": "stdout",
     "output_type": "stream",
     "text": [
      "Enter a strings\n",
      "97\n",
      "98\n",
      "99\n",
      "100\n",
      "101\n",
      "102\n",
      "103\n",
      "104\n",
      "105\n",
      "106\n",
      "107\n",
      "108\n",
      "109\n",
      "110\n",
      "111\n",
      "112\n",
      "113\n",
      "114\n",
      "115\n",
      "116\n",
      "117\n",
      "118\n",
      "119\n",
      "120\n",
      "121\n",
      "122\n"
     ]
    }
   ],
   "source": [
    "s=input(\"Enter a string\")\n",
    "for s in range(ord('a'),ord('z')+1):\n",
    "    \n",
    "    print(s)"
   ]
  },
  {
   "cell_type": "code",
   "execution_count": 64,
   "id": "58ddaf69",
   "metadata": {},
   "outputs": [
    {
     "name": "stdout",
     "output_type": "stream",
     "text": [
      "1\n",
      "3\n",
      "5\n",
      "7\n",
      "9\n",
      "11\n",
      "13\n",
      "15\n",
      "17\n",
      "19\n",
      "21\n",
      "23\n",
      "25\n",
      "27\n",
      "29\n",
      "31\n",
      "33\n",
      "35\n",
      "37\n",
      "39\n",
      "41\n",
      "43\n",
      "45\n",
      "47\n",
      "49\n",
      "51\n",
      "53\n",
      "55\n",
      "57\n",
      "59\n",
      "61\n",
      "63\n",
      "65\n",
      "67\n",
      "69\n",
      "71\n",
      "73\n",
      "75\n",
      "77\n",
      "79\n",
      "81\n",
      "83\n",
      "85\n",
      "87\n",
      "89\n",
      "91\n",
      "93\n",
      "95\n",
      "97\n",
      "99\n"
     ]
    }
   ],
   "source": [
    "#41.\n",
    "for i in range(1,100):\n",
    "    if i%2!=0:\n",
    "        print(i)"
   ]
  },
  {
   "cell_type": "code",
   "execution_count": 68,
   "id": "05daa778",
   "metadata": {},
   "outputs": [
    {
     "name": "stdout",
     "output_type": "stream",
     "text": [
      "2\n"
     ]
    }
   ],
   "source": [
    "i=2\n",
    "n=2\n",
    "if i%n==0:\n",
    "    print(i)\n",
    "else:\n",
    "    print(\"\")"
   ]
  },
  {
   "cell_type": "code",
   "execution_count": 16,
   "id": "3de1f0a3",
   "metadata": {},
   "outputs": [
    {
     "name": "stdout",
     "output_type": "stream",
     "text": [
      "Enter a number12\n",
      "False\n",
      "False\n"
     ]
    }
   ],
   "source": [
    "a=int(input(\"Enter a number\"))\n",
    "a"
   ]
  },
  {
   "cell_type": "code",
   "execution_count": 44,
   "id": "d701b35e",
   "metadata": {},
   "outputs": [
    {
     "name": "stdout",
     "output_type": "stream",
     "text": [
      "Prime\n",
      "Prime\n",
      "Prime\n",
      "Prime\n"
     ]
    }
   ],
   "source": [
    "n=11\n",
    "if n>1:\n",
    "    for i in range(2, int(n/2)+1):\n",
    "        if (n%i)==0:\n",
    "            print(\"Not Prime\")\n",
    "            break\n",
    "        else:\n",
    "            print(\"Prime\")\n",
    "else:\n",
    "    print(\"Not prime\")\n",
    "\n"
   ]
  },
  {
   "cell_type": "code",
   "execution_count": 14,
   "id": "c30d0a93",
   "metadata": {},
   "outputs": [
    {
     "name": "stdout",
     "output_type": "stream",
     "text": [
      "Enter a letters\n",
      "It is not number\n"
     ]
    }
   ],
   "source": [
    "#26. take a string from the user and check contains only digits or not?\n",
    "s=input(\"Enter a letter\")\n",
    "for i in s:\n",
    "    ord_s=ord(i)\n",
    "    if ord_s>=ord(\"1\") and ord_s<=ord(\"9\"):\n",
    "        print(\"It is number\")\n",
    "    else:\n",
    "        print(\"It is not number\")"
   ]
  },
  {
   "cell_type": "code",
   "execution_count": 33,
   "id": "2943ea6b",
   "metadata": {},
   "outputs": [
    {
     "name": "stdout",
     "output_type": "stream",
     "text": [
      "Enter a letterSusmitha\n",
      "It is an alphabet\n",
      "It is an alphabet\n",
      "It is an alphabet\n",
      "It is an alphabet\n",
      "It is an alphabet\n",
      "It is an alphabet\n",
      "It is an alphabet\n",
      "It is an alphabet\n"
     ]
    }
   ],
   "source": [
    "#27. take a string from the user and check contains only  alphabets or not?\n",
    "s=input(\"Enter a letter\")\n",
    "for i in s:\n",
    "    ord_s=ord(i)\n",
    "    if ord_s>=ord(\"a\") and ord_s<=ord(\"z\"):\n",
    "        print(\"It is an alphabet\")\n",
    "    elif ord_s>=ord(\"A\") and ord_s<=ord(\"Z\"):\n",
    "        print(\"It is an alphabet\")\n",
    "    else:\n",
    "        print(\"It is not alphabet\")"
   ]
  },
  {
   "cell_type": "code",
   "execution_count": 42,
   "id": "658de59b",
   "metadata": {},
   "outputs": [
    {
     "name": "stdout",
     "output_type": "stream",
     "text": [
      "It is not a special character\n",
      "It is not a special character\n",
      "It is not a special character\n",
      "It is not a special character\n",
      "It is not a special character\n",
      "It is not a special character\n"
     ]
    }
   ],
   "source": [
    "#28.take a string from the user and check contains only  special chars or not?\n",
    "s=\"Python\"\n",
    "for i in s:\n",
    "    ord_s=ord(i)\n",
    "    if ord_s>=ord(\"a\") and ord_s<=ord(\"z\"):\n",
    "        print(\"It is not a special character\")\n",
    "    elif ord_s>=ord(\"A\") and ord_s<=ord(\"Z\"):\n",
    "        print(\"It is not a special character\")\n",
    "    elif ord_s>=ord(\"0\") and ord_s<=ord(\"9\"):\n",
    "        print(\"It is not a special character\")\n",
    "    else:\n",
    "        print(\"It is a special character\")"
   ]
  },
  {
   "cell_type": "code",
   "execution_count": 44,
   "id": "323aa4d4",
   "metadata": {},
   "outputs": [
    {
     "name": "stdout",
     "output_type": "stream",
     "text": [
      "It is a capital letter\n"
     ]
    }
   ],
   "source": [
    "#29.take a string from the user and check contains only  capital letters or not?\n",
    "s=\"S\"\n",
    "for i in s:\n",
    "    ord_s=ord(i)\n",
    "    if ord_s>=ord(\"A\") and ord_s<=ord(\"Z\"):\n",
    "        print(\"It is a capital letter\")\n",
    "    else:\n",
    "        print(\"It is not a capital letter\")"
   ]
  },
  {
   "cell_type": "code",
   "execution_count": 46,
   "id": "467c405e",
   "metadata": {},
   "outputs": [
    {
     "name": "stdout",
     "output_type": "stream",
     "text": [
      "It is a small letter\n"
     ]
    }
   ],
   "source": [
    "#30.take a string from the user and check contains only  small letters or not?\n",
    "s=\"s\"\n",
    "for i in s:\n",
    "    ord_s=ord(i)\n",
    "    if ord_s>=ord(\"a\") and ord_s<=ord(\"z\"):\n",
    "        print(\"It is a small letter\")\n",
    "    else:\n",
    "        print(\"It is not a small letter\")"
   ]
  },
  {
   "cell_type": "code",
   "execution_count": 56,
   "id": "df5c7b86",
   "metadata": {},
   "outputs": [],
   "source": [
    "\"\"\"31. WAP to replace last n occurrence of give string.\n",
    "For example:”apple,orange,apple,grape,orange,apple,apple,orange”\n",
    "source: “apple”\n",
    "last occurrences: 2\n",
    "replace with: APPLE\n",
    "output:”apple,orange,apple,grape,orange,APPLE,APPLE,orange”\"\"\"\n",
    "\n",
    "s=\"apple,orange,apple,grape,orange,apple,apple,orange\"\n",
    "for i in s:\n",
    "    a=\"apple\"\n",
    "    if a in i:\n",
    "        print(a)"
   ]
  },
  {
   "cell_type": "code",
   "execution_count": 12,
   "id": "0fc3a185",
   "metadata": {},
   "outputs": [
    {
     "name": "stdout",
     "output_type": "stream",
     "text": [
      "No\n",
      "No\n",
      "No\n",
      "No\n",
      "Yes\n",
      "Yes\n",
      "No\n",
      "Yes\n"
     ]
    }
   ],
   "source": [
    "#WAP to check given string contains numbers or not. it should consider float numbers also.\n",
    "a='Asdf10.2'\n",
    "for i in a:\n",
    "    ord_s=ord(i)\n",
    "    if ord_s>=ord(\"0\") and ord_s<=ord(\"9\"):\n",
    "        print(\"Yes\")\n",
    "    else:\n",
    "        print(\"No\")\n",
    "    "
   ]
  },
  {
   "cell_type": "code",
   "execution_count": 48,
   "id": "76677b47",
   "metadata": {},
   "outputs": [
    {
     "name": "stdout",
     "output_type": "stream",
     "text": [
      "s\n",
      "u\n",
      "s\n",
      "m\n",
      "i\n",
      "t\n",
      "h\n",
      "a\n"
     ]
    }
   ],
   "source": [
    "#Convert the total string in to lower case. Without using lower() function.\n",
    "a=\"SUSMITHA\"\n",
    "for i in a:\n",
    "    ord_s=ord(i)\n",
    "    if ord_s in range(ord(\"A\"),ord(\"Z\")+1):\n",
    "        ord_s1=ord_s+32\n",
    "        print(chr(ord_s1))\n",
    "    else:\n",
    "        print(\"No\")"
   ]
  },
  {
   "cell_type": "code",
   "execution_count": 75,
   "id": "432a48e8",
   "metadata": {},
   "outputs": [
    {
     "name": "stdout",
     "output_type": "stream",
     "text": [
      "S\n",
      "U\n",
      "S\n",
      "M\n",
      "I\n",
      "T\n",
      "H\n",
      "A\n"
     ]
    }
   ],
   "source": [
    "#Convert the total string in to upper case. Without using upper() function.\n",
    "a=\"susmitha\"\n",
    "for i in a:\n",
    "    ord_s=ord(i)\n",
    "    if ord_s in range(ord(\"a\"),ord(\"z\")+1):\n",
    "        ord_s1=ord_s-32\n",
    "        print(chr(ord_s1))\n",
    "    else:\n",
    "        print(\"No\")"
   ]
  },
  {
   "cell_type": "code",
   "execution_count": 57,
   "id": "25bebafe",
   "metadata": {},
   "outputs": [
    {
     "name": "stdout",
     "output_type": "stream",
     "text": [
      "Menu:\n",
      "1.windows\n",
      "2.Linux\n",
      "3.mac\n",
      "4.quit\n",
      "3\n",
      "Menu:\n",
      "1.windows\n",
      "2.Linux\n",
      "3.mac\n",
      "4.quit\n",
      "1\n",
      "Menu:\n",
      "1.windows\n",
      "2.Linux\n",
      "3.mac\n",
      "4.quit\n",
      "2\n",
      "Menu:\n",
      "1.windows\n",
      "2.Linux\n",
      "3.mac\n",
      "4.quit\n",
      "3\n",
      "Menu:\n",
      "1.windows\n",
      "2.Linux\n",
      "3.mac\n",
      "4.quit\n",
      "2\n",
      "Menu:\n",
      "1.windows\n",
      "2.Linux\n",
      "3.mac\n",
      "4.quit\n",
      "1\n",
      "Menu:\n",
      "1.windows\n",
      "2.Linux\n",
      "3.mac\n",
      "4.quit\n",
      "4\n",
      "you are out of screen\n"
     ]
    }
   ],
   "source": [
    "\"\"\"Show the below menu to the user until and until user select quit and display corresponding os message\n",
    "\n",
    "'''\n",
    "Menu:\n",
    "1. windows\n",
    "2. Linux\n",
    "3. Mac\n",
    "4. quit\n",
    "'''\n",
    "\"\"\"\n",
    "s=int(input(\"Menu:\\n1.windows\\n2.Linux\\n3.mac\\n4.quit\\n\"))\n",
    "while s<=3:\n",
    "    if s==1:\n",
    "        s=int(input(\"Menu:\\n1.windows\\n2.Linux\\n3.mac\\n4.quit\\n\"))\n",
    "    elif s==2:\n",
    "        s=int(input(\"Menu:\\n1.windows\\n2.Linux\\n3.mac\\n4.quit\\n\"))\n",
    "    elif s==3:\n",
    "        s=int(input(\"Menu:\\n1.windows\\n2.Linux\\n3.mac\\n4.quit\\n\"))\n",
    "    elif s==4:\n",
    "        print(\"quit\")\n",
    "        break\n",
    "else:\n",
    "    print(\"you are out of screen\")"
   ]
  },
  {
   "cell_type": "code",
   "execution_count": 78,
   "id": "2e9bd3df",
   "metadata": {},
   "outputs": [
    {
     "name": "stdout",
     "output_type": "stream",
     "text": [
      "String contains number\n"
     ]
    }
   ],
   "source": [
    "#take a string from the user and check contains at least one digit or not?\n",
    "s=\"Susmitha12\"\n",
    "for i in s:\n",
    "    ord_s=ord(i)\n",
    "    if ord_s in range(ord(\"0\"),ord(\"9\")+1):\n",
    "        print(\"String contains number\")\n",
    "        break\n",
    "else:\n",
    "    print(\"String does not contain number\")"
   ]
  },
  {
   "cell_type": "code",
   "execution_count": 90,
   "id": "488f7346",
   "metadata": {},
   "outputs": [
    {
     "name": "stdout",
     "output_type": "stream",
     "text": [
      "String contains alphabet\n"
     ]
    }
   ],
   "source": [
    "#take a string from the user and check contains at least one alphabets or not?\n",
    "s=\"Susmitha\"\n",
    "for i in s:\n",
    "    ord_s=ord(i)\n",
    "    if ord_s in range(ord(\"a\"),ord(\"z\")) or ord_s in range(ord(\"A\"),ord(\"A\")):\n",
    "        print(\"String contains alphabet\")\n",
    "        break\n",
    "else:\n",
    "    print(\"String does not contain alphabet\")"
   ]
  },
  {
   "cell_type": "code",
   "execution_count": 93,
   "id": "dab5fe60",
   "metadata": {},
   "outputs": [
    {
     "name": "stdout",
     "output_type": "stream",
     "text": [
      "String does not contain Capital letter\n"
     ]
    }
   ],
   "source": [
    "#take a string from the user and check contains at least one capital letter or not?\n",
    "s=\"Susmitha\"\n",
    "for i in s:\n",
    "    ord_s=ord(i)\n",
    "    if ord_s in range(ord(\"A\"),ord(\"Z\")):\n",
    "        print(\"String contains Capital Letter\")\n",
    "        break\n",
    "else:\n",
    "    print(\"String does not contain Capital letter\")"
   ]
  },
  {
   "cell_type": "code",
   "execution_count": 96,
   "id": "2874c5ae",
   "metadata": {},
   "outputs": [
    {
     "name": "stdout",
     "output_type": "stream",
     "text": [
      "String contains Small Letter\n"
     ]
    }
   ],
   "source": [
    "#take a string from the user and check contains at least one small letter or not?\n",
    "s=\"Susmitha\"\n",
    "for i in s:\n",
    "    ord_s=ord(i)\n",
    "    if ord_s in range(ord(\"a\"),ord(\"z\")):\n",
    "        print(\"String contains Small Letter\")\n",
    "        break\n",
    "else:\n",
    "    print(\"String does not contain Small letter\")"
   ]
  },
  {
   "cell_type": "code",
   "execution_count": 102,
   "id": "c8c060ce",
   "metadata": {},
   "outputs": [
    {
     "name": "stdout",
     "output_type": "stream",
     "text": [
      "1\n",
      "3\n",
      "5\n",
      "7\n",
      "9\n",
      "11\n",
      "13\n",
      "15\n",
      "17\n",
      "19\n",
      "21\n",
      "23\n",
      "25\n",
      "27\n",
      "29\n",
      "31\n",
      "33\n",
      "35\n",
      "37\n",
      "39\n",
      "41\n",
      "43\n",
      "45\n",
      "47\n",
      "49\n",
      "51\n",
      "53\n",
      "55\n",
      "57\n",
      "59\n",
      "61\n",
      "63\n",
      "65\n",
      "67\n",
      "69\n",
      "71\n",
      "73\n",
      "75\n",
      "77\n",
      "79\n",
      "81\n",
      "83\n",
      "85\n",
      "87\n",
      "89\n",
      "91\n",
      "93\n",
      "95\n",
      "97\n",
      "99\n"
     ]
    }
   ],
   "source": [
    "#Print the first 100 odd numbers\n",
    "for i in range(1,100):\n",
    "    if i%2!=0:\n",
    "        print(i)"
   ]
  },
  {
   "cell_type": "code",
   "execution_count": 116,
   "id": "8ba977f2",
   "metadata": {},
   "outputs": [
    {
     "name": "stdout",
     "output_type": "stream",
     "text": [
      "1\n",
      "5\n",
      "13\n",
      "65\n"
     ]
    }
   ],
   "source": [
    "#Determine the factors of a number entered  by the user\n",
    "x=65\n",
    "for i in range(1,x+1):\n",
    "    if x%i==0:\n",
    "        print(i)"
   ]
  },
  {
   "cell_type": "code",
   "execution_count": null,
   "id": "965d49c1",
   "metadata": {},
   "outputs": [],
   "source": [
    "#"
   ]
  },
  {
   "cell_type": "code",
   "execution_count": null,
   "id": "a71e05a0",
   "metadata": {},
   "outputs": [],
   "source": []
  }
 ],
 "metadata": {
  "kernelspec": {
   "display_name": "Python 3 (ipykernel)",
   "language": "python",
   "name": "python3"
  },
  "language_info": {
   "codemirror_mode": {
    "name": "ipython",
    "version": 3
   },
   "file_extension": ".py",
   "mimetype": "text/x-python",
   "name": "python",
   "nbconvert_exporter": "python",
   "pygments_lexer": "ipython3",
   "version": "3.9.7"
  }
 },
 "nbformat": 4,
 "nbformat_minor": 5
}
